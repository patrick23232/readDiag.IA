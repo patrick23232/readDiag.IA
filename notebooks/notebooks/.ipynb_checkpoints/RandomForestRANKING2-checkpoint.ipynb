{
 "cells": [
  {
   "cell_type": "markdown",
   "id": "1569a849",
   "metadata": {},
   "source": [
    "# Classificação por Floresta Aleatória (Random Forest)"
   ]
  },
  {
   "cell_type": "markdown",
   "id": "3342d0cc",
   "metadata": {},
   "source": [
    "A classificação por floresta aleatória é uma técnica de aprendizado de máquina que combina o poder da aleatoriedade com o poder da média para construir um modelo robusto de classificação. Ela opera criando múltiplas árvores de decisão durante o treinamento e fazendo previsões com base na maioria das previsões das árvores individuais.\n",
    "\n",
    "## Principais Características:\n",
    "- **Árvores de Decisão:** Cada árvore na floresta é construída a partir de uma amostra aleatória do conjunto de dados de treinamento. Isso ajuda a reduzir a correlação entre as árvores individuais, tornando o modelo mais robusto.\n",
    "\n",
    "- **Amostragem Aleatória de Características:** Durante a construção de cada árvore, apenas um subconjunto aleatório das características é considerado para dividir em cada nó da árvore. Isso introduz mais diversidade nas árvores e reduz a probabilidade de overfitting.\n",
    "\n",
    "- **Votação por Maioria:** Ao fazer previsões, cada árvore na floresta contribui com uma votação para determinar a classe final de um exemplo. A classe mais frequente entre todas as árvores é escolhida como a previsão final.\n",
    "\n",
    "## Vantagens:\n",
    "- **Robustez:** Averiguando várias árvores de decisão, o modelo é menos propenso a overfitting e tem uma melhor capacidade de generalização em dados de teste.\n",
    "\n",
    "- **Manuseio de Dados Não Lineares e de Alta Dimensão:** Pode lidar eficazmente com conjuntos de dados com muitas características e interações complexas entre elas.\n",
    "\n",
    "- **Fácil de Usar:** Requer pouca ou nenhuma sintonia de parâmetros e lida bem com dados ausentes.\n",
    "\n",
    "## Limitações:\n",
    "- **Interpretabilidade:** Às vezes, a floresta aleatória pode ser difícil de interpretar em comparação com modelos lineares simples.\n",
    "\n",
    "- **Desempenho em Dados Escaláveis:** Para conjuntos de dados muito grandes, o treinamento de uma floresta aleatória pode se tornar computacionalmente caro.\n",
    "\n",
    "## Aplicações:\n",
    "- **Classificação:** Prever a classe de um exemplo com base em suas características.\n",
    "\n",
    "A implementação da classificação por floresta aleatória no scikit-learn, utilizando RandomForestClassifier, oferece uma interface simples e poderosa para treinar e fazer previsões com este modelo."
   ]
  },
  {
   "cell_type": "markdown",
   "id": "2e810b25",
   "metadata": {},
   "source": [
    "Importando bibliotecas"
   ]
  },
  {
   "cell_type": "code",
   "execution_count": 1,
   "id": "47f73480",
   "metadata": {},
   "outputs": [],
   "source": [
    "import gsidiag as gd\n",
    "from datetime import datetime, timedelta\n",
    "import pandas as pd\n",
    "import matplotlib.pyplot as plt\n",
    "import csv\n",
    "import numpy as np"
   ]
  },
  {
   "cell_type": "code",
   "execution_count": 2,
   "id": "afb30182",
   "metadata": {},
   "outputs": [],
   "source": [
    "from sklearn.preprocessing import LabelBinarizer\n",
    "from sklearn.preprocessing import LabelEncoder\n",
    "\n",
    "from sklearn.model_selection import train_test_split\n",
    "\n",
    "from sklearn.ensemble import RandomForestClassifier\n",
    "from sklearn.ensemble import RandomForestRegressor\n",
    "\n",
    "from sklearn.metrics import confusion_matrix, classification_report\n",
    "from sklearn.metrics import roc_curve, auc\n",
    "from sklearn.metrics import RocCurveDisplay\n",
    "from sklearn.metrics._plot.precision_recall_curve import PrecisionRecallDisplay\n",
    "from sklearn.metrics import average_precision_score, precision_recall_curve\n",
    "from sklearn.preprocessing import label_binarize\n",
    "from sklearn.metrics import accuracy_score\n",
    "\n",
    "\n",
    "from itertools import combinations\n",
    "from itertools import cycle\n",
    "import seaborn as sns\n",
    "\n"
   ]
  },
  {
   "cell_type": "markdown",
   "id": "1357b191",
   "metadata": {},
   "source": [
    "Definindo parâmetros para o uso do readDiag"
   ]
  },
  {
   "cell_type": "code",
   "execution_count": 3,
   "id": "0806f6b0",
   "metadata": {},
   "outputs": [
    {
     "name": "stdout",
     "output_type": "stream",
     "text": [
      "['2020010100', '2020010106']\n"
     ]
    }
   ],
   "source": [
    "DIRdiag = \"/home/patrick/readDiag/data\"\n",
    "\n",
    "varName = \"amsua\"\n",
    "varType = \"n15\"\n",
    "dateIni=\"2020010100\" \n",
    "dateFin=\"2020010106\" \n",
    "nHour = \"6\"          \n",
    "vminOMA = -2.0       \n",
    "vmaxOMA = 2.0        \n",
    "vminSTD = 0.0        \n",
    "vmaxSTD = 14.0       \n",
    "Level = 1000\n",
    "Lay = None           \n",
    "SingleL = \"All\" \n",
    "\n",
    "datei = datetime.strptime(str(dateIni), \"%Y%m%d%H\")\n",
    "datef = datetime.strptime(str(dateFin), \"%Y%m%d%H\")\n",
    "dates = [dates.strftime('%Y%m%d%H') for dates in pd.date_range(datei, datef,freq=\"6H\").tolist()]\n",
    "\n",
    "print(dates)\n"
   ]
  },
  {
   "cell_type": "markdown",
   "id": "f5d45849",
   "metadata": {},
   "source": [
    "Encontrando e listando arquivos para serem usados"
   ]
  },
  {
   "cell_type": "code",
   "execution_count": 4,
   "id": "c313c705",
   "metadata": {},
   "outputs": [
    {
     "name": "stdout",
     "output_type": "stream",
     "text": [
      "['/home/patrick/readDiag/data/2020010100/diag_amsua_n15_01.2020010100', '/home/patrick/readDiag/data/2020010106/diag_amsua_n15_01.2020010106']\n",
      "\n",
      "['/home/patrick/readDiag/data/2020010100/diag_amsua_n15_03.2020010100', '/home/patrick/readDiag/data/2020010106/diag_amsua_n15_03.2020010106']\n"
     ]
    }
   ],
   "source": [
    "paths, pathsc = [], []\n",
    "\n",
    "OuterL = \"01\"        \n",
    "[paths.append(DIRdiag+\"/\"+dt+\"/diag_amsua_n15_\"+OuterL+\".\"+dt) for dt in dates]\n",
    "\n",
    "OuterLc = \"03\"\n",
    "[pathsc.append(DIRdiag+\"/\"+dt+\"/diag_amsua_n15_\"+OuterLc+\".\"+dt) for dt in dates]\n",
    "\n",
    "print(paths)\n",
    "print(\"\")\n",
    "print(pathsc)"
   ]
  },
  {
   "cell_type": "markdown",
   "id": "83c4bebe",
   "metadata": {},
   "source": [
    "Definição da função para discretizar os dados de impacto:"
   ]
  },
  {
   "cell_type": "code",
   "execution_count": 5,
   "id": "ded2ee17",
   "metadata": {},
   "outputs": [],
   "source": [
    "# Função que retorna a categoria:\n",
    "def categoria_de(valorRF):\n",
    "    categoria = None\n",
    "    if valorRF <= -0.25:\n",
    "        categoria = \"Impacto negativo alto\"\n",
    "    elif valorRF > -0.25 and valorRF < 0:\n",
    "        categoria = \"Impacto negativo baixo\"\n",
    "    elif valorRF == 0:\n",
    "        categoria = \"Impacto neutro\"\n",
    "    elif valorRF > 0 and valorRF < 0.25:\n",
    "        categoria = \"Impacto positivo baixo\"\n",
    "    elif valorRF >= 0.25:\n",
    "        categoria = \"Impacto positivo alto\"\n",
    "    return categoria"
   ]
  },
  {
   "cell_type": "code",
   "execution_count": 6,
   "id": "b64cdf0c",
   "metadata": {},
   "outputs": [],
   "source": [
    "def MatrizConfusao(YTEST, YPRED, CLASSES, TIPO):\n",
    "    # Computa a matriz de confusão\n",
    "    matriz_confusao = confusion_matrix(YTEST, YPRED)\n",
    "\n",
    "    # Imprime a matriz de confusão\n",
    "    print(f\"Matriz de Confusão para {TIPO}:\")\n",
    "    print(matriz_confusao)\n",
    "\n",
    "    # Calcula a soma de cada linha da matriz de confusão\n",
    "    sum_by_class = np.sum(matriz_confusao, axis=1)\n",
    "\n",
    "    # Normaliza a matriz de confusão\n",
    "    matriz_confusao_normalized = matriz_confusao / sum_by_class[:, np.newaxis]\n",
    "\n",
    "    # Plota a matriz de confusão normalizada\n",
    "    plt.figure(figsize=(8, 6))\n",
    "    sns.heatmap(matriz_confusao_normalized, annot=True, fmt=\".3f\", \n",
    "                cmap=\"Blues\", xticklabels=CLASSES, yticklabels=CLASSES)\n",
    "    plt.title(f\"Matriz de Confusão - {TIPO}\")\n",
    "    plt.xlabel(\"Valor Previsto\")\n",
    "    plt.ylabel(\"Valor Real\")\n",
    "    plt.savefig(f\"MatrizConfusao_{TIPO}.png\", facecolor='white')\n",
    "    plt.show()\n",
    "    \n",
    "    print(\"Função MatrizConfusao concluída!\")"
   ]
  },
  {
   "cell_type": "code",
   "execution_count": 7,
   "id": "25152fb5",
   "metadata": {},
   "outputs": [],
   "source": [
    "def FeatureImportance(MODELO, ATRIBUTOS, TIPO):\n",
    "    # Computa a importância dos atributos usando o método de diminuição da impureza (MDI)\n",
    "    importances = MODELO.feature_importances_\n",
    "    std = np.std([tree.feature_importances_ for tree in MODELO.estimators_], axis=0)\n",
    "    forest_importances = pd.Series(importances, index=ATRIBUTOS)\n",
    "\n",
    "    # Plota a importância dos atributos\n",
    "    fig, ax = plt.subplots()\n",
    "    forest_importances.plot.bar(yerr=std, ax=ax)\n",
    "    ax.set_title(f\"Importâncias dos recursos usando MDI - {TIPO}\")\n",
    "    ax.set_ylabel(\"Diminuição média na impureza\")\n",
    "    fig.tight_layout()\n",
    "    plt.savefig(f\"FeatureImportance_{TIPO}.png\", facecolor='white')\n",
    "    plt.show()\n",
    "    \n",
    "    print(\"Função FeatureImportance concluída!\")"
   ]
  },
  {
   "cell_type": "code",
   "execution_count": 8,
   "id": "6e581f21",
   "metadata": {},
   "outputs": [],
   "source": [
    "def train_test_pred_score_RFC(XIS, YPSILOM):\n",
    "    # Divisão dos dados em conjuntos de treinamento e teste    \n",
    "    X_TRAIN, X_TEST, Y_TRAIN, Y_TEST = train_test_split(XIS, YPSILOM, test_size=0.2, random_state=42)\n",
    "    print('Treino e Teste prontos')\n",
    "    print(separator)\n",
    "\n",
    "    # Inicialização e treinamento do modelo RandomForestClassifier\n",
    "    MODELO = RandomForestClassifier(n_estimators=100, random_state=42)\n",
    "    MODELO.fit(X_TRAIN, Y_TRAIN)\n",
    "    print('Modelo treinado!')\n",
    "    print(separator)\n",
    "\n",
    "    # Faz previsões usando o modelo treinado nos dados de teste\n",
    "    Y_PRED = MODELO.predict(X_TEST)\n",
    "    print('Previsões feitas!')\n",
    "    print(separator)\n",
    "\n",
    "    # Faz previsões de probabilidade usando o modelo treinado nos dados de teste\n",
    "    Y_SCORE = MODELO.predict_proba(X_TEST)\n",
    "    print('Previsões de probabilidade feitas!')\n",
    "    print(separator)\n",
    "    \n",
    "    print(\"Função train_test_pred_score_RFC concluída!\")\n",
    "    \n",
    "    return X_TRAIN, X_TEST, Y_TRAIN, Y_TEST, MODELO, Y_PRED, Y_SCORE"
   ]
  },
  {
   "cell_type": "markdown",
   "id": "6771b1b8",
   "metadata": {},
   "source": [
    "Lendo arquivos listado usando o readDiag e concatenando os dados"
   ]
  },
  {
   "cell_type": "code",
   "execution_count": 9,
   "id": "5a2d6284",
   "metadata": {},
   "outputs": [
    {
     "name": "stdout",
     "output_type": "stream",
     "text": [
      "\n",
      "Aguarde, o tempo total estimado para a leitura dos arquivos é de 0 minutos e 40 segundos.\n",
      "\n",
      "Reading /home/patrick/readDiag/data/2020010100/diag_amsua_n15_01.2020010100\n",
      " \n",
      ">>> GSI DIAG <<<\n",
      " \n",
      "Reading /home/patrick/readDiag/data/2020010106/diag_amsua_n15_01.2020010106\n",
      " \n",
      ">>> GSI DIAG <<<\n",
      " \n",
      "[<gsidiag.__main__.read_diag object at 0x7fde3b9592d0>, <gsidiag.__main__.read_diag object at 0x7fde3c037a50>]\n"
     ]
    }
   ],
   "source": [
    "# Define uma variável booleana 'read' como True para indicar que a leitura dos arquivos será realizada\n",
    "read = True\n",
    "\n",
    "# Verifica se 'read' é True para prosseguir com a leitura dos arquivos\n",
    "if read:        \n",
    "    # Inicializa uma lista vazia para armazenar os objetos gdf\n",
    "    gdf_list = []\n",
    "    # Imprime uma mensagem informando o tempo estimado necessário para a leitura dos arquivos\n",
    "    print(\"\")\n",
    "    print(\"Aguarde, o tempo total estimado para a leitura dos arquivos é de \"+\n",
    "          str(int((float(len(paths))*20 )/60))+\" minutos e \"+\n",
    "          str(int((float(len(paths))*20 )%60))+\" segundos.\")\n",
    "    print(\"\")\n",
    "    # Itera sobre os caminhos dos arquivos e seus caminhos de configuração correspondentes\n",
    "    for path, pathc in zip(paths,pathsc):\n",
    "        # Imprime uma mensagem indicando o arquivo que está sendo lido\n",
    "        print(\"Reading \"+path)\n",
    "        # Lê o arquivo usando a função read_diag do módulo gsidiag e armazena o objeto retornado em gdf\n",
    "        gdf = gd.read_diag(path,pathc)\n",
    "        # Adiciona o objeto gdf à lista gdf_list\n",
    "        gdf_list.append(gdf)\n",
    "\n",
    "    # Imprime a lista de objetos gdf lidos\n",
    "    print(gdf_list)\n",
    "    \n",
    "    # Define uma string separadora para uso posterior\n",
    "    separator = \" =====================================================================================================\"\n"
   ]
  },
  {
   "cell_type": "code",
   "execution_count": 10,
   "id": "33337787",
   "metadata": {},
   "outputs": [
    {
     "name": "stdout",
     "output_type": "stream",
     "text": [
      " =====================================================================================================\n",
      "Separando dados do arquivo/home/patrick/readDiag/data/2020010100/diag_amsua_n15_01.2020010100\n",
      " =====================================================================================================\n",
      "Separando dados do arquivo/home/patrick/readDiag/data/2020010106/diag_amsua_n15_01.2020010106\n"
     ]
    }
   ],
   "source": [
    "# Inicialização de DataFrame vazio para armazenar dados concatenados\n",
    "df_concatenado2 = pd.DataFrame()\n",
    "\n",
    "# Iteração sobre objetos em gdf_list\n",
    "for objeto in gdf_list:\n",
    "        \n",
    "    print(separator)\n",
    "    print(\"Separando dados do arquivo\" + str(objeto._diagFile))\n",
    "    \n",
    "    # Criação de dicionário de dados a partir do objeto   \n",
    "    dados_dict = {\n",
    "            'lat': objeto.obsInfo[varName].loc[varType].lat,\n",
    "            'lon': objeto.obsInfo[varName].loc[varType].lon,\n",
    "            'elev': objeto.obsInfo[varName].loc[varType].elev,\n",
    "            'nchan': objeto.obsInfo[varName].loc[varType].nchan,\n",
    "            'time': objeto.obsInfo[varName].loc[varType].time,\n",
    "            'iuse': objeto.obsInfo[varName].loc[varType].iuse,\n",
    "            'idqc': objeto.obsInfo[varName].loc[varType].idqc,\n",
    "            'inverr': objeto.obsInfo[varName].loc[varType].inverr,\n",
    "            'oer': objeto.obsInfo[varName].loc[varType].oer,\n",
    "            'obs': objeto.obsInfo[varName].loc[varType].obs,\n",
    "            'omf': objeto.obsInfo[varName].loc[varType].omf,\n",
    "            'omf_nobc': objeto.obsInfo[varName].loc[varType].omf_nobc,\n",
    "            'emiss': objeto.obsInfo[varName].loc[varType].emiss,\n",
    "            'oma': objeto.obsInfo[varName].loc[varType].oma,\n",
    "            'oma_nobc': objeto.obsInfo[varName].loc[varType].oma_nobc,\n",
    "            'imp': objeto.obsInfo[varName].loc[varType].imp,\n",
    "            'dfs': objeto.obsInfo[varName].loc[varType].dfs\n",
    "            }\n",
    "        \n",
    "    # Conversão do dicionário em DataFrame\n",
    "    df_objeto = pd.DataFrame(dados_dict)\n",
    "    \n",
    "    # Aplicação da função 'categoria_de' para criar a coluna 'imp_categ'\n",
    "    df_objeto['imp_categ'] = df_objeto['imp'].apply(categoria_de)\n",
    "        \n",
    "    # Concatenação do DataFrame do objeto com o DataFrame concatenado\n",
    "    df_concatenado2 = pd.concat([df_concatenado2, df_objeto], ignore_index=True)\n",
    "    "
   ]
  },
  {
   "cell_type": "code",
   "execution_count": 11,
   "id": "a0fc5b92",
   "metadata": {},
   "outputs": [
    {
     "name": "stdout",
     "output_type": "stream",
     "text": [
      "              lat         lon         elev  nchan      time  iuse  idqc  \\\n",
      "5      -87.504501   19.704599  2735.045410    6.0  0.315833  -1.0  -0.0   \n",
      "6      -87.504501   19.704599  2735.045410    7.0  0.315833   1.0   0.0   \n",
      "7      -87.504501   19.704599  2735.045410    8.0  0.315833   1.0   0.0   \n",
      "8      -87.504501   19.704599  2735.045410    9.0  0.315833   1.0   0.0   \n",
      "9      -87.504501   19.704599  2735.045410   10.0  0.315833   1.0   0.0   \n",
      "...           ...         ...          ...    ...       ...   ...   ...   \n",
      "209947  77.502502  358.795105    -0.108379    8.0  1.952778   1.0   0.0   \n",
      "209948  77.502502  358.795105    -0.108379    9.0  1.952778   1.0   0.0   \n",
      "209949  77.502502  358.795105    -0.108379   10.0  1.952778   1.0   0.0   \n",
      "209951  77.502502  358.795105    -0.108379   12.0  1.952778   1.0   0.0   \n",
      "209952  77.502502  358.795105    -0.108379   13.0  1.952778   1.0   0.0   \n",
      "\n",
      "          inverr       oer         obs       omf  omf_nobc     emiss  \\\n",
      "5       3.557238  0.281441  232.509995  0.047819  1.396376  0.785835   \n",
      "6       3.996653  0.250215  231.679993 -0.077042  0.997890  0.785957   \n",
      "7       3.636355  0.275001  232.139999  0.023001  0.634220  0.786082   \n",
      "8       2.941170  0.340001  234.500000 -0.086228  0.141502  0.786483   \n",
      "9       2.499979  0.400003  237.699997  0.199955  0.774818  0.786483   \n",
      "...          ...       ...         ...       ...       ...       ...   \n",
      "209947  3.636359  0.275000  201.979996 -0.396553 -0.476590  0.872832   \n",
      "209948  2.941168  0.340001  194.210007 -0.313287 -0.364771  0.874212   \n",
      "209949  2.499973  0.400004  190.679993 -0.418757 -0.316275  0.874212   \n",
      "209951  0.999784  1.000214  199.119995 -0.166651  0.586314  0.874212   \n",
      "209952  0.665929  1.501647  217.080002 -0.561209  1.817874  0.874212   \n",
      "\n",
      "             oma  oma_nobc       imp       dfs               imp_categ  \n",
      "5       0.002342  1.313053 -0.008105 -0.007727  Impacto negativo baixo  \n",
      "6      -0.099744  0.969402  0.016040  0.006990  Impacto positivo baixo  \n",
      "7       0.004765  0.610703 -0.001841 -0.001525  Impacto negativo baixo  \n",
      "8      -0.097860  0.114162  0.006298  0.002950  Impacto positivo baixo  \n",
      "9       0.172721  0.729627 -0.025374 -0.013614  Impacto negativo baixo  \n",
      "...          ...       ...       ...       ...                     ...  \n",
      "209947 -0.210560 -0.297567 -0.410613 -0.268203   Impacto negativo alto  \n",
      "209948  0.040100  0.012307 -0.283942 -0.325621   Impacto negativo alto  \n",
      "209949  0.038911  0.142930 -0.434604 -0.479124   Impacto negativo alto  \n",
      "209951  0.321933  1.217219  0.075852 -0.081405  Impacto positivo baixo  \n",
      "209952  0.328142  2.455488 -0.138034 -0.332377  Impacto negativo baixo  \n",
      "\n",
      "[95474 rows x 18 columns]\n",
      " =====================================================================================================\n"
     ]
    }
   ],
   "source": [
    "# Remoção de linhas com valores NaN\n",
    "df_concatenado2.dropna(inplace=True)\n",
    "\n",
    "# Filtrando os canais sub-representados\n",
    "df_concatenado2 = df_concatenado2[~df_concatenado2['nchan'].isin([1, 2, 3, 4, 5, 15])]\n",
    "\n",
    "print(df_concatenado2)\n",
    "\n",
    "print(separator)\n",
    "    \n",
    "# Lista de atributos a serem usados para treinamento\n",
    "#atributos = ['omf', 'oma', 'dfs', 'imp']\n",
    "atributos = ['lat','lon','elev','time',\n",
    "             'idqc','obs','omf','omf_nobc',\n",
    "             'emiss','oma','oma_nobc','imp','dfs']\n",
    "\n",
    "\n",
    "# Define as classes do target discretizado para uso posterior\n",
    "classes = ['6','7','8','9','10','12','13']\n",
    "\n",
    "X = df_concatenado2[atributos]\n",
    "y = df_concatenado2['nchan']"
   ]
  },
  {
   "cell_type": "code",
   "execution_count": 12,
   "id": "ee61150e",
   "metadata": {},
   "outputs": [
    {
     "name": "stdout",
     "output_type": "stream",
     "text": [
      "                            dfs                                          \\\n",
      "nchan                       6.0       7.0       8.0       9.0      10.0   \n",
      "lat        lon                                                            \n",
      "-87.523804 298.361603  0.031081 -0.039069  0.027618 -0.034395 -0.001559   \n",
      "-87.504501 19.704599  -0.007727  0.006990 -0.001525  0.002950 -0.013614   \n",
      "-87.493202 254.576904  0.034968  0.013145 -0.002379  0.025087  0.018040   \n",
      "-87.491898 46.805698   0.005527 -0.001519 -0.020106 -0.006633  0.000301   \n",
      "-87.463799 233.130493  0.007995 -0.041775  0.002829 -0.013485  0.047977   \n",
      "...                         ...       ...       ...       ...       ...   \n",
      " 86.764297 194.937698  0.000000  0.076505  0.007803 -0.021363  0.021056   \n",
      " 86.812897 212.812607  0.000000  0.108389  0.031038 -0.024636 -0.035145   \n",
      " 86.838997 95.867996   0.000000  0.036911  0.014776 -0.028459 -0.003111   \n",
      " 86.926300 149.013702  0.000000 -0.010454 -0.049940 -0.043989 -0.086170   \n",
      " 86.963997 258.552002  0.000000 -0.010932  0.003193 -0.000108 -0.000085   \n",
      "\n",
      "                                                imp                      \\\n",
      "nchan                      12.0      13.0       6.0       7.0       8.0   \n",
      "lat        lon                                                            \n",
      "-87.523804 298.361603  0.000661 -0.062666  0.073114 -0.060837  0.080762   \n",
      "-87.504501 19.704599   0.050466 -0.033836 -0.008105  0.016040 -0.001841   \n",
      "-87.493202 254.576904  0.009801 -0.044189  0.076993  0.034998  0.010388   \n",
      "-87.491898 46.805698   0.003271  0.120956  0.011217 -0.002424 -0.039500   \n",
      "-87.463799 233.130493 -0.019838  0.076701  0.022834 -0.072720  0.026336   \n",
      "...                         ...       ...       ...       ...       ...   \n",
      " 86.764297 194.937698 -0.347088 -1.223836  0.000000  0.181429  0.026136   \n",
      " 86.812897 212.812607 -0.253858 -0.322508  0.000000  0.248455  0.069018   \n",
      " 86.838997 95.867996  -0.214317 -0.245832  0.000000  0.118839  0.033123   \n",
      " 86.926300 149.013702 -0.418200 -0.339500  0.000000 -0.004667 -0.082034   \n",
      " 86.963997 258.552002 -0.162681 -1.297960  0.000000  0.009583  0.008635   \n",
      "\n",
      "                                                              canal_maior_dfs  \\\n",
      "nchan                       9.0      10.0      12.0      13.0                   \n",
      "lat        lon                                                                  \n",
      "-87.523804 298.361603 -0.034009  0.020899  0.012473 -0.090464             6.0   \n",
      "-87.504501 19.704599   0.006298 -0.025374  0.150416 -0.026127            12.0   \n",
      "-87.493202 254.576904  0.077601  0.053741  0.041272 -0.075305             6.0   \n",
      "-87.491898 46.805698  -0.012624  0.000645  0.049274  0.287751            13.0   \n",
      "-87.463799 233.130493  0.010919  0.115447 -0.017641  0.162207            13.0   \n",
      "...                         ...       ...       ...       ...             ...   \n",
      " 86.764297 194.937698 -0.033676  0.056714 -0.550144 -1.832025             7.0   \n",
      " 86.812897 212.812607 -0.045095 -0.063606 -0.184984  0.541319             7.0   \n",
      " 86.838997 95.867996  -0.043760  0.016618 -0.236549 -0.237538             7.0   \n",
      " 86.926300 149.013702 -0.050221 -0.046481 -0.570303 -0.416065             6.0   \n",
      " 86.963997 258.552002  0.000139 -0.000168 -0.079506 -1.730047             8.0   \n",
      "\n",
      "                      canal_maior_imp  \n",
      "nchan                                  \n",
      "lat        lon                         \n",
      "-87.523804 298.361603             8.0  \n",
      "-87.504501 19.704599             12.0  \n",
      "-87.493202 254.576904             9.0  \n",
      "-87.491898 46.805698             13.0  \n",
      "-87.463799 233.130493            13.0  \n",
      "...                               ...  \n",
      " 86.764297 194.937698             7.0  \n",
      " 86.812897 212.812607            13.0  \n",
      " 86.838997 95.867996              7.0  \n",
      " 86.926300 149.013702             6.0  \n",
      " 86.963997 258.552002             7.0  \n",
      "\n",
      "[13997 rows x 16 columns]\n"
     ]
    }
   ],
   "source": [
    "# Supondo que você tenha um DataFrame chamado df com as colunas 'lat', 'lon', 'nchan' e 'imp'\n",
    "\n",
    "# Crie uma coluna 'linha' que combina 'lat' e 'lon' para representar a linha\n",
    "df_concatenado2['linha'] = df_concatenado2['lat'].astype(str) + '_' + df_concatenado2['lon'].astype(str)\n",
    "\n",
    "# Use pivot_table() para pivotar os dados\n",
    "df_pivot = df_concatenado2.pivot_table(index=('lat', 'lon'), columns='nchan', values=('imp', 'dfs'), aggfunc='sum')\n",
    "\n",
    "# Resetando o índice para manter 'linha' como uma coluna\n",
    "df_pivot.reset_index(inplace=False)\n",
    "\n",
    "# Se precisar substituir NaN por 0, faça assim\n",
    "df_pivot.fillna(0, inplace=True)\n",
    "\n",
    "# Lista de colunas que contêm os valores de DFS para cada canal\n",
    "cols_dfs = [('dfs', 6.0), ('dfs', 7.0), ('dfs', 8.0), ('dfs', 9.0), ('dfs', 10.0), ('dfs', 12.0), ('dfs', 13.0)]\n",
    "\n",
    "# Encontrar o canal com o maior valor de DFS em cada linha\n",
    "df_pivot['canal_maior_dfs'] = df_pivot[cols_dfs].idxmax(axis=1).str[1]\n",
    "\n",
    "# Lista de colunas que contêm os valores de imp para cada canal\n",
    "cols_imp = [('imp', 6.0), ('imp', 7.0), ('imp', 8.0), ('imp', 9.0), ('imp', 10.0), ('imp', 12.0), ('imp', 13.0)]\n",
    "\n",
    "# Encontrar o canal com o maior valor de imp em cada linha\n",
    "df_pivot['canal_maior_imp'] = df_pivot[cols_imp].idxmax(axis=1).str[1]\n",
    "\n",
    "print(df_pivot)"
   ]
  },
  {
   "cell_type": "code",
   "execution_count": 13,
   "id": "fc9d16c5",
   "metadata": {},
   "outputs": [
    {
     "name": "stdout",
     "output_type": "stream",
     "text": [
      "MultiIndex([(            'dfs',  6.0),\n",
      "            (            'dfs',  7.0),\n",
      "            (            'dfs',  8.0),\n",
      "            (            'dfs',  9.0),\n",
      "            (            'dfs', 10.0),\n",
      "            (            'dfs', 12.0),\n",
      "            (            'dfs', 13.0),\n",
      "            (            'imp',  6.0),\n",
      "            (            'imp',  7.0),\n",
      "            (            'imp',  8.0),\n",
      "            (            'imp',  9.0),\n",
      "            (            'imp', 10.0),\n",
      "            (            'imp', 12.0),\n",
      "            (            'imp', 13.0),\n",
      "            ('canal_maior_dfs',   ''),\n",
      "            ('canal_maior_imp',   '')],\n",
      "           names=[None, 'nchan'])\n"
     ]
    }
   ],
   "source": [
    "print(df_pivot.columns)\n"
   ]
  },
  {
   "cell_type": "code",
   "execution_count": 17,
   "id": "0d335d1f",
   "metadata": {},
   "outputs": [
    {
     "name": "stderr",
     "output_type": "stream",
     "text": [
      "/home/patrick/anaconda3/envs/readDiag/lib/python3.7/site-packages/sklearn/utils/validation.py:1692: FutureWarning: Feature names only support names that are all strings. Got feature names with dtypes: ['tuple']. An error will be raised in 1.2.\n",
      "  FutureWarning,\n"
     ]
    },
    {
     "name": "stdout",
     "output_type": "stream",
     "text": [
      "                      canal_maior_dfs canal_maior_imp\n",
      "nchan                                                \n",
      "lat        lon                                       \n",
      "-48.868900 76.778397              7.0             7.0\n",
      "-46.320900 345.686188             9.0             6.0\n",
      " 11.394600 66.584503              8.0             8.0\n",
      "-39.566002 94.140404             13.0            13.0\n",
      " 9.671100  28.360201              6.0             6.0\n",
      "...                               ...             ...\n",
      "-25.532801 304.586395             6.0             6.0\n",
      " 29.314100 346.059692             9.0             6.0\n",
      " 51.606400 260.436096            12.0            12.0\n",
      " 51.446400 162.309402             8.0            12.0\n",
      " 67.170700 139.998795             6.0             6.0\n",
      "\n",
      "[2800 rows x 2 columns]\n",
      "Channels classified based on predictions for 'dfs':\n",
      "6.0     758\n",
      "7.0     367\n",
      "9.0     348\n",
      "13.0    346\n",
      "12.0    345\n",
      "10.0    339\n",
      "8.0     297\n",
      "dtype: int64\n",
      "\n",
      "Channels classified based on predictions for 'imp':\n",
      "6.0     591\n",
      "13.0    511\n",
      "12.0    393\n",
      "7.0     344\n",
      "10.0    328\n",
      "9.0     325\n",
      "8.0     308\n",
      "dtype: int64\n"
     ]
    },
    {
     "name": "stderr",
     "output_type": "stream",
     "text": [
      "/home/patrick/anaconda3/envs/readDiag/lib/python3.7/site-packages/sklearn/utils/validation.py:1692: FutureWarning: Feature names only support names that are all strings. Got feature names with dtypes: ['tuple']. An error will be raised in 1.2.\n",
      "  FutureWarning,\n"
     ]
    }
   ],
   "source": [
    "from sklearn.model_selection import train_test_split\n",
    "from sklearn.ensemble import RandomForestClassifier\n",
    "\n",
    "# 1. Preparação dos Dados\n",
    "X = df_pivot[['imp', 'dfs']]\n",
    "y = df_pivot[['canal_maior_dfs', 'canal_maior_imp']]\n",
    "\n",
    "# 2. Divisão dos Dados\n",
    "X_train, X_test, y_train, y_test = train_test_split(X, y, test_size=0.2, random_state=42)\n",
    "\n",
    "# 3. Escolha e Treinamento do Modelo\n",
    "model = RandomForestClassifier()\n",
    "model.fit(X_train, y_train)\n",
    "\n",
    "# Calculate predictions on the test set\n",
    "y_pred = model.predict(X_test)\n",
    "\n",
    "print(y_test)\n",
    "\n",
    "# y_test dataframe\n",
    "y_test_dfs = pd.Series(y_test.iloc[:, 0])\n",
    "y_test_imp = pd.Series(y_test.iloc[:, 0])\n",
    "\n",
    "# Convertendo o array numpy em uma série pandas\n",
    "y_pred_series1 = pd.Series(y_pred[:, 0])  # Supondo que você queira contar as repetições do primeiro elemento de cada linha\n",
    "y_pred_series2 = pd.Series(y_pred[:, 1])\n",
    "\n",
    "# Contando as repetições e imprimindo a ordem\n",
    "repeticoes1 = y_pred_series1.value_counts()\n",
    "repeticoes2 = y_pred_series2.value_counts()\n",
    "\n",
    "# Visualize the channels classified based on the predictions\n",
    "print(\"Channels classified based on predictions for 'dfs':\")\n",
    "print(repeticoes1)\n",
    "\n",
    "print(\"\\nChannels classified based on predictions for 'imp':\")\n",
    "print(repeticoes2)\n"
   ]
  },
  {
   "cell_type": "code",
   "execution_count": 18,
   "id": "4a5d9bf1",
   "metadata": {},
   "outputs": [
    {
     "data": {
      "image/png": "[encoded data removed]",
      "text/plain": [
       "<Figure size 432x288 with 2 Axes>"
      ]
     },
     "metadata": {
      "needs_background": "light"
     },
     "output_type": "display_data"
    }
   ],
   "source": [
    "import matplotlib.pyplot as plt\n",
    "\n",
    "# Dados para 'dfs'\n",
    "channels_dfs = {\n",
    "    6.0: 754,\n",
    "    7.0: 353,\n",
    "    13.0: 350,\n",
    "    9.0: 348,\n",
    "    12.0: 344,\n",
    "    10.0: 335,\n",
    "    8.0: 316\n",
    "}\n",
    "\n",
    "# Dados para 'imp' (supondo que sejam os mesmos)\n",
    "channels_imp = {\n",
    "    6.0: 591,\n",
    "    13.0: 511,\n",
    "    12.0: 393,\n",
    "    7.0: 344,\n",
    "    10.0: 328,\n",
    "    9.0: 325,\n",
    "    8.0: 308\n",
    "}\n",
    "\n",
    "# Criando as figuras e os eixos\n",
    "fig, axs = plt.subplots(2)\n",
    "\n",
    "# Plotando os dados para 'dfs'\n",
    "axs[0].bar(channels_dfs.keys(), channels_dfs.values())\n",
    "axs[0].set_title(\"Channels classified based on predictions for 'dfs'\")\n",
    "axs[0].set_xlabel(\"Channel\")\n",
    "axs[0].set_ylabel(\"Count\")\n",
    "\n",
    "# Plotando os dados para 'imp'\n",
    "axs[1].bar(channels_imp.keys(), channels_imp.values())\n",
    "axs[1].set_title(\"Channels classified based on predictions for 'imp'\")\n",
    "axs[1].set_xlabel(\"Channel\")\n",
    "axs[1].set_ylabel(\"Count\")\n",
    "\n",
    "# Ajustando o layout\n",
    "plt.tight_layout()\n",
    "\n",
    "# Exibindo o gráfico\n",
    "plt.show()"
   ]
  },
  {
   "cell_type": "code",
   "execution_count": 22,
   "id": "5427a296",
   "metadata": {},
   "outputs": [
    {
     "name": "stdout",
     "output_type": "stream",
     "text": [
      "Matriz de Confusão para:\n",
      "[[702   6   3   7   2   4   0]\n",
      " [ 11 330   5   9   3   7   4]\n",
      " [  5   7 269   6   5   3   3]\n",
      " [  4   7   9 310   8   6   1]\n",
      " [ 12   2   6   7 317   6   3]\n",
      " [ 11   6   3   9   3 315   2]\n",
      " [ 13   9   2   0   1   4 333]]\n"
     ]
    },
    {
     "data": {
      "image/png": "[encoded data removed]",
      "text/plain": [
       "<Figure size 576x432 with 2 Axes>"
      ]
     },
     "metadata": {
      "needs_background": "light"
     },
     "output_type": "display_data"
    },
    {
     "name": "stdout",
     "output_type": "stream",
     "text": [
      "Função MatrizConfusao concluída!\n",
      "Matriz de Confusão para:\n",
      "[[555   7   3   3   4   5   7]\n",
      " [  9 323  10   9   7   5   3]\n",
      " [  3   3 283   4   9   7   2]\n",
      " [  7   3   5 297   3   9  11]\n",
      " [  7   2   3   3 300   3   4]\n",
      " [  7   3   2   4   4 358   8]\n",
      " [  3   3   2   5   1   6 476]]\n"
     ]
    },
    {
     "data": {
      "image/png": "[encoded data removed]",
      "text/plain": [
       "<Figure size 576x432 with 2 Axes>"
      ]
     },
     "metadata": {
      "needs_background": "light"
     },
     "output_type": "display_data"
    },
    {
     "name": "stdout",
     "output_type": "stream",
     "text": [
      "Função MatrizConfusao concluída!\n"
     ]
    }
   ],
   "source": [
    "def MatrizConfusao(YTEST, YPRED, CLASSES):\n",
    "    # Computa a matriz de confusão\n",
    "    matriz_confusao = confusion_matrix(YTEST, YPRED)\n",
    "\n",
    "    # Imprime a matriz de confusão\n",
    "    print(f\"Matriz de Confusão para:\")\n",
    "    print(matriz_confusao)\n",
    "\n",
    "    # Calcula a soma de cada linha da matriz de confusão\n",
    "    sum_by_class = np.sum(matriz_confusao, axis=1)\n",
    "\n",
    "    # Normaliza a matriz de confusão\n",
    "    matriz_confusao_normalized = matriz_confusao / sum_by_class[:, np.newaxis]\n",
    "\n",
    "    # Plota a matriz de confusão normalizada\n",
    "    plt.figure(figsize=(8, 6))\n",
    "    sns.heatmap(matriz_confusao_normalized, annot=True, fmt=\".3f\", \n",
    "                cmap=\"Blues\", xticklabels=CLASSES, yticklabels=CLASSES)\n",
    "    plt.title(f\"Matriz de Confusão\")\n",
    "    plt.xlabel(\"Valor Previsto\")\n",
    "    plt.ylabel(\"Valor Real\")\n",
    "    plt.savefig(f\"MatrizConfusao.png\", facecolor='white')\n",
    "    plt.show()\n",
    "    \n",
    "    print(\"Função MatrizConfusao concluída!\")\n",
    "    \n",
    "classes = ['6','7','8','9','10','12','13']\n",
    "MatrizConfusao(y_test.iloc[:, 0], y_pred_series1, classes)\n",
    "MatrizConfusao(y_test.iloc[:, 1], y_pred_series2, classes)"
   ]
  },
  {
   "cell_type": "code",
   "execution_count": 23,
   "id": "f8409c60",
   "metadata": {},
   "outputs": [
    {
     "name": "stdout",
     "output_type": "stream",
     "text": [
      "\n",
      "Relatório de Classificação DFS:\n",
      "              precision    recall  f1-score   support\n",
      "\n",
      "         6.0       0.93      0.97      0.95       724\n",
      "         7.0       0.90      0.89      0.90       369\n",
      "         8.0       0.91      0.90      0.90       298\n",
      "         9.0       0.89      0.90      0.89       345\n",
      "        10.0       0.94      0.90      0.92       353\n",
      "        12.0       0.91      0.90      0.91       349\n",
      "        13.0       0.96      0.92      0.94       362\n",
      "\n",
      "    accuracy                           0.92      2800\n",
      "   macro avg       0.92      0.91      0.92      2800\n",
      "weighted avg       0.92      0.92      0.92      2800\n",
      "\n",
      "\n",
      "Relatório de Classificação IMP:\n",
      "              precision    recall  f1-score   support\n",
      "\n",
      "         6.0       0.94      0.95      0.94       584\n",
      "         7.0       0.94      0.88      0.91       366\n",
      "         8.0       0.92      0.91      0.91       311\n",
      "         9.0       0.91      0.89      0.90       335\n",
      "        10.0       0.91      0.93      0.92       322\n",
      "        12.0       0.91      0.93      0.92       386\n",
      "        13.0       0.93      0.96      0.95       496\n",
      "\n",
      "    accuracy                           0.93      2800\n",
      "   macro avg       0.92      0.92      0.92      2800\n",
      "weighted avg       0.93      0.93      0.93      2800\n",
      "\n"
     ]
    }
   ],
   "source": [
    "# Gera e imprime o relatório de classificação, que inclui métricas como precisão, recall e F1-score\n",
    "relatorio_classificacao = classification_report(y_test.iloc[:, 0], y_pred_series1)\n",
    "print(\"\\nRelatório de Classificação DFS:\")\n",
    "print(relatorio_classificacao)\n",
    "\n",
    "# Gera e imprime o relatório de classificação, que inclui métricas como precisão, recall e F1-score\n",
    "relatorio_classificacao = classification_report(y_test.iloc[:, 1], y_pred_series2)\n",
    "print(\"\\nRelatório de Classificação IMP:\")\n",
    "print(relatorio_classificacao)\n"
   ]
  },
  {
   "cell_type": "code",
   "execution_count": null,
   "id": "21db47aa",
   "metadata": {},
   "outputs": [],
   "source": []
  }
 ],
 "metadata": {
  "kernelspec": {
   "display_name": "Python 3 (ipykernel)",
   "language": "python",
   "name": "python3"
  },
  "language_info": {
   "codemirror_mode": {
    "name": "ipython",
    "version": 3
   },
   "file_extension": ".py",
   "mimetype": "text/x-python",
   "name": "python",
   "nbconvert_exporter": "python",
   "pygments_lexer": "ipython3",
   "version": "3.7.6"
  }
 },
 "nbformat": 4,
 "nbformat_minor": 5
}
