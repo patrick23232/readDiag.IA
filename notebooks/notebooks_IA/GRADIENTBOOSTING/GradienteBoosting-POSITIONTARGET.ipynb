{
 "cells": [
  {
   "cell_type": "markdown",
   "id": "0c2d16f4",
   "metadata": {},
   "source": [
    "# Gradient Boosting"
   ]
  },
  {
   "cell_type": "markdown",
   "id": "74939bae",
   "metadata": {},
   "source": [
    "O Gradient Boosting é uma técnica de aprendizado de máquina baseada em ensemble que constrói um modelo preditivo forte a partir de uma coleção de modelos preditivos fracos. A ideia central é combinar vários estimadores simples (geralmente árvores de decisão rasas) sequencialmente, onde cada novo modelo é treinado para corrigir os erros do modelo anterior.\n",
    "\n",
    "## Funcionamento:\n",
    "- **Inicialização:** Inicialmente, o algoritmo ajusta um modelo simples aos dados de treinamento. Isso pode ser um modelo constante (por exemplo, a média das respostas) ou um modelo simples, como uma árvore de decisão com poucas divisões.\n",
    "\n",
    "- **Iteração:** Em cada iteração subsequente, o algoritmo ajusta um novo modelo para os resíduos (diferença entre as previsões atuais e os rótulos verdadeiros) do modelo anterior. O objetivo é minimizar os resíduos residuais.\n",
    "\n",
    "- **Combinação de Modelos:** Os modelos são combinados aditivamente, o que significa que as previsões finais são obtidas somando as previsões de todos os modelos individuais.\n",
    "\n",
    "## Gradiente Descendente:\n",
    "O termo \"gradiente\" em Gradient Boosting refere-se ao uso do gradiente da função de perda (loss function) em relação às previsões do modelo. O algoritmo ajusta cada modelo subsequente na direção do gradiente negativo da função de perda, tentando reduzir a perda global.\n",
    "\n",
    "## Regularização:\n",
    "Para evitar overfitting, é comum aplicar regularização durante o treinamento do Gradient Boosting. Isso pode ser feito limitando o número de iterações (número de modelos no ensemble), ajustando a taxa de aprendizado (learning rate) ou usando árvores de decisão rasas (evitando árvores profundas que podem se ajustar muito bem aos dados de treinamento).\n",
    "\n",
    "## Implementação no scikit-learn:\n",
    "O GradientBoostingClassifier do scikit-learn é uma implementação eficiente e fácil de usar do Gradient Boosting para tarefas de classificação. Ele permite configurar diversos hiperparâmetros, como o número de estimadores (número de modelos no ensemble), a profundidade máxima das árvores de decisão, a taxa de aprendizado, entre outros.\n",
    "\n",
    "## Vantagens:\n",
    "- **Poder Preditivo:** O Gradient Boosting geralmente produz modelos com alta precisão devido à sua capacidade de ajustar modelos complexos.\n",
    "\n",
    "- **Flexibilidade:** Pode ser aplicado a uma variedade de problemas de aprendizado supervisionado e é robusto a outliers e ruído nos dados.\n",
    "\n",
    "## Limitações:\n",
    "- **Sensibilidade a Hiperparâmetros:** O desempenho do Gradient Boosting pode depender fortemente da escolha dos hiperparâmetros, como a taxa de aprendizado e o número de estimadores.\n",
    "\n",
    "- **Computacionalmente Intensivo:** Treinar um Gradient Boosting pode ser computacionalmente caro, especialmente com um grande número de estimadores.\n"
   ]
  },
  {
   "cell_type": "markdown",
   "id": "2e810b25",
   "metadata": {},
   "source": [
    "Importando bibliotecas"
   ]
  },
  {
   "cell_type": "code",
   "execution_count": 1,
   "id": "47f73480",
   "metadata": {},
   "outputs": [],
   "source": [
    "import gsidiag as gd\n",
    "from datetime import datetime, timedelta\n",
    "import pandas as pd\n",
    "import matplotlib.pyplot as plt\n",
    "import csv\n",
    "import numpy as np"
   ]
  },
  {
   "cell_type": "code",
   "execution_count": 2,
   "id": "afb30182",
   "metadata": {},
   "outputs": [],
   "source": [
    "from sklearn.preprocessing import LabelBinarizer\n",
    "from sklearn.preprocessing import LabelEncoder\n",
    "\n",
    "from sklearn.model_selection import train_test_split\n",
    "\n",
    "from sklearn.ensemble import GradientBoostingClassifier\n",
    "from sklearn.ensemble import GradientBoostingRegressor\n",
    "\n",
    "from sklearn.metrics import confusion_matrix, classification_report\n",
    "from sklearn.metrics import mean_absolute_error, mean_squared_error, r2_score\n",
    "from sklearn.metrics import roc_curve, auc\n",
    "from sklearn.metrics import RocCurveDisplay\n",
    "\n",
    "from itertools import combinations\n",
    "import seaborn as sns\n"
   ]
  },
  {
   "cell_type": "markdown",
   "id": "1357b191",
   "metadata": {},
   "source": [
    "Definindo parâmetros para o uso do readDiag"
   ]
  },
  {
   "cell_type": "code",
   "execution_count": 3,
   "id": "0806f6b0",
   "metadata": {},
   "outputs": [
    {
     "name": "stdout",
     "output_type": "stream",
     "text": [
      "['2020010100', '2020010106']\n"
     ]
    }
   ],
   "source": [
    "DIRdiag = \"/mnt/d/ftp1.cptec.inpe.br/pesquisa/das/joao.gerd/EXP18/GSI/dataout\"\n",
    "\n",
    "varName = \"amsua\"\n",
    "varType = \"n15\"\n",
    "dateIni=\"2020010100\" \n",
    "dateFin=\"2020010106\" \n",
    "nHour = \"6\"          \n",
    "vminOMA = -2.0       \n",
    "vmaxOMA = 2.0        \n",
    "vminSTD = 0.0        \n",
    "vmaxSTD = 14.0       \n",
    "Level = 1000\n",
    "Lay = None           \n",
    "SingleL = \"All\" \n",
    "\n",
    "datei = datetime.strptime(str(dateIni), \"%Y%m%d%H\")\n",
    "datef = datetime.strptime(str(dateFin), \"%Y%m%d%H\")\n",
    "dates = [dates.strftime('%Y%m%d%H') for dates in pd.date_range(datei, datef,freq=\"6H\").tolist()]\n",
    "\n",
    "print(dates)\n"
   ]
  },
  {
   "cell_type": "markdown",
   "id": "f5d45849",
   "metadata": {},
   "source": [
    "Encontrando e listando arquivos para serem usados"
   ]
  },
  {
   "cell_type": "code",
   "execution_count": 4,
   "id": "c313c705",
   "metadata": {},
   "outputs": [
    {
     "name": "stdout",
     "output_type": "stream",
     "text": [
      "['/home/patrick/readDiag/data/2020010100/diag_amsua_n15_01.2020010100', '/home/patrick/readDiag/data/2020010106/diag_amsua_n15_01.2020010106']\n",
      "\n",
      "['/home/patrick/readDiag/data/2020010100/diag_amsua_n15_03.2020010100', '/home/patrick/readDiag/data/2020010106/diag_amsua_n15_03.2020010106']\n"
     ]
    }
   ],
   "source": [
    "paths, pathsc = [], []\n",
    "\n",
    "OuterL = \"01\"        \n",
    "[paths.append(DIRdiag+\"/\"+dt+\"/diag_amsua_n15_\"+OuterL+\".\"+dt) for dt in dates]\n",
    "\n",
    "OuterLc = \"03\"\n",
    "[pathsc.append(DIRdiag+\"/\"+dt+\"/diag_amsua_n15_\"+OuterLc+\".\"+dt) for dt in dates]\n",
    "\n",
    "print(paths)\n",
    "print(\"\")\n",
    "print(pathsc)"
   ]
  },
  {
   "cell_type": "markdown",
   "id": "6771b1b8",
   "metadata": {},
   "source": [
    "Lendo arquivos listado usando o readDiag e concatenando os dados"
   ]
  },
  {
   "cell_type": "code",
   "execution_count": 5,
   "id": "f9981ab7",
   "metadata": {},
   "outputs": [
    {
     "name": "stdout",
     "output_type": "stream",
     "text": [
      "\n",
      "Aguarde, o tempo total estimado para a leitura dos arquivos é de 0 minutos e 40 segundos.\n",
      "\n",
      "Reading /home/patrick/readDiag/data/2020010100/diag_amsua_n15_01.2020010100\n",
      " \n",
      ">>> GSI DIAG <<<\n",
      " \n",
      "Reading /home/patrick/readDiag/data/2020010106/diag_amsua_n15_01.2020010106\n",
      " \n",
      ">>> GSI DIAG <<<\n",
      " \n",
      "[<gsidiag.__main__.read_diag object at 0x7fa7206b6190>, <gsidiag.__main__.read_diag object at 0x7fa72096e310>]\n"
     ]
    }
   ],
   "source": [
    "# Define uma variável booleana 'read' como True para indicar que a leitura dos arquivos será realizada\n",
    "read = True\n",
    "\n",
    "# Verifica se 'read' é True para prosseguir com a leitura dos arquivos\n",
    "if read:        \n",
    "    # Inicializa uma lista vazia para armazenar os objetos gdf\n",
    "    gdf_list = []\n",
    "    # Imprime uma mensagem informando o tempo estimado necessário para a leitura dos arquivos\n",
    "    print(\"\")\n",
    "    print(\"Aguarde, o tempo total estimado para a leitura dos arquivos é de \"+\n",
    "          str(int((float(len(paths))*20 )/60))+\" minutos e \"+\n",
    "          str(int((float(len(paths))*20 )%60))+\" segundos.\")\n",
    "    print(\"\")\n",
    "    # Itera sobre os caminhos dos arquivos e seus caminhos de configuração correspondentes\n",
    "    for path, pathc in zip(paths,pathsc):\n",
    "        # Imprime uma mensagem indicando o arquivo que está sendo lido\n",
    "        print(\"Reading \"+path)\n",
    "        # Lê o arquivo usando a função read_diag do módulo gsidiag e armazena o objeto retornado em gdf\n",
    "        gdf = gd.read_diag(path,pathc)\n",
    "        # Adiciona o objeto gdf à lista gdf_list\n",
    "        gdf_list.append(gdf)\n",
    "\n",
    "    # Imprime a lista de objetos gdf lidos\n",
    "    print(gdf_list)\n",
    "    \n",
    "    # Define uma string separadora para uso posterior\n",
    "    separator = \" =====================================================================================================\"\n"
   ]
  },
  {
   "cell_type": "markdown",
   "id": "83c4bebe",
   "metadata": {},
   "source": [
    "Definição da função para discretizar os dados de impacto:"
   ]
  },
  {
   "cell_type": "code",
   "execution_count": 6,
   "id": "ded2ee17",
   "metadata": {},
   "outputs": [],
   "source": [
    "# Função que retorna a categoria:\n",
    "def categoria_de(valorRF):\n",
    "    categoria = None\n",
    "    if valorRF <= -0.25:\n",
    "        categoria = \"Impacto negativo alto\"\n",
    "    elif valorRF > -0.25 and valorRF < 0:\n",
    "        categoria = \"Impacto negativo baixo\"\n",
    "    elif valorRF == 0:\n",
    "        categoria = \"Impacto neutro\"\n",
    "    elif valorRF > 0 and valorRF < 0.25:\n",
    "        categoria = \"Impacto positivo baixo\"\n",
    "    elif valorRF >= 0.25:\n",
    "        categoria = \"Impacto positivo alto\"\n",
    "    return categoria"
   ]
  },
  {
   "cell_type": "code",
   "execution_count": 7,
   "id": "33337787",
   "metadata": {},
   "outputs": [
    {
     "name": "stdout",
     "output_type": "stream",
     "text": [
      " =====================================================================================================\n",
      "Separando dados do arquivo/home/patrick/readDiag/data/2020010100/diag_amsua_n15_01.2020010100\n",
      " =====================================================================================================\n",
      "Separando dados do arquivo/home/patrick/readDiag/data/2020010106/diag_amsua_n15_01.2020010106\n"
     ]
    }
   ],
   "source": [
    "# Inicialização de DataFrame vazio para armazenar dados concatenados\n",
    "df_concatenado2 = pd.DataFrame()\n",
    "\n",
    "# Iteração sobre objetos em gdf_list\n",
    "for objeto in gdf_list:\n",
    "        \n",
    "    print(separator)\n",
    "    print(\"Separando dados do arquivo\" + str(objeto._diagFile))\n",
    "        \n",
    "    # Criação de dicionário de dados a partir do objeto\n",
    "    dados_dict = {\n",
    "            'lat': objeto.obsInfo[varName].loc[varType].lat,\n",
    "            'lon': objeto.obsInfo[varName].loc[varType].lon,\n",
    "            'elev': objeto.obsInfo[varName].loc[varType].elev,\n",
    "            'nchan': objeto.obsInfo[varName].loc[varType].nchan,\n",
    "            'time': objeto.obsInfo[varName].loc[varType].time,\n",
    "            'iuse': objeto.obsInfo[varName].loc[varType].iuse,\n",
    "            'idqc': objeto.obsInfo[varName].loc[varType].idqc,\n",
    "            'inverr': objeto.obsInfo[varName].loc[varType].inverr,\n",
    "            'oer': objeto.obsInfo[varName].loc[varType].oer,\n",
    "            'obs': objeto.obsInfo[varName].loc[varType].obs,\n",
    "            'omf': objeto.obsInfo[varName].loc[varType].omf,\n",
    "            'omf_nobc': objeto.obsInfo[varName].loc[varType].omf_nobc,\n",
    "            'emiss': objeto.obsInfo[varName].loc[varType].emiss,\n",
    "            'oma': objeto.obsInfo[varName].loc[varType].oma,\n",
    "            'oma_nobc': objeto.obsInfo[varName].loc[varType].oma_nobc,\n",
    "            'imp': objeto.obsInfo[varName].loc[varType].imp,\n",
    "            'dfs': objeto.obsInfo[varName].loc[varType].dfs\n",
    "            }\n",
    "        \n",
    "    # Conversão do dicionário em DataFrame\n",
    "    df_objeto = pd.DataFrame(dados_dict)\n",
    "        \n",
    "    # Concatenação do DataFrame do objeto com o DataFrame concatenado\n",
    "    df_concatenado2 = pd.concat([df_concatenado2, df_objeto], ignore_index=True)\n",
    "    "
   ]
  },
  {
   "cell_type": "code",
   "execution_count": 8,
   "id": "71192f58",
   "metadata": {},
   "outputs": [
    {
     "name": "stdout",
     "output_type": "stream",
     "text": [
      "              lat         lon         elev  nchan      time  iuse  idqc  \\\n",
      "5      -87.504501   19.704599  2735.045410    6.0  0.315833  -1.0  -0.0   \n",
      "6      -87.504501   19.704599  2735.045410    7.0  0.315833   1.0   0.0   \n",
      "7      -87.504501   19.704599  2735.045410    8.0  0.315833   1.0   0.0   \n",
      "8      -87.504501   19.704599  2735.045410    9.0  0.315833   1.0   0.0   \n",
      "9      -87.504501   19.704599  2735.045410   10.0  0.315833   1.0   0.0   \n",
      "...           ...         ...          ...    ...       ...   ...   ...   \n",
      "209947  77.502502  358.795105    -0.108379    8.0  1.952778   1.0   0.0   \n",
      "209948  77.502502  358.795105    -0.108379    9.0  1.952778   1.0   0.0   \n",
      "209949  77.502502  358.795105    -0.108379   10.0  1.952778   1.0   0.0   \n",
      "209951  77.502502  358.795105    -0.108379   12.0  1.952778   1.0   0.0   \n",
      "209952  77.502502  358.795105    -0.108379   13.0  1.952778   1.0   0.0   \n",
      "\n",
      "          inverr       oer         obs       omf  omf_nobc     emiss  \\\n",
      "5       3.557238  0.281441  232.509995  0.047819  1.396376  0.785835   \n",
      "6       3.996653  0.250215  231.679993 -0.077042  0.997890  0.785957   \n",
      "7       3.636355  0.275001  232.139999  0.023001  0.634220  0.786082   \n",
      "8       2.941170  0.340001  234.500000 -0.086228  0.141502  0.786483   \n",
      "9       2.499979  0.400003  237.699997  0.199955  0.774818  0.786483   \n",
      "...          ...       ...         ...       ...       ...       ...   \n",
      "209947  3.636359  0.275000  201.979996 -0.396553 -0.476590  0.872832   \n",
      "209948  2.941168  0.340001  194.210007 -0.313287 -0.364771  0.874212   \n",
      "209949  2.499973  0.400004  190.679993 -0.418757 -0.316275  0.874212   \n",
      "209951  0.999784  1.000214  199.119995 -0.166651  0.586314  0.874212   \n",
      "209952  0.665929  1.501647  217.080002 -0.561209  1.817874  0.874212   \n",
      "\n",
      "             oma  oma_nobc       imp       dfs               imp_categ  \n",
      "5       0.002342  1.313053 -0.008105 -0.007727  Impacto negativo baixo  \n",
      "6      -0.099744  0.969402  0.016040  0.006990  Impacto positivo baixo  \n",
      "7       0.004765  0.610703 -0.001841 -0.001525  Impacto negativo baixo  \n",
      "8      -0.097860  0.114162  0.006298  0.002950  Impacto positivo baixo  \n",
      "9       0.172721  0.729627 -0.025374 -0.013614  Impacto negativo baixo  \n",
      "...          ...       ...       ...       ...                     ...  \n",
      "209947 -0.210560 -0.297567 -0.410613 -0.268203   Impacto negativo alto  \n",
      "209948  0.040100  0.012307 -0.283942 -0.325621   Impacto negativo alto  \n",
      "209949  0.038911  0.142930 -0.434604 -0.479124   Impacto negativo alto  \n",
      "209951  0.321933  1.217219  0.075852 -0.081405  Impacto positivo baixo  \n",
      "209952  0.328142  2.455488 -0.138034 -0.332377  Impacto negativo baixo  \n",
      "\n",
      "[95474 rows x 18 columns]\n",
      " =====================================================================================================\n",
      "Treino e Teste prontos\n",
      " =====================================================================================================\n"
     ]
    }
   ],
   "source": [
    "# Remoção de linhas com valores NaN\n",
    "df_concatenado2.dropna(inplace=True)\n",
    "    \n",
    "# Filtrando os canais sub-representados\n",
    "df_concatenado2 = df_concatenado2[~df_concatenado2['nchan'].isin([1, 2, 3, 4, 5, 15])]\n",
    "\n",
    "print(df_concatenado2)\n",
    "\n",
    "print(separator)\n",
    "    \n",
    "# Lista de atributos a serem usados para treinamento\n",
    "atributos = ['nchan','omf', 'oma']\n",
    "\n",
    "# Define as classes para a matriz de confusão\n",
    "classes = ['6','7','8','9','10','12','13']\n",
    "\n",
    "# Divisão dos dados em conjuntos de treinamento e teste\n",
    "X = df_concatenado2[atributos]\n",
    "y = df_concatenado2['position']\n",
    "X_train, X_test, y_train, y_test = train_test_split(X, y, test_size=0.2, random_state=42)\n",
    "    \n",
    "print('Treino e Teste prontos')\n",
    "print(separator)"
   ]
  },
  {
   "cell_type": "code",
   "execution_count": 9,
   "id": "12748d2b",
   "metadata": {},
   "outputs": [
    {
     "name": "stdout",
     "output_type": "stream",
     "text": [
      "Acurácia: 0.24498559832416864\n",
      "Matriz de Confusão:\n",
      "[[511 645 555 296 188  51  10]\n",
      " [423 964 824 394 165  25   9]\n",
      " [426 842 930 422 201  19   7]\n",
      " [397 570 727 573 499  52  25]\n",
      " [378 447 581 598 697  84  43]\n",
      " [379 359 502 169 447 511 374]\n",
      " [417 441 640  90 268 428 492]]\n"
     ]
    },
    {
     "data": {
      "image/png": "[encoded data removed]",
      "text/plain": [
       "<Figure size 576x432 with 2 Axes>"
      ]
     },
     "metadata": {
      "needs_background": "light"
     },
     "output_type": "display_data"
    },
    {
     "name": "stdout",
     "output_type": "stream",
     "text": [
      "\n",
      "Relatório de Classificação:\n",
      "              precision    recall  f1-score   support\n",
      "\n",
      "         6.0       0.17      0.23      0.20      2256\n",
      "         7.0       0.23      0.34      0.27      2804\n",
      "         8.0       0.20      0.33      0.24      2847\n",
      "         9.0       0.23      0.20      0.21      2843\n",
      "        10.0       0.28      0.25      0.26      2828\n",
      "        12.0       0.44      0.19      0.26      2741\n",
      "        13.0       0.51      0.18      0.26      2776\n",
      "\n",
      "    accuracy                           0.24     19095\n",
      "   macro avg       0.29      0.24      0.25     19095\n",
      "weighted avg       0.30      0.24      0.25     19095\n",
      "\n"
     ]
    }
   ],
   "source": [
    "# Inicializa e treina o classificador GradientBoostingClassifier com os parâmetros especificados\n",
    "clf = GradientBoostingClassifier(n_estimators=100, learning_rate=1.0,\n",
    "    max_depth=5, random_state=0).fit(X_train, y_train)\n",
    "\n",
    "# Faz previsões usando o classificador treinado\n",
    "y_pred = clf.predict(X_test)\n",
    "\n",
    "# Calcula e imprime a acurácia do modelo\n",
    "score = clf.score(X_test, y_test)\n",
    "print(\"Acurácia:\", score)\n",
    "\n",
    "# Computa a matriz de confusão\n",
    "matriz_confusao = confusion_matrix(y_test, y_pred)\n",
    "\n",
    "# Imprime a matriz de confusão\n",
    "print(\"Matriz de Confusão:\")\n",
    "print(matriz_confusao)\n",
    "\n",
    "# Calcula a soma de cada linha da matriz de confusão\n",
    "sum_by_class = np.sum(matriz_confusao, axis=1)\n",
    "\n",
    "# Normaliza a matriz de confusão\n",
    "matriz_confusao_normalized = matriz_confusao / sum_by_class[:, np.newaxis]\n",
    "\n",
    "# Plota a matriz de confusão normalizada\n",
    "plt.figure(figsize=(8, 6))\n",
    "sns.heatmap(matriz_confusao_normalized, annot=True, fmt=\".3f\", \n",
    "            cmap=\"Blues\", xticklabels=classes, yticklabels=classes)\n",
    "plt.title(\"Matriz de Confusão - GBC - Todos canais\")\n",
    "plt.xlabel(\"Valor Previsto\")\n",
    "plt.ylabel(\"Valor Real\")\n",
    "plt.savefig(\"MatrizConfusao_All_Ch.png\", facecolor='white')\n",
    "plt.show()\n",
    "\n",
    "# Gera e imprime o relatório de classificação, que inclui métricas como precisão, recall e F1-score\n",
    "relatorio_classificacao = classification_report(y_test, y_pred)\n",
    "print(f\"\\nRelatório de Classificação:\")\n",
    "print(relatorio_classificacao)\n"
   ]
  },
  {
   "cell_type": "code",
   "execution_count": 10,
   "id": "ee7b2cef",
   "metadata": {},
   "outputs": [
    {
     "name": "stdout",
     "output_type": "stream",
     "text": [
      "Treino e Teste prontos\n",
      " =====================================================================================================\n"
     ]
    }
   ],
   "source": [
    "# Lista de atributos a serem usados para treinamento\n",
    "atributos = ['lat','lon','elev','time','iuse',\n",
    "             'idqc','inverr','oer','obs','omf','omf_nobc',\n",
    "             'emiss','oma','oma_nobc','imp','dfs']\n",
    "\n",
    "\n",
    "# Define as classes para a matriz de confusão\n",
    "classes = ['6','7','8','9','10','12','13']\n",
    "\n",
    "# Divisão dos dados em conjuntos de treinamento e teste\n",
    "X = df_concatenado2[atributos]\n",
    "y = df_concatenado2['nchan']\n",
    "X_train, X_test, y_train, y_test = train_test_split(X, y, test_size=0.2, random_state=42)\n",
    "    \n",
    "print('Treino e Teste prontos')\n",
    "print(separator)"
   ]
  },
  {
   "cell_type": "code",
   "execution_count": 11,
   "id": "c0748cd0",
   "metadata": {},
   "outputs": [
    {
     "name": "stdout",
     "output_type": "stream",
     "text": [
      "Acurácia: 0.9999476302697041\n",
      "Matriz de Confusão:\n",
      "[[2255    0    0    0    1    0    0]\n",
      " [   0 2804    0    0    0    0    0]\n",
      " [   0    0 2847    0    0    0    0]\n",
      " [   0    0    0 2843    0    0    0]\n",
      " [   0    0    0    0 2828    0    0]\n",
      " [   0    0    0    0    0 2741    0]\n",
      " [   0    0    0    0    0    0 2776]]\n"
     ]
    },
    {
     "data": {
      "image/png": "[encoded data removed]",
      "text/plain": [
       "<Figure size 576x432 with 2 Axes>"
      ]
     },
     "metadata": {
      "needs_background": "light"
     },
     "output_type": "display_data"
    },
    {
     "name": "stdout",
     "output_type": "stream",
     "text": [
      "\n",
      "Relatório de Classificação:\n",
      "              precision    recall  f1-score   support\n",
      "\n",
      "         6.0       1.00      1.00      1.00      2256\n",
      "         7.0       1.00      1.00      1.00      2804\n",
      "         8.0       1.00      1.00      1.00      2847\n",
      "         9.0       1.00      1.00      1.00      2843\n",
      "        10.0       1.00      1.00      1.00      2828\n",
      "        12.0       1.00      1.00      1.00      2741\n",
      "        13.0       1.00      1.00      1.00      2776\n",
      "\n",
      "    accuracy                           1.00     19095\n",
      "   macro avg       1.00      1.00      1.00     19095\n",
      "weighted avg       1.00      1.00      1.00     19095\n",
      "\n"
     ]
    }
   ],
   "source": [
    "# Inicializa e treina o classificador GradientBoostingClassifier com os parâmetros especificados\n",
    "clf = GradientBoostingClassifier(n_estimators=100, learning_rate=1.0,\n",
    "    max_depth=5, random_state=0).fit(X_train, y_train)\n",
    "\n",
    "# Faz previsões usando o classificador treinado\n",
    "y_pred = clf.predict(X_test)\n",
    "\n",
    "# Calcula e imprime a acurácia do modelo\n",
    "score = clf.score(X_test, y_test)\n",
    "print(\"Acurácia:\", score)\n",
    "\n",
    "# Computa a matriz de confusão\n",
    "matriz_confusao = confusion_matrix(y_test, y_pred)\n",
    "\n",
    "# Imprime a matriz de confusão\n",
    "print(\"Matriz de Confusão:\")\n",
    "print(matriz_confusao)\n",
    "\n",
    "# Calcula a soma de cada linha da matriz de confusão\n",
    "sum_by_class = np.sum(matriz_confusao, axis=1)\n",
    "\n",
    "# Normaliza a matriz de confusão\n",
    "matriz_confusao_normalized = matriz_confusao / sum_by_class[:, np.newaxis]\n",
    "\n",
    "# Plota a matriz de confusão normalizada\n",
    "plt.figure(figsize=(8, 6))\n",
    "sns.heatmap(matriz_confusao_normalized, annot=True, fmt=\".3f\", \n",
    "            cmap=\"Blues\", xticklabels=classes, yticklabels=classes)\n",
    "plt.title(\"Matriz de Confusão - GBC - Todos canais\")\n",
    "plt.xlabel(\"Valor Previsto\")\n",
    "plt.ylabel(\"Valor Real\")\n",
    "plt.savefig(\"MatrizConfusao_All_Ch.png\", facecolor='white')\n",
    "plt.show()\n",
    "\n",
    "# Gera e imprime o relatório de classificação, que inclui métricas como precisão, recall e F1-score\n",
    "relatorio_classificacao = classification_report(y_test, y_pred)\n",
    "print(f\"\\nRelatório de Classificação:\")\n",
    "print(relatorio_classificacao)\n"
   ]
  }
 ],
 "metadata": {
  "kernelspec": {
   "display_name": "Python 3 (ipykernel)",
   "language": "python",
   "name": "python3"
  },
  "language_info": {
   "codemirror_mode": {
    "name": "ipython",
    "version": 3
   },
   "file_extension": ".py",
   "mimetype": "text/x-python",
   "name": "python",
   "nbconvert_exporter": "python",
   "pygments_lexer": "ipython3",
   "version": "3.7.6"
  }
 },
 "nbformat": 4,
 "nbformat_minor": 5
}
