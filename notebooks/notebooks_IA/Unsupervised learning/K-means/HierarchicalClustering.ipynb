{
 "cells": [
  {
   "cell_type": "markdown",
   "id": "1569a849",
   "metadata": {},
   "source": [
    "# Clustering - Kmeans"
   ]
  },
  {
   "cell_type": "markdown",
   "id": "2e810b25",
   "metadata": {},
   "source": [
    "Importando bibliotecas"
   ]
  },
  {
   "cell_type": "code",
   "execution_count": 1,
   "id": "47f73480",
   "metadata": {},
   "outputs": [],
   "source": [
    "import gsidiag as gd\n",
    "from datetime import datetime, timedelta\n",
    "import pandas as pd\n",
    "import matplotlib.pyplot as plt\n",
    "import numpy as np\n",
    "import seaborn as sns"
   ]
  },
  {
   "cell_type": "markdown",
   "id": "a83f7008-ea82-41d2-87b8-439f0134ff22",
   "metadata": {},
   "source": [
    "# Uso do ReadDiag para carregamento dos dados"
   ]
  },
  {
   "cell_type": "markdown",
   "id": "1357b191",
   "metadata": {},
   "source": [
    "Definindo parâmetros para o uso do readDiag"
   ]
  },
  {
   "cell_type": "code",
   "execution_count": 2,
   "id": "0806f6b0",
   "metadata": {},
   "outputs": [
    {
     "name": "stdout",
     "output_type": "stream",
     "text": [
      "['2020010100', '2020010106', '2020010112', '2020010118', '2020010200', '2020010206', '2020010212', '2020010218', '2020010300', '2020010306', '2020010312', '2020010318', '2020010400', '2020010406', '2020010412', '2020010418', '2020010500', '2020010506']\n"
     ]
    }
   ],
   "source": [
    "#DIRdiag = \"/home/patrick/readDiag/data\"\n",
    "DIRdiag = \"/mnt/d/ftp1.cptec.inpe.br/pesquisa/das/joao.gerd/EXP18/GSI/dataout\"\n",
    "#D:\\ftp1.cptec.inpe.br\\pesquisa\\das\\joao.gerd\\EXP18\\GSI\\dataout\n",
    "varName = \"amsua\"\n",
    "varType = \"n15\"\n",
    "dateIni=\"2020010100\" \n",
    "dateFin=\"2020010506\" \n",
    "nHour = \"6\"          \n",
    "vminOMA = -2.0       \n",
    "vmaxOMA = 2.0        \n",
    "vminSTD = 0.0        \n",
    "vmaxSTD = 14.0       \n",
    "Level = 1000\n",
    "Lay = None           \n",
    "SingleL = \"All\" \n",
    "\n",
    "datei = datetime.strptime(str(dateIni), \"%Y%m%d%H\")\n",
    "datef = datetime.strptime(str(dateFin), \"%Y%m%d%H\")\n",
    "dates = [dates.strftime('%Y%m%d%H') for dates in pd.date_range(datei, datef,freq=\"6H\").tolist()]\n",
    "\n",
    "print(dates)\n"
   ]
  },
  {
   "cell_type": "markdown",
   "id": "f5d45849",
   "metadata": {},
   "source": [
    "Encontrando e listando arquivos para serem usados"
   ]
  },
  {
   "cell_type": "code",
   "execution_count": 3,
   "id": "c313c705",
   "metadata": {},
   "outputs": [
    {
     "name": "stdout",
     "output_type": "stream",
     "text": [
      "['/mnt/d/ftp1.cptec.inpe.br/pesquisa/das/joao.gerd/EXP18/GSI/dataout/2020010100/diag_amsua_n15_01.2020010100', '/mnt/d/ftp1.cptec.inpe.br/pesquisa/das/joao.gerd/EXP18/GSI/dataout/2020010106/diag_amsua_n15_01.2020010106', '/mnt/d/ftp1.cptec.inpe.br/pesquisa/das/joao.gerd/EXP18/GSI/dataout/2020010112/diag_amsua_n15_01.2020010112', '/mnt/d/ftp1.cptec.inpe.br/pesquisa/das/joao.gerd/EXP18/GSI/dataout/2020010118/diag_amsua_n15_01.2020010118', '/mnt/d/ftp1.cptec.inpe.br/pesquisa/das/joao.gerd/EXP18/GSI/dataout/2020010200/diag_amsua_n15_01.2020010200', '/mnt/d/ftp1.cptec.inpe.br/pesquisa/das/joao.gerd/EXP18/GSI/dataout/2020010206/diag_amsua_n15_01.2020010206', '/mnt/d/ftp1.cptec.inpe.br/pesquisa/das/joao.gerd/EXP18/GSI/dataout/2020010212/diag_amsua_n15_01.2020010212', '/mnt/d/ftp1.cptec.inpe.br/pesquisa/das/joao.gerd/EXP18/GSI/dataout/2020010218/diag_amsua_n15_01.2020010218', '/mnt/d/ftp1.cptec.inpe.br/pesquisa/das/joao.gerd/EXP18/GSI/dataout/2020010300/diag_amsua_n15_01.2020010300', '/mnt/d/ftp1.cptec.inpe.br/pesquisa/das/joao.gerd/EXP18/GSI/dataout/2020010306/diag_amsua_n15_01.2020010306', '/mnt/d/ftp1.cptec.inpe.br/pesquisa/das/joao.gerd/EXP18/GSI/dataout/2020010312/diag_amsua_n15_01.2020010312', '/mnt/d/ftp1.cptec.inpe.br/pesquisa/das/joao.gerd/EXP18/GSI/dataout/2020010318/diag_amsua_n15_01.2020010318', '/mnt/d/ftp1.cptec.inpe.br/pesquisa/das/joao.gerd/EXP18/GSI/dataout/2020010400/diag_amsua_n15_01.2020010400', '/mnt/d/ftp1.cptec.inpe.br/pesquisa/das/joao.gerd/EXP18/GSI/dataout/2020010406/diag_amsua_n15_01.2020010406', '/mnt/d/ftp1.cptec.inpe.br/pesquisa/das/joao.gerd/EXP18/GSI/dataout/2020010412/diag_amsua_n15_01.2020010412', '/mnt/d/ftp1.cptec.inpe.br/pesquisa/das/joao.gerd/EXP18/GSI/dataout/2020010418/diag_amsua_n15_01.2020010418', '/mnt/d/ftp1.cptec.inpe.br/pesquisa/das/joao.gerd/EXP18/GSI/dataout/2020010500/diag_amsua_n15_01.2020010500', '/mnt/d/ftp1.cptec.inpe.br/pesquisa/das/joao.gerd/EXP18/GSI/dataout/2020010506/diag_amsua_n15_01.2020010506']\n",
      "\n",
      "['/mnt/d/ftp1.cptec.inpe.br/pesquisa/das/joao.gerd/EXP18/GSI/dataout/2020010100/diag_amsua_n15_03.2020010100', '/mnt/d/ftp1.cptec.inpe.br/pesquisa/das/joao.gerd/EXP18/GSI/dataout/2020010106/diag_amsua_n15_03.2020010106', '/mnt/d/ftp1.cptec.inpe.br/pesquisa/das/joao.gerd/EXP18/GSI/dataout/2020010112/diag_amsua_n15_03.2020010112', '/mnt/d/ftp1.cptec.inpe.br/pesquisa/das/joao.gerd/EXP18/GSI/dataout/2020010118/diag_amsua_n15_03.2020010118', '/mnt/d/ftp1.cptec.inpe.br/pesquisa/das/joao.gerd/EXP18/GSI/dataout/2020010200/diag_amsua_n15_03.2020010200', '/mnt/d/ftp1.cptec.inpe.br/pesquisa/das/joao.gerd/EXP18/GSI/dataout/2020010206/diag_amsua_n15_03.2020010206', '/mnt/d/ftp1.cptec.inpe.br/pesquisa/das/joao.gerd/EXP18/GSI/dataout/2020010212/diag_amsua_n15_03.2020010212', '/mnt/d/ftp1.cptec.inpe.br/pesquisa/das/joao.gerd/EXP18/GSI/dataout/2020010218/diag_amsua_n15_03.2020010218', '/mnt/d/ftp1.cptec.inpe.br/pesquisa/das/joao.gerd/EXP18/GSI/dataout/2020010300/diag_amsua_n15_03.2020010300', '/mnt/d/ftp1.cptec.inpe.br/pesquisa/das/joao.gerd/EXP18/GSI/dataout/2020010306/diag_amsua_n15_03.2020010306', '/mnt/d/ftp1.cptec.inpe.br/pesquisa/das/joao.gerd/EXP18/GSI/dataout/2020010312/diag_amsua_n15_03.2020010312', '/mnt/d/ftp1.cptec.inpe.br/pesquisa/das/joao.gerd/EXP18/GSI/dataout/2020010318/diag_amsua_n15_03.2020010318', '/mnt/d/ftp1.cptec.inpe.br/pesquisa/das/joao.gerd/EXP18/GSI/dataout/2020010400/diag_amsua_n15_03.2020010400', '/mnt/d/ftp1.cptec.inpe.br/pesquisa/das/joao.gerd/EXP18/GSI/dataout/2020010406/diag_amsua_n15_03.2020010406', '/mnt/d/ftp1.cptec.inpe.br/pesquisa/das/joao.gerd/EXP18/GSI/dataout/2020010412/diag_amsua_n15_03.2020010412', '/mnt/d/ftp1.cptec.inpe.br/pesquisa/das/joao.gerd/EXP18/GSI/dataout/2020010418/diag_amsua_n15_03.2020010418', '/mnt/d/ftp1.cptec.inpe.br/pesquisa/das/joao.gerd/EXP18/GSI/dataout/2020010500/diag_amsua_n15_03.2020010500', '/mnt/d/ftp1.cptec.inpe.br/pesquisa/das/joao.gerd/EXP18/GSI/dataout/2020010506/diag_amsua_n15_03.2020010506']\n"
     ]
    }
   ],
   "source": [
    "paths, pathsc = [], []\n",
    "\n",
    "OuterL = \"01\"        \n",
    "[paths.append(DIRdiag+\"/\"+dt+\"/diag_amsua_n15_\"+OuterL+\".\"+dt) for dt in dates]\n",
    "\n",
    "OuterLc = \"03\"\n",
    "[pathsc.append(DIRdiag+\"/\"+dt+\"/diag_amsua_n15_\"+OuterLc+\".\"+dt) for dt in dates]\n",
    "\n",
    "print(paths)\n",
    "print(\"\")\n",
    "print(pathsc)"
   ]
  },
  {
   "cell_type": "markdown",
   "id": "6771b1b8",
   "metadata": {},
   "source": [
    "Lendo arquivos listado usando o readDiag e concatenando os dados"
   ]
  },
  {
   "cell_type": "code",
   "execution_count": 4,
   "id": "5a2d6284",
   "metadata": {},
   "outputs": [
    {
     "name": "stdout",
     "output_type": "stream",
     "text": [
      "\n",
      "Aguarde, o tempo total estimado para a leitura dos arquivos é de 6 minutos e 0 segundos.\n",
      "\n",
      "Reading /mnt/d/ftp1.cptec.inpe.br/pesquisa/das/joao.gerd/EXP18/GSI/dataout/2020010100/diag_amsua_n15_01.2020010100\n",
      " \n",
      ">>> GSI DIAG <<<\n",
      " \n",
      "Reading /mnt/d/ftp1.cptec.inpe.br/pesquisa/das/joao.gerd/EXP18/GSI/dataout/2020010106/diag_amsua_n15_01.2020010106\n",
      " \n",
      ">>> GSI DIAG <<<\n",
      " \n",
      "Reading /mnt/d/ftp1.cptec.inpe.br/pesquisa/das/joao.gerd/EXP18/GSI/dataout/2020010112/diag_amsua_n15_01.2020010112\n",
      " \n",
      ">>> GSI DIAG <<<\n",
      " \n",
      "Reading /mnt/d/ftp1.cptec.inpe.br/pesquisa/das/joao.gerd/EXP18/GSI/dataout/2020010118/diag_amsua_n15_01.2020010118\n",
      " \n",
      ">>> GSI DIAG <<<\n",
      " \n",
      "Reading /mnt/d/ftp1.cptec.inpe.br/pesquisa/das/joao.gerd/EXP18/GSI/dataout/2020010200/diag_amsua_n15_01.2020010200\n",
      " \n",
      ">>> GSI DIAG <<<\n",
      " \n",
      "Reading /mnt/d/ftp1.cptec.inpe.br/pesquisa/das/joao.gerd/EXP18/GSI/dataout/2020010206/diag_amsua_n15_01.2020010206\n",
      " \n",
      ">>> GSI DIAG <<<\n",
      " \n",
      "Reading /mnt/d/ftp1.cptec.inpe.br/pesquisa/das/joao.gerd/EXP18/GSI/dataout/2020010212/diag_amsua_n15_01.2020010212\n",
      " \n",
      ">>> GSI DIAG <<<\n",
      " \n",
      "Reading /mnt/d/ftp1.cptec.inpe.br/pesquisa/das/joao.gerd/EXP18/GSI/dataout/2020010218/diag_amsua_n15_01.2020010218\n",
      " \n",
      ">>> GSI DIAG <<<\n",
      " \n",
      "Reading /mnt/d/ftp1.cptec.inpe.br/pesquisa/das/joao.gerd/EXP18/GSI/dataout/2020010300/diag_amsua_n15_01.2020010300\n",
      " \n",
      ">>> GSI DIAG <<<\n",
      " \n",
      "Reading /mnt/d/ftp1.cptec.inpe.br/pesquisa/das/joao.gerd/EXP18/GSI/dataout/2020010306/diag_amsua_n15_01.2020010306\n",
      " \n",
      ">>> GSI DIAG <<<\n",
      " \n",
      "Reading /mnt/d/ftp1.cptec.inpe.br/pesquisa/das/joao.gerd/EXP18/GSI/dataout/2020010312/diag_amsua_n15_01.2020010312\n",
      " \n",
      ">>> GSI DIAG <<<\n",
      " \n",
      "Reading /mnt/d/ftp1.cptec.inpe.br/pesquisa/das/joao.gerd/EXP18/GSI/dataout/2020010318/diag_amsua_n15_01.2020010318\n",
      " \n",
      ">>> GSI DIAG <<<\n",
      " \n",
      "Reading /mnt/d/ftp1.cptec.inpe.br/pesquisa/das/joao.gerd/EXP18/GSI/dataout/2020010400/diag_amsua_n15_01.2020010400\n",
      " \n",
      ">>> GSI DIAG <<<\n",
      " \n",
      "Reading /mnt/d/ftp1.cptec.inpe.br/pesquisa/das/joao.gerd/EXP18/GSI/dataout/2020010406/diag_amsua_n15_01.2020010406\n",
      " \n",
      ">>> GSI DIAG <<<\n",
      " \n",
      "Reading /mnt/d/ftp1.cptec.inpe.br/pesquisa/das/joao.gerd/EXP18/GSI/dataout/2020010412/diag_amsua_n15_01.2020010412\n",
      " \n",
      ">>> GSI DIAG <<<\n",
      " \n",
      "Reading /mnt/d/ftp1.cptec.inpe.br/pesquisa/das/joao.gerd/EXP18/GSI/dataout/2020010418/diag_amsua_n15_01.2020010418\n",
      " \n",
      ">>> GSI DIAG <<<\n",
      " \n",
      "Reading /mnt/d/ftp1.cptec.inpe.br/pesquisa/das/joao.gerd/EXP18/GSI/dataout/2020010500/diag_amsua_n15_01.2020010500\n",
      " \n",
      ">>> GSI DIAG <<<\n",
      " \n",
      "Reading /mnt/d/ftp1.cptec.inpe.br/pesquisa/das/joao.gerd/EXP18/GSI/dataout/2020010506/diag_amsua_n15_01.2020010506\n",
      " \n",
      ">>> GSI DIAG <<<\n",
      " \n",
      "[<gsidiag.__main__.read_diag object at 0x7f5717c90250>, <gsidiag.__main__.read_diag object at 0x7f57701c26d0>, <gsidiag.__main__.read_diag object at 0x7f5717c90190>, <gsidiag.__main__.read_diag object at 0x7f5717c905b0>, <gsidiag.__main__.read_diag object at 0x7f5717db5520>, <gsidiag.__main__.read_diag object at 0x7f5717c90280>, <gsidiag.__main__.read_diag object at 0x7f5717d45d30>, <gsidiag.__main__.read_diag object at 0x7f57322a16a0>, <gsidiag.__main__.read_diag object at 0x7f5717c90340>, <gsidiag.__main__.read_diag object at 0x7f5717f49310>, <gsidiag.__main__.read_diag object at 0x7f577021e5b0>, <gsidiag.__main__.read_diag object at 0x7f5717df4310>, <gsidiag.__main__.read_diag object at 0x7f57175a5ee0>, <gsidiag.__main__.read_diag object at 0x7f5717df41f0>, <gsidiag.__main__.read_diag object at 0x7f57701c2bb0>, <gsidiag.__main__.read_diag object at 0x7f5717df45b0>, <gsidiag.__main__.read_diag object at 0x7f57175a5b20>, <gsidiag.__main__.read_diag object at 0x7f570a688b20>]\n"
     ]
    }
   ],
   "source": [
    "# Define uma variável booleana 'read' como True para indicar que a leitura dos arquivos será realizada\n",
    "read = True\n",
    "\n",
    "# Verifica se 'read' é True para prosseguir com a leitura dos arquivos\n",
    "if read:        \n",
    "    # Inicializa uma lista vazia para armazenar os objetos gdf\n",
    "    gdf_list = []\n",
    "    # Imprime uma mensagem informando o tempo estimado necessário para a leitura dos arquivos\n",
    "    print(\"\")\n",
    "    print(\"Aguarde, o tempo total estimado para a leitura dos arquivos é de \"+\n",
    "          str(int((float(len(paths))*20 )/60))+\" minutos e \"+\n",
    "          str(int((float(len(paths))*20 )%60))+\" segundos.\")\n",
    "    print(\"\")\n",
    "    # Itera sobre os caminhos dos arquivos e seus caminhos de configuração correspondentes\n",
    "    for path, pathc in zip(paths,pathsc):\n",
    "        # Imprime uma mensagem indicando o arquivo que está sendo lido\n",
    "        print(\"Reading \"+path)\n",
    "        # Lê o arquivo usando a função read_diag do módulo gsidiag e armazena o objeto retornado em gdf\n",
    "        gdf = gd.read_diag(path,pathc)\n",
    "        # Adiciona o objeto gdf à lista gdf_list\n",
    "        gdf_list.append(gdf)\n",
    "\n",
    "    # Imprime a lista de objetos gdf lidos\n",
    "    print(gdf_list)\n",
    "    \n",
    "    # Define uma string separadora para uso posterior\n",
    "    separator = \" =====================================================================================================\"\n"
   ]
  },
  {
   "cell_type": "code",
   "execution_count": 5,
   "id": "33337787",
   "metadata": {},
   "outputs": [
    {
     "name": "stdout",
     "output_type": "stream",
     "text": [
      " =====================================================================================================\n",
      "Separando dados do arquivo/mnt/d/ftp1.cptec.inpe.br/pesquisa/das/joao.gerd/EXP18/GSI/dataout/2020010100/diag_amsua_n15_01.2020010100\n",
      " =====================================================================================================\n",
      "Separando dados do arquivo/mnt/d/ftp1.cptec.inpe.br/pesquisa/das/joao.gerd/EXP18/GSI/dataout/2020010106/diag_amsua_n15_01.2020010106\n",
      " =====================================================================================================\n",
      "Separando dados do arquivo/mnt/d/ftp1.cptec.inpe.br/pesquisa/das/joao.gerd/EXP18/GSI/dataout/2020010112/diag_amsua_n15_01.2020010112\n",
      " =====================================================================================================\n",
      "Separando dados do arquivo/mnt/d/ftp1.cptec.inpe.br/pesquisa/das/joao.gerd/EXP18/GSI/dataout/2020010118/diag_amsua_n15_01.2020010118\n",
      " =====================================================================================================\n",
      "Separando dados do arquivo/mnt/d/ftp1.cptec.inpe.br/pesquisa/das/joao.gerd/EXP18/GSI/dataout/2020010200/diag_amsua_n15_01.2020010200\n",
      " =====================================================================================================\n",
      "Separando dados do arquivo/mnt/d/ftp1.cptec.inpe.br/pesquisa/das/joao.gerd/EXP18/GSI/dataout/2020010206/diag_amsua_n15_01.2020010206\n",
      " =====================================================================================================\n",
      "Separando dados do arquivo/mnt/d/ftp1.cptec.inpe.br/pesquisa/das/joao.gerd/EXP18/GSI/dataout/2020010212/diag_amsua_n15_01.2020010212\n",
      " =====================================================================================================\n",
      "Separando dados do arquivo/mnt/d/ftp1.cptec.inpe.br/pesquisa/das/joao.gerd/EXP18/GSI/dataout/2020010218/diag_amsua_n15_01.2020010218\n",
      " =====================================================================================================\n",
      "Separando dados do arquivo/mnt/d/ftp1.cptec.inpe.br/pesquisa/das/joao.gerd/EXP18/GSI/dataout/2020010300/diag_amsua_n15_01.2020010300\n",
      " =====================================================================================================\n",
      "Separando dados do arquivo/mnt/d/ftp1.cptec.inpe.br/pesquisa/das/joao.gerd/EXP18/GSI/dataout/2020010306/diag_amsua_n15_01.2020010306\n",
      " =====================================================================================================\n",
      "Separando dados do arquivo/mnt/d/ftp1.cptec.inpe.br/pesquisa/das/joao.gerd/EXP18/GSI/dataout/2020010312/diag_amsua_n15_01.2020010312\n",
      " =====================================================================================================\n",
      "Separando dados do arquivo/mnt/d/ftp1.cptec.inpe.br/pesquisa/das/joao.gerd/EXP18/GSI/dataout/2020010318/diag_amsua_n15_01.2020010318\n",
      " =====================================================================================================\n",
      "Separando dados do arquivo/mnt/d/ftp1.cptec.inpe.br/pesquisa/das/joao.gerd/EXP18/GSI/dataout/2020010400/diag_amsua_n15_01.2020010400\n",
      " =====================================================================================================\n",
      "Separando dados do arquivo/mnt/d/ftp1.cptec.inpe.br/pesquisa/das/joao.gerd/EXP18/GSI/dataout/2020010406/diag_amsua_n15_01.2020010406\n",
      " =====================================================================================================\n",
      "Separando dados do arquivo/mnt/d/ftp1.cptec.inpe.br/pesquisa/das/joao.gerd/EXP18/GSI/dataout/2020010412/diag_amsua_n15_01.2020010412\n",
      " =====================================================================================================\n",
      "Separando dados do arquivo/mnt/d/ftp1.cptec.inpe.br/pesquisa/das/joao.gerd/EXP18/GSI/dataout/2020010418/diag_amsua_n15_01.2020010418\n",
      " =====================================================================================================\n",
      "Separando dados do arquivo/mnt/d/ftp1.cptec.inpe.br/pesquisa/das/joao.gerd/EXP18/GSI/dataout/2020010500/diag_amsua_n15_01.2020010500\n",
      " =====================================================================================================\n",
      "Separando dados do arquivo/mnt/d/ftp1.cptec.inpe.br/pesquisa/das/joao.gerd/EXP18/GSI/dataout/2020010506/diag_amsua_n15_01.2020010506\n"
     ]
    }
   ],
   "source": [
    "# Inicialização de DataFrame vazio para armazenar dados concatenados\n",
    "df_concatenado = pd.DataFrame()\n",
    "\n",
    "# Iteração sobre objetos em gdf_list\n",
    "for objeto in gdf_list:\n",
    "        \n",
    "    print(separator)\n",
    "    print(\"Separando dados do arquivo\" + str(objeto._diagFile))\n",
    "    \n",
    "    # Criação de dicionário de dados a partir do objeto   \n",
    "    dados_dict = {\n",
    "            'lat': objeto.obsInfo[varName].loc[varType].lat,\n",
    "            'lon': objeto.obsInfo[varName].loc[varType].lon,\n",
    "            'elev': objeto.obsInfo[varName].loc[varType].elev,\n",
    "            'nchan': objeto.obsInfo[varName].loc[varType].nchan,\n",
    "            'time': objeto.obsInfo[varName].loc[varType].time,\n",
    "            'iuse': objeto.obsInfo[varName].loc[varType].iuse,\n",
    "            'idqc': objeto.obsInfo[varName].loc[varType].idqc,\n",
    "            'inverr': objeto.obsInfo[varName].loc[varType].inverr,\n",
    "            'oer': objeto.obsInfo[varName].loc[varType].oer,\n",
    "            'obs': objeto.obsInfo[varName].loc[varType].obs,\n",
    "            'omf': objeto.obsInfo[varName].loc[varType].omf,\n",
    "            'omf_nobc': objeto.obsInfo[varName].loc[varType].omf_nobc,\n",
    "            'emiss': objeto.obsInfo[varName].loc[varType].emiss,\n",
    "            'oma': objeto.obsInfo[varName].loc[varType].oma,\n",
    "            'oma_nobc': objeto.obsInfo[varName].loc[varType].oma_nobc,\n",
    "            'imp': objeto.obsInfo[varName].loc[varType].imp,\n",
    "            'dfs': objeto.obsInfo[varName].loc[varType].dfs\n",
    "            }\n",
    "        \n",
    "    # Conversão do dicionário em DataFrame\n",
    "    df_objeto = pd.DataFrame(dados_dict)\n",
    "        \n",
    "    # Concatenação do DataFrame do objeto com o DataFrame concatenado\n",
    "    df_concatenado = pd.concat([df_concatenado, df_objeto], ignore_index=True)\n",
    "    "
   ]
  },
  {
   "cell_type": "code",
   "execution_count": 6,
   "id": "3185a43a-4860-4adf-9c4c-f1e5a582e8c5",
   "metadata": {},
   "outputs": [
    {
     "name": "stdout",
     "output_type": "stream",
     "text": [
      "               lat         lon         elev  nchan      time  iuse  idqc  \\\n",
      "0       -87.504501   19.704599  2735.045410    1.0  0.315833   1.0   8.0   \n",
      "1       -87.504501   19.704599  2735.045410    2.0  0.315833   1.0   8.0   \n",
      "2       -87.504501   19.704599  2735.045410    3.0  0.315833   1.0   8.0   \n",
      "3       -87.504501   19.704599  2735.045410    4.0  0.315833   1.0   8.0   \n",
      "4       -87.504501   19.704599  2735.045410    5.0  0.315833   1.0   8.0   \n",
      "...            ...         ...          ...    ...       ...   ...   ...   \n",
      "2103640 -60.779900  358.270294    -0.046764   11.0 -0.758333  -1.0  -3.0   \n",
      "2103641 -60.779900  358.270294    -0.046764   12.0 -0.758333   1.0   0.0   \n",
      "2103642 -60.779900  358.270294    -0.046764   13.0 -0.758333   1.0   0.0   \n",
      "2103643 -60.779900  358.270294    -0.046764   14.0 -0.758333  -1.0  -3.0   \n",
      "2103644 -60.779900  358.270294    -0.046764   15.0 -0.758333   1.0  51.0   \n",
      "\n",
      "           inverr       oer           obs           omf      omf_nobc  \\\n",
      "0        0.000000       NaN  1.895700e+02 -3.510099e+00 -6.279479e+00   \n",
      "1        0.000000       NaN  1.914400e+02  1.135254e-01 -1.910604e+00   \n",
      "2        0.000000       NaN  2.169000e+02 -1.065409e+01  3.238165e+00   \n",
      "3        0.000000       NaN  2.297300e+02  6.250719e-01  7.648864e-01   \n",
      "4        0.000000       NaN  2.329700e+02  1.403665e-01  2.104077e-01   \n",
      "...           ...       ...           ...           ...           ...   \n",
      "2103640  0.000000       NaN  1.000000e+11  1.000000e+11  1.000000e+11   \n",
      "2103641  0.999805  1.000195  2.480600e+02  1.038279e-01  6.405843e-01   \n",
      "2103642  0.666000  1.501497  2.582200e+02 -7.393512e-01  3.084054e-01   \n",
      "2103643  0.000000       NaN  1.000000e+11  1.000000e+11  1.000000e+11   \n",
      "2103644  0.000000       NaN  2.131100e+02 -4.670467e+01 -4.587513e+01   \n",
      "\n",
      "            emiss           oma      oma_nobc       imp       dfs  \n",
      "0        0.780716 -2.872881e+00 -5.682920e+00       NaN       NaN  \n",
      "1        0.768670  7.554746e-01 -1.300328e+00       NaN       NaN  \n",
      "2        0.785410 -1.087636e+01  3.056274e+00       NaN       NaN  \n",
      "3        0.785477  1.919623e-01  3.318819e-01       NaN       NaN  \n",
      "4        0.785655 -1.555700e-01 -9.595032e-02       NaN       NaN  \n",
      "...           ...           ...           ...       ...       ...  \n",
      "2103640  0.872512  1.000000e+11  1.000000e+11       NaN       NaN  \n",
      "2103641  0.872512  2.649425e-01  7.283779e-01  0.059403  0.016725  \n",
      "2103642  0.872512  8.009771e-02  1.089189e+00 -0.359791 -0.403504  \n",
      "2103643  0.872512  1.000000e+11  1.000000e+11       NaN       NaN  \n",
      "2103644  0.950000 -4.802968e+01 -4.720019e+01       NaN       NaN  \n",
      "\n",
      "[2103645 rows x 17 columns]\n"
     ]
    }
   ],
   "source": [
    "print(df_concatenado)"
   ]
  },
  {
   "cell_type": "markdown",
   "id": "9954244a-ef22-4993-92c1-e56bd64f6abb",
   "metadata": {},
   "source": [
    "# Pré-Processamento"
   ]
  },
  {
   "cell_type": "code",
   "execution_count": 7,
   "id": "a0fc5b92",
   "metadata": {},
   "outputs": [
    {
     "name": "stdout",
     "output_type": "stream",
     "text": [
      "               lat         lon         elev  nchan      time  iuse  idqc  \\\n",
      "6       -87.504501   19.704599  2735.045410    7.0  0.315833   1.0   0.0   \n",
      "7       -87.504501   19.704599  2735.045410    8.0  0.315833   1.0   0.0   \n",
      "8       -87.504501   19.704599  2735.045410    9.0  0.315833   1.0   0.0   \n",
      "9       -87.504501   19.704599  2735.045410   10.0  0.315833   1.0   0.0   \n",
      "11      -87.504501   19.704599  2735.045410   12.0  0.315833   1.0   0.0   \n",
      "...            ...         ...          ...    ...       ...   ...   ...   \n",
      "2103637 -60.779900  358.270294    -0.046764    8.0 -0.758333   1.0   0.0   \n",
      "2103638 -60.779900  358.270294    -0.046764    9.0 -0.758333   1.0   0.0   \n",
      "2103639 -60.779900  358.270294    -0.046764   10.0 -0.758333   1.0   0.0   \n",
      "2103641 -60.779900  358.270294    -0.046764   12.0 -0.758333   1.0   0.0   \n",
      "2103642 -60.779900  358.270294    -0.046764   13.0 -0.758333   1.0   0.0   \n",
      "\n",
      "           inverr       oer         obs       omf  omf_nobc     emiss  \\\n",
      "6        3.996653  0.250215  231.679993 -0.077042  0.997890  0.785957   \n",
      "7        3.636355  0.275001  232.139999  0.023001  0.634220  0.786082   \n",
      "8        2.941170  0.340001  234.500000 -0.086228  0.141502  0.786483   \n",
      "9        2.499979  0.400003  237.699997  0.199955  0.774818  0.786483   \n",
      "11       0.999830  1.000170  251.589996 -0.226885  0.981215  0.786483   \n",
      "...           ...       ...         ...       ...       ...       ...   \n",
      "2103637  3.636359  0.275000  228.759995  0.073276  0.373654  0.871126   \n",
      "2103638  2.941169  0.340001  231.039993  0.051322 -0.035334  0.872512   \n",
      "2103639  2.499975  0.400004  234.770004  0.386114  0.462627  0.872512   \n",
      "2103641  0.999805  1.000195  248.059998  0.103828  0.640584  0.872512   \n",
      "2103642  0.666000  1.501497  258.220001 -0.739351  0.308405  0.872512   \n",
      "\n",
      "              oma  oma_nobc       imp       dfs  \n",
      "6       -0.099744  0.969402  0.016040  0.006990  \n",
      "7        0.004765  0.610703 -0.001841 -0.001525  \n",
      "8       -0.097860  0.114162  0.006298  0.002950  \n",
      "9        0.172721  0.729627 -0.025374 -0.013614  \n",
      "11      -0.449353  0.691633  0.150416  0.050466  \n",
      "...           ...       ...       ...       ...  \n",
      "2103637  0.002110  0.302757 -0.019509 -0.018963  \n",
      "2103638 -0.082982 -0.165237  0.012506 -0.020273  \n",
      "2103639  0.316384  0.386489 -0.122462 -0.067309  \n",
      "2103641  0.264942  0.728378  0.059403  0.016725  \n",
      "2103642  0.080098  1.089189 -0.359791 -0.403504  \n",
      "\n",
      "[840978 rows x 17 columns]\n"
     ]
    }
   ],
   "source": [
    "# Remoção de linhas com valores NaN\n",
    "df_concatenado.dropna(inplace=True)\n",
    "\n",
    "# Filtrando os canais sub-representados\n",
    "df_concatenado = df_concatenado[~df_concatenado['nchan'].isin([1, 2, 3, 4, 5, 6, 15])]\n",
    "\n",
    "print(df_concatenado)"
   ]
  },
  {
   "cell_type": "markdown",
   "id": "c6d96a23-396b-4b6b-a22f-0d42ad89fd0c",
   "metadata": {},
   "source": [
    "# Clusterizaçao"
   ]
  },
  {
   "cell_type": "code",
   "execution_count": 8,
   "id": "3b8c4311-507e-4d25-add1-a48cd684a748",
   "metadata": {},
   "outputs": [],
   "source": [
    "from sklearn.cluster import AgglomerativeClustering"
   ]
  },
  {
   "cell_type": "code",
   "execution_count": 9,
   "id": "dbcb4604-85da-473a-b713-954cbab98ab2",
   "metadata": {},
   "outputs": [
    {
     "ename": "MemoryError",
     "evalue": "Unable to allocate 2.57 TiB for an array with shape (353621577753,) and data type float64",
     "output_type": "error",
     "traceback": [
      "\u001b[0;31m---------------------------------------------------------------------------\u001b[0m",
      "\u001b[0;31mMemoryError\u001b[0m                               Traceback (most recent call last)",
      "Cell \u001b[0;32mIn[9], line 5\u001b[0m\n\u001b[1;32m      3\u001b[0m n_clusters \u001b[38;5;241m=\u001b[39m \u001b[38;5;241m2\u001b[39m  \u001b[38;5;66;03m# Número de clusters desejados\u001b[39;00m\n\u001b[1;32m      4\u001b[0m agg_clustering \u001b[38;5;241m=\u001b[39m AgglomerativeClustering(n_clusters\u001b[38;5;241m=\u001b[39mn_clusters)\n\u001b[0;32m----> 5\u001b[0m df_concatenado[\u001b[38;5;124m'\u001b[39m\u001b[38;5;124mcluster\u001b[39m\u001b[38;5;124m'\u001b[39m] \u001b[38;5;241m=\u001b[39m \u001b[43magg_clustering\u001b[49m\u001b[38;5;241;43m.\u001b[39;49m\u001b[43mfit_predict\u001b[49m\u001b[43m(\u001b[49m\u001b[43mdf_concatenado\u001b[49m\u001b[43m[\u001b[49m\u001b[43matributos\u001b[49m\u001b[43m]\u001b[49m\u001b[43m)\u001b[49m\n\u001b[1;32m      7\u001b[0m \u001b[38;5;28mprint\u001b[39m(df_concatenado)\n",
      "File \u001b[0;32m~/anaconda3/envs/readDiagIA/lib/python3.9/site-packages/sklearn/cluster/_agglomerative.py:1119\u001b[0m, in \u001b[0;36mAgglomerativeClustering.fit_predict\u001b[0;34m(self, X, y)\u001b[0m\n\u001b[1;32m   1098\u001b[0m \u001b[38;5;28;01mdef\u001b[39;00m \u001b[38;5;21mfit_predict\u001b[39m(\u001b[38;5;28mself\u001b[39m, X, y\u001b[38;5;241m=\u001b[39m\u001b[38;5;28;01mNone\u001b[39;00m):\n\u001b[1;32m   1099\u001b[0m \u001b[38;5;250m    \u001b[39m\u001b[38;5;124;03m\"\"\"Fit and return the result of each sample's clustering assignment.\u001b[39;00m\n\u001b[1;32m   1100\u001b[0m \n\u001b[1;32m   1101\u001b[0m \u001b[38;5;124;03m    In addition to fitting, this method also return the result of the\u001b[39;00m\n\u001b[0;32m   (...)\u001b[0m\n\u001b[1;32m   1117\u001b[0m \u001b[38;5;124;03m        Cluster labels.\u001b[39;00m\n\u001b[1;32m   1118\u001b[0m \u001b[38;5;124;03m    \"\"\"\u001b[39;00m\n\u001b[0;32m-> 1119\u001b[0m     \u001b[38;5;28;01mreturn\u001b[39;00m \u001b[38;5;28;43msuper\u001b[39;49m\u001b[43m(\u001b[49m\u001b[43m)\u001b[49m\u001b[38;5;241;43m.\u001b[39;49m\u001b[43mfit_predict\u001b[49m\u001b[43m(\u001b[49m\u001b[43mX\u001b[49m\u001b[43m,\u001b[49m\u001b[43m \u001b[49m\u001b[43my\u001b[49m\u001b[43m)\u001b[49m\n",
      "File \u001b[0;32m~/anaconda3/envs/readDiagIA/lib/python3.9/site-packages/sklearn/base.py:900\u001b[0m, in \u001b[0;36mClusterMixin.fit_predict\u001b[0;34m(self, X, y, **kwargs)\u001b[0m\n\u001b[1;32m    877\u001b[0m \u001b[38;5;250m\u001b[39m\u001b[38;5;124;03m\"\"\"\u001b[39;00m\n\u001b[1;32m    878\u001b[0m \u001b[38;5;124;03mPerform clustering on `X` and returns cluster labels.\u001b[39;00m\n\u001b[1;32m    879\u001b[0m \n\u001b[0;32m   (...)\u001b[0m\n\u001b[1;32m    896\u001b[0m \u001b[38;5;124;03m    Cluster labels.\u001b[39;00m\n\u001b[1;32m    897\u001b[0m \u001b[38;5;124;03m\"\"\"\u001b[39;00m\n\u001b[1;32m    898\u001b[0m \u001b[38;5;66;03m# non-optimized default implementation; override when a better\u001b[39;00m\n\u001b[1;32m    899\u001b[0m \u001b[38;5;66;03m# method is possible for a given clustering algorithm\u001b[39;00m\n\u001b[0;32m--> 900\u001b[0m \u001b[38;5;28;43mself\u001b[39;49m\u001b[38;5;241;43m.\u001b[39;49m\u001b[43mfit\u001b[49m\u001b[43m(\u001b[49m\u001b[43mX\u001b[49m\u001b[43m,\u001b[49m\u001b[43m \u001b[49m\u001b[38;5;241;43m*\u001b[39;49m\u001b[38;5;241;43m*\u001b[39;49m\u001b[43mkwargs\u001b[49m\u001b[43m)\u001b[49m\n\u001b[1;32m    901\u001b[0m \u001b[38;5;28;01mreturn\u001b[39;00m \u001b[38;5;28mself\u001b[39m\u001b[38;5;241m.\u001b[39mlabels_\n",
      "File \u001b[0;32m~/anaconda3/envs/readDiagIA/lib/python3.9/site-packages/sklearn/base.py:1474\u001b[0m, in \u001b[0;36m_fit_context.<locals>.decorator.<locals>.wrapper\u001b[0;34m(estimator, *args, **kwargs)\u001b[0m\n\u001b[1;32m   1467\u001b[0m     estimator\u001b[38;5;241m.\u001b[39m_validate_params()\n\u001b[1;32m   1469\u001b[0m \u001b[38;5;28;01mwith\u001b[39;00m config_context(\n\u001b[1;32m   1470\u001b[0m     skip_parameter_validation\u001b[38;5;241m=\u001b[39m(\n\u001b[1;32m   1471\u001b[0m         prefer_skip_nested_validation \u001b[38;5;129;01mor\u001b[39;00m global_skip_validation\n\u001b[1;32m   1472\u001b[0m     )\n\u001b[1;32m   1473\u001b[0m ):\n\u001b[0;32m-> 1474\u001b[0m     \u001b[38;5;28;01mreturn\u001b[39;00m \u001b[43mfit_method\u001b[49m\u001b[43m(\u001b[49m\u001b[43mestimator\u001b[49m\u001b[43m,\u001b[49m\u001b[43m \u001b[49m\u001b[38;5;241;43m*\u001b[39;49m\u001b[43margs\u001b[49m\u001b[43m,\u001b[49m\u001b[43m \u001b[49m\u001b[38;5;241;43m*\u001b[39;49m\u001b[38;5;241;43m*\u001b[39;49m\u001b[43mkwargs\u001b[49m\u001b[43m)\u001b[49m\n",
      "File \u001b[0;32m~/anaconda3/envs/readDiagIA/lib/python3.9/site-packages/sklearn/cluster/_agglomerative.py:980\u001b[0m, in \u001b[0;36mAgglomerativeClustering.fit\u001b[0;34m(self, X, y)\u001b[0m\n\u001b[1;32m    962\u001b[0m \u001b[38;5;250m\u001b[39m\u001b[38;5;124;03m\"\"\"Fit the hierarchical clustering from features, or distance matrix.\u001b[39;00m\n\u001b[1;32m    963\u001b[0m \n\u001b[1;32m    964\u001b[0m \u001b[38;5;124;03mParameters\u001b[39;00m\n\u001b[0;32m   (...)\u001b[0m\n\u001b[1;32m    977\u001b[0m \u001b[38;5;124;03m    Returns the fitted instance.\u001b[39;00m\n\u001b[1;32m    978\u001b[0m \u001b[38;5;124;03m\"\"\"\u001b[39;00m\n\u001b[1;32m    979\u001b[0m X \u001b[38;5;241m=\u001b[39m \u001b[38;5;28mself\u001b[39m\u001b[38;5;241m.\u001b[39m_validate_data(X, ensure_min_samples\u001b[38;5;241m=\u001b[39m\u001b[38;5;241m2\u001b[39m)\n\u001b[0;32m--> 980\u001b[0m \u001b[38;5;28;01mreturn\u001b[39;00m \u001b[38;5;28;43mself\u001b[39;49m\u001b[38;5;241;43m.\u001b[39;49m\u001b[43m_fit\u001b[49m\u001b[43m(\u001b[49m\u001b[43mX\u001b[49m\u001b[43m)\u001b[49m\n",
      "File \u001b[0;32m~/anaconda3/envs/readDiagIA/lib/python3.9/site-packages/sklearn/cluster/_agglomerative.py:1066\u001b[0m, in \u001b[0;36mAgglomerativeClustering._fit\u001b[0;34m(self, X)\u001b[0m\n\u001b[1;32m   1062\u001b[0m distance_threshold \u001b[38;5;241m=\u001b[39m \u001b[38;5;28mself\u001b[39m\u001b[38;5;241m.\u001b[39mdistance_threshold\n\u001b[1;32m   1064\u001b[0m return_distance \u001b[38;5;241m=\u001b[39m (distance_threshold \u001b[38;5;129;01mis\u001b[39;00m \u001b[38;5;129;01mnot\u001b[39;00m \u001b[38;5;28;01mNone\u001b[39;00m) \u001b[38;5;129;01mor\u001b[39;00m \u001b[38;5;28mself\u001b[39m\u001b[38;5;241m.\u001b[39mcompute_distances\n\u001b[0;32m-> 1066\u001b[0m out \u001b[38;5;241m=\u001b[39m \u001b[43mmemory\u001b[49m\u001b[38;5;241;43m.\u001b[39;49m\u001b[43mcache\u001b[49m\u001b[43m(\u001b[49m\u001b[43mtree_builder\u001b[49m\u001b[43m)\u001b[49m\u001b[43m(\u001b[49m\n\u001b[1;32m   1067\u001b[0m \u001b[43m    \u001b[49m\u001b[43mX\u001b[49m\u001b[43m,\u001b[49m\n\u001b[1;32m   1068\u001b[0m \u001b[43m    \u001b[49m\u001b[43mconnectivity\u001b[49m\u001b[38;5;241;43m=\u001b[39;49m\u001b[43mconnectivity\u001b[49m\u001b[43m,\u001b[49m\n\u001b[1;32m   1069\u001b[0m \u001b[43m    \u001b[49m\u001b[43mn_clusters\u001b[49m\u001b[38;5;241;43m=\u001b[39;49m\u001b[43mn_clusters\u001b[49m\u001b[43m,\u001b[49m\n\u001b[1;32m   1070\u001b[0m \u001b[43m    \u001b[49m\u001b[43mreturn_distance\u001b[49m\u001b[38;5;241;43m=\u001b[39;49m\u001b[43mreturn_distance\u001b[49m\u001b[43m,\u001b[49m\n\u001b[1;32m   1071\u001b[0m \u001b[43m    \u001b[49m\u001b[38;5;241;43m*\u001b[39;49m\u001b[38;5;241;43m*\u001b[39;49m\u001b[43mkwargs\u001b[49m\u001b[43m,\u001b[49m\n\u001b[1;32m   1072\u001b[0m \u001b[43m\u001b[49m\u001b[43m)\u001b[49m\n\u001b[1;32m   1073\u001b[0m (\u001b[38;5;28mself\u001b[39m\u001b[38;5;241m.\u001b[39mchildren_, \u001b[38;5;28mself\u001b[39m\u001b[38;5;241m.\u001b[39mn_connected_components_, \u001b[38;5;28mself\u001b[39m\u001b[38;5;241m.\u001b[39mn_leaves_, parents) \u001b[38;5;241m=\u001b[39m out[\n\u001b[1;32m   1074\u001b[0m     :\u001b[38;5;241m4\u001b[39m\n\u001b[1;32m   1075\u001b[0m ]\n\u001b[1;32m   1077\u001b[0m \u001b[38;5;28;01mif\u001b[39;00m return_distance:\n",
      "File \u001b[0;32m~/anaconda3/envs/readDiagIA/lib/python3.9/site-packages/joblib/memory.py:312\u001b[0m, in \u001b[0;36mNotMemorizedFunc.__call__\u001b[0;34m(self, *args, **kwargs)\u001b[0m\n\u001b[1;32m    311\u001b[0m \u001b[38;5;28;01mdef\u001b[39;00m \u001b[38;5;21m__call__\u001b[39m(\u001b[38;5;28mself\u001b[39m, \u001b[38;5;241m*\u001b[39margs, \u001b[38;5;241m*\u001b[39m\u001b[38;5;241m*\u001b[39mkwargs):\n\u001b[0;32m--> 312\u001b[0m     \u001b[38;5;28;01mreturn\u001b[39;00m \u001b[38;5;28;43mself\u001b[39;49m\u001b[38;5;241;43m.\u001b[39;49m\u001b[43mfunc\u001b[49m\u001b[43m(\u001b[49m\u001b[38;5;241;43m*\u001b[39;49m\u001b[43margs\u001b[49m\u001b[43m,\u001b[49m\u001b[43m \u001b[49m\u001b[38;5;241;43m*\u001b[39;49m\u001b[38;5;241;43m*\u001b[39;49m\u001b[43mkwargs\u001b[49m\u001b[43m)\u001b[49m\n",
      "File \u001b[0;32m~/anaconda3/envs/readDiagIA/lib/python3.9/site-packages/sklearn/utils/_param_validation.py:186\u001b[0m, in \u001b[0;36mvalidate_params.<locals>.decorator.<locals>.wrapper\u001b[0;34m(*args, **kwargs)\u001b[0m\n\u001b[1;32m    184\u001b[0m global_skip_validation \u001b[38;5;241m=\u001b[39m get_config()[\u001b[38;5;124m\"\u001b[39m\u001b[38;5;124mskip_parameter_validation\u001b[39m\u001b[38;5;124m\"\u001b[39m]\n\u001b[1;32m    185\u001b[0m \u001b[38;5;28;01mif\u001b[39;00m global_skip_validation:\n\u001b[0;32m--> 186\u001b[0m     \u001b[38;5;28;01mreturn\u001b[39;00m \u001b[43mfunc\u001b[49m\u001b[43m(\u001b[49m\u001b[38;5;241;43m*\u001b[39;49m\u001b[43margs\u001b[49m\u001b[43m,\u001b[49m\u001b[43m \u001b[49m\u001b[38;5;241;43m*\u001b[39;49m\u001b[38;5;241;43m*\u001b[39;49m\u001b[43mkwargs\u001b[49m\u001b[43m)\u001b[49m\n\u001b[1;32m    188\u001b[0m func_sig \u001b[38;5;241m=\u001b[39m signature(func)\n\u001b[1;32m    190\u001b[0m \u001b[38;5;66;03m# Map *args/**kwargs to the function signature\u001b[39;00m\n",
      "File \u001b[0;32m~/anaconda3/envs/readDiagIA/lib/python3.9/site-packages/sklearn/cluster/_agglomerative.py:313\u001b[0m, in \u001b[0;36mward_tree\u001b[0;34m(X, connectivity, n_clusters, return_distance)\u001b[0m\n\u001b[1;32m    301\u001b[0m     warnings\u001b[38;5;241m.\u001b[39mwarn(\n\u001b[1;32m    302\u001b[0m         (\n\u001b[1;32m    303\u001b[0m             \u001b[38;5;124m\"\u001b[39m\u001b[38;5;124mPartial build of the tree is implemented \u001b[39m\u001b[38;5;124m\"\u001b[39m\n\u001b[0;32m   (...)\u001b[0m\n\u001b[1;32m    310\u001b[0m         stacklevel\u001b[38;5;241m=\u001b[39m\u001b[38;5;241m2\u001b[39m,\n\u001b[1;32m    311\u001b[0m     )\n\u001b[1;32m    312\u001b[0m X \u001b[38;5;241m=\u001b[39m np\u001b[38;5;241m.\u001b[39mrequire(X, requirements\u001b[38;5;241m=\u001b[39m\u001b[38;5;124m\"\u001b[39m\u001b[38;5;124mW\u001b[39m\u001b[38;5;124m\"\u001b[39m)\n\u001b[0;32m--> 313\u001b[0m out \u001b[38;5;241m=\u001b[39m \u001b[43mhierarchy\u001b[49m\u001b[38;5;241;43m.\u001b[39;49m\u001b[43mward\u001b[49m\u001b[43m(\u001b[49m\u001b[43mX\u001b[49m\u001b[43m)\u001b[49m\n\u001b[1;32m    314\u001b[0m children_ \u001b[38;5;241m=\u001b[39m out[:, :\u001b[38;5;241m2\u001b[39m]\u001b[38;5;241m.\u001b[39mastype(np\u001b[38;5;241m.\u001b[39mintp)\n\u001b[1;32m    316\u001b[0m \u001b[38;5;28;01mif\u001b[39;00m return_distance:\n",
      "File \u001b[0;32m~/anaconda3/envs/readDiagIA/lib/python3.9/site-packages/scipy/cluster/hierarchy.py:796\u001b[0m, in \u001b[0;36mward\u001b[0;34m(y)\u001b[0m\n\u001b[1;32m    700\u001b[0m \u001b[38;5;28;01mdef\u001b[39;00m \u001b[38;5;21mward\u001b[39m(y):\n\u001b[1;32m    701\u001b[0m \u001b[38;5;250m    \u001b[39m\u001b[38;5;124;03m\"\"\"\u001b[39;00m\n\u001b[1;32m    702\u001b[0m \u001b[38;5;124;03m    Perform Ward's linkage on a condensed distance matrix.\u001b[39;00m\n\u001b[1;32m    703\u001b[0m \n\u001b[0;32m   (...)\u001b[0m\n\u001b[1;32m    794\u001b[0m \n\u001b[1;32m    795\u001b[0m \u001b[38;5;124;03m    \"\"\"\u001b[39;00m\n\u001b[0;32m--> 796\u001b[0m     \u001b[38;5;28;01mreturn\u001b[39;00m \u001b[43mlinkage\u001b[49m\u001b[43m(\u001b[49m\u001b[43my\u001b[49m\u001b[43m,\u001b[49m\u001b[43m \u001b[49m\u001b[43mmethod\u001b[49m\u001b[38;5;241;43m=\u001b[39;49m\u001b[38;5;124;43m'\u001b[39;49m\u001b[38;5;124;43mward\u001b[39;49m\u001b[38;5;124;43m'\u001b[39;49m\u001b[43m,\u001b[49m\u001b[43m \u001b[49m\u001b[43mmetric\u001b[49m\u001b[38;5;241;43m=\u001b[39;49m\u001b[38;5;124;43m'\u001b[39;49m\u001b[38;5;124;43meuclidean\u001b[39;49m\u001b[38;5;124;43m'\u001b[39;49m\u001b[43m)\u001b[49m\n",
      "File \u001b[0;32m~/anaconda3/envs/readDiagIA/lib/python3.9/site-packages/scipy/cluster/hierarchy.py:1024\u001b[0m, in \u001b[0;36mlinkage\u001b[0;34m(y, method, metric, optimal_ordering)\u001b[0m\n\u001b[1;32m   1018\u001b[0m     \u001b[38;5;28;01mif\u001b[39;00m (y\u001b[38;5;241m.\u001b[39mshape[\u001b[38;5;241m0\u001b[39m] \u001b[38;5;241m==\u001b[39m y\u001b[38;5;241m.\u001b[39mshape[\u001b[38;5;241m1\u001b[39m] \u001b[38;5;129;01mand\u001b[39;00m np\u001b[38;5;241m.\u001b[39mallclose(np\u001b[38;5;241m.\u001b[39mdiag(y), \u001b[38;5;241m0\u001b[39m) \u001b[38;5;129;01mand\u001b[39;00m\n\u001b[1;32m   1019\u001b[0m             xp\u001b[38;5;241m.\u001b[39mall(y \u001b[38;5;241m>\u001b[39m\u001b[38;5;241m=\u001b[39m \u001b[38;5;241m0\u001b[39m) \u001b[38;5;129;01mand\u001b[39;00m np\u001b[38;5;241m.\u001b[39mallclose(y, y\u001b[38;5;241m.\u001b[39mT)):\n\u001b[1;32m   1020\u001b[0m         warnings\u001b[38;5;241m.\u001b[39mwarn(\u001b[38;5;124m'\u001b[39m\u001b[38;5;124mThe symmetric non-negative hollow observation \u001b[39m\u001b[38;5;124m'\u001b[39m\n\u001b[1;32m   1021\u001b[0m                       \u001b[38;5;124m'\u001b[39m\u001b[38;5;124mmatrix looks suspiciously like an uncondensed \u001b[39m\u001b[38;5;124m'\u001b[39m\n\u001b[1;32m   1022\u001b[0m                       \u001b[38;5;124m'\u001b[39m\u001b[38;5;124mdistance matrix\u001b[39m\u001b[38;5;124m'\u001b[39m,\n\u001b[1;32m   1023\u001b[0m                       ClusterWarning, stacklevel\u001b[38;5;241m=\u001b[39m\u001b[38;5;241m2\u001b[39m)\n\u001b[0;32m-> 1024\u001b[0m     y \u001b[38;5;241m=\u001b[39m \u001b[43mdistance\u001b[49m\u001b[38;5;241;43m.\u001b[39;49m\u001b[43mpdist\u001b[49m\u001b[43m(\u001b[49m\u001b[43my\u001b[49m\u001b[43m,\u001b[49m\u001b[43m \u001b[49m\u001b[43mmetric\u001b[49m\u001b[43m)\u001b[49m\n\u001b[1;32m   1025\u001b[0m     y \u001b[38;5;241m=\u001b[39m xp\u001b[38;5;241m.\u001b[39masarray(y)\n\u001b[1;32m   1026\u001b[0m \u001b[38;5;28;01melse\u001b[39;00m:\n",
      "File \u001b[0;32m~/anaconda3/envs/readDiagIA/lib/python3.9/site-packages/scipy/spatial/distance.py:2180\u001b[0m, in \u001b[0;36mpdist\u001b[0;34m(X, metric, out, **kwargs)\u001b[0m\n\u001b[1;32m   2178\u001b[0m \u001b[38;5;28;01mif\u001b[39;00m metric_info \u001b[38;5;129;01mis\u001b[39;00m \u001b[38;5;129;01mnot\u001b[39;00m \u001b[38;5;28;01mNone\u001b[39;00m:\n\u001b[1;32m   2179\u001b[0m     pdist_fn \u001b[38;5;241m=\u001b[39m metric_info\u001b[38;5;241m.\u001b[39mpdist_func\n\u001b[0;32m-> 2180\u001b[0m     \u001b[38;5;28;01mreturn\u001b[39;00m \u001b[43mpdist_fn\u001b[49m\u001b[43m(\u001b[49m\u001b[43mX\u001b[49m\u001b[43m,\u001b[49m\u001b[43m \u001b[49m\u001b[43mout\u001b[49m\u001b[38;5;241;43m=\u001b[39;49m\u001b[43mout\u001b[49m\u001b[43m,\u001b[49m\u001b[43m \u001b[49m\u001b[38;5;241;43m*\u001b[39;49m\u001b[38;5;241;43m*\u001b[39;49m\u001b[43mkwargs\u001b[49m\u001b[43m)\u001b[49m\n\u001b[1;32m   2181\u001b[0m \u001b[38;5;28;01melif\u001b[39;00m mstr\u001b[38;5;241m.\u001b[39mstartswith(\u001b[38;5;124m\"\u001b[39m\u001b[38;5;124mtest_\u001b[39m\u001b[38;5;124m\"\u001b[39m):\n\u001b[1;32m   2182\u001b[0m     metric_info \u001b[38;5;241m=\u001b[39m _TEST_METRICS\u001b[38;5;241m.\u001b[39mget(mstr, \u001b[38;5;28;01mNone\u001b[39;00m)\n",
      "\u001b[0;31mMemoryError\u001b[0m: Unable to allocate 2.57 TiB for an array with shape (353621577753,) and data type float64"
     ]
    }
   ],
   "source": [
    "atributos = [\"dfs\", \"imp\", \"oma\", \"omf\"]\n",
    "\n",
    "n_clusters = 2  # Número de clusters desejados\n",
    "agg_clustering = AgglomerativeClustering(n_clusters=n_clusters)\n",
    "df_concatenado['cluster'] = agg_clustering.fit_predict(df_concatenado[atributos])\n",
    "\n",
    "print(df_concatenado)"
   ]
  },
  {
   "cell_type": "markdown",
   "id": "69d85893-9f8c-4954-84a9-add4ba5886c9",
   "metadata": {},
   "source": [
    "# Análise dos Atributos"
   ]
  },
  {
   "cell_type": "code",
   "execution_count": null,
   "id": "a7ba4bfd-2968-4499-946e-92ee2e04ba7f",
   "metadata": {},
   "outputs": [],
   "source": [
    "from roughsets_base.roughset_dt import RoughSetDT"
   ]
  },
  {
   "cell_type": "code",
   "execution_count": null,
   "id": "61e5d049-1586-405b-9940-467a8ece0701",
   "metadata": {},
   "outputs": [],
   "source": [
    "rs_dt = RoughSetDT(df_concatenado[['dfs']].copy(), y=df_concatenado['cluster'])\n",
    "print(rs_dt)\n",
    "\n",
    "# Chame a função get_approximation_indices com os conceitos e o subconjunto de colunas\n",
    "lower_approx, boundary_region, upper_approx, negative_region = rs_dt.get_approximation_indices(concepts=None, subset=None)\n",
    "\n",
    "# Agora você pode usar os resultados conforme necessário\n",
    "print(\"Lower Approximation Indices:\", lower_approx)\n",
    "print(\"Boundary Region Indices:\", boundary_region)\n",
    "print(\"Upper Approximation Indices:\", upper_approx)\n",
    "print(\"Negative Region Indices:\", negative_region)"
   ]
  },
  {
   "cell_type": "code",
   "execution_count": null,
   "id": "a58c2fc3-ae04-41cb-833e-23812721389e",
   "metadata": {},
   "outputs": [],
   "source": [
    "# Obter as linhas do DataFrame original que estão na Boundary Region\n",
    "boundary_df = df_concatenado.loc[boundary_region]\n",
    "\n",
    "# Contar a frequência dos canais na Boundary Region\n",
    "boundary_channels = boundary_df['nchan'].value_counts()\n",
    "print(\"Frequency of Channels in Boundary Region:\")\n",
    "print(boundary_channels)"
   ]
  },
  {
   "cell_type": "code",
   "execution_count": null,
   "id": "099d655b-3770-4746-8c68-a316355c9c4d",
   "metadata": {},
   "outputs": [],
   "source": [
    "# Obter as linhas do DataFrame original que estão no Lower Approximation\n",
    "lower_df = df_concatenado.loc[lower_approx]\n",
    "\n",
    "# Contar a frequência dos canais no Lower Approximation\n",
    "lower_channels = lower_df['nchan'].value_counts()\n",
    "\n",
    "print(\"Canais consistentes:\")\n",
    "print(lower_channels)"
   ]
  },
  {
   "cell_type": "code",
   "execution_count": null,
   "id": "7d1cf91a-cf1d-43b2-9f9a-067801a99863",
   "metadata": {},
   "outputs": [],
   "source": [
    "# Mapeando os índices para os atributos correspondentes\n",
    "lower_approximation_attributes = df_concatenado.loc[lower_approx]\n",
    "boundary_region_attributes = df_concatenado.loc[boundary_region]\n",
    "upper_approximation_attributes = df_concatenado.loc[upper_approx]\n",
    "\n",
    "\n",
    "# Exemplo de plot para um atributo (substitua 'Atributo_1' pelo atributo desejado)\n",
    "plt.figure(figsize=(10, 6))\n",
    "plt.scatter(lower_approximation_attributes['dfs'], lower_approximation_attributes['nchan'], label='Lower Approximation', color='blue')\n",
    "#plt.scatter(boundary_region_attributes['dfs'], boundary_region_attributes['nchan'], label='Boundary Region', color='green')\n",
    "#plt.scatter(upper_approximation_attributes['dfs'], upper_approximation_attributes['nchan'], label='Upper Approximation', color='red')\n",
    "plt.xlabel('dfs')\n",
    "plt.ylabel('Índice')\n",
    "plt.title('Conjuntos de Aproximação - dfs')\n",
    "plt.legend()\n",
    "plt.show()\n",
    "\n",
    "# Exemplo de plot para um atributo (substitua 'Atributo_1' pelo atributo desejado)\n",
    "plt.figure(figsize=(10, 6))\n",
    "plt.scatter(boundary_region_attributes['dfs'], boundary_region_attributes['nchan'], label='Boundary Region', color='green')\n",
    "plt.xlabel('dfs')\n",
    "plt.ylabel('Índice')\n",
    "plt.title('Conjuntos de Aproximação - dfs')\n",
    "plt.legend()\n",
    "plt.show()\n",
    "\n",
    "# Exemplo de plot para um atributo (substitua 'Atributo_1' pelo atributo desejado)\n",
    "plt.figure(figsize=(10, 6))\n",
    "plt.scatter(upper_approximation_attributes['dfs'], upper_approximation_attributes['nchan'], label='Upper Approximation', color='red')\n",
    "plt.xlabel('dfs')\n",
    "plt.ylabel('Índice')\n",
    "plt.title('Conjuntos de Aproximação - dfs')\n",
    "plt.legend()\n",
    "plt.show()"
   ]
  },
  {
   "cell_type": "code",
   "execution_count": null,
   "id": "63f27c4f-da83-4ae4-82f3-f7583489876a",
   "metadata": {},
   "outputs": [],
   "source": [
    "# Mapeando os índices para os atributos correspondentes\n",
    "lower_approximation_attributes = df_concatenado.loc[lower_approx]\n",
    "boundary_region_attributes = df_concatenado.loc[boundary_region]\n",
    "upper_approximation_attributes = df_concatenado.loc[upper_approx]\n",
    "\n",
    "# Boxplot para 'dfs'\n",
    "plt.figure(figsize=(12, 6))\n",
    "plt.boxplot(\n",
    "    [\n",
    "        lower_approximation_attributes['dfs'],\n",
    "        boundary_region_attributes['dfs'],\n",
    "        upper_approximation_attributes['dfs']\n",
    "    ],\n",
    "    labels=['Lower Approximation', 'Boundary Region', 'Upper Approximation']\n",
    ")\n",
    "plt.title('Boxplot of dfs for Different Approximations')\n",
    "plt.ylabel('dfs')\n",
    "plt.xlabel('Approximation')\n",
    "plt.show()"
   ]
  },
  {
   "cell_type": "markdown",
   "id": "4cf67998-907b-4d16-a5d9-8fe3f000b9a9",
   "metadata": {},
   "source": [
    "# Análises dos Clusters"
   ]
  },
  {
   "cell_type": "code",
   "execution_count": null,
   "id": "b9412341-0e82-4f1f-9ec4-024ed20def6c",
   "metadata": {},
   "outputs": [],
   "source": []
  },
  {
   "cell_type": "code",
   "execution_count": null,
   "id": "93002832",
   "metadata": {},
   "outputs": [],
   "source": [
    "# Análise dos Clusters\n",
    "# Estatísticas descritivas para cada cluster\n",
    "cluster_stats = df_concatenado.groupby('cluster').describe()\n",
    "\n",
    "# Configurar o pandas para mostrar todas as linhas e colunas\n",
    "pd.set_option('display.max_rows', None)\n",
    "pd.set_option('display.max_columns', None)\n",
    "\n",
    "print(cluster_stats)"
   ]
  },
  {
   "cell_type": "code",
   "execution_count": null,
   "id": "0d20d58f-e38e-40cb-b515-a97cb61552be",
   "metadata": {},
   "outputs": [],
   "source": [
    "# Tabela de contagem da frequência de ocorrência de cada canal para cada cluster\n",
    "cluster_channel_count = df_concatenado.groupby(['cluster', 'nchan']).size().reset_index(name='count')\n",
    "\n",
    "# Separar a contagem por cluster\n",
    "cluster_0_count = cluster_channel_count[cluster_channel_count['cluster'] == 0]\n",
    "cluster_1_count = cluster_channel_count[cluster_channel_count['cluster'] == 1]\n",
    "\n",
    "# Ordenar as contagens de frequência de ocorrência de cada canal em ordem decrescente\n",
    "cluster_0_count_sorted = cluster_0_count.sort_values(by='count', ascending=False)\n",
    "cluster_1_count_sorted = cluster_1_count.sort_values(by='count', ascending=False)\n",
    "\n",
    "# Visualização da tabela de contagem para cada cluster ordenada por contagem decrescente\n",
    "print(\"Cluster 0:\")\n",
    "print(cluster_0_count_sorted)\n",
    "print(\"\\nCluster 1:\")\n",
    "print(cluster_1_count_sorted)"
   ]
  },
  {
   "cell_type": "code",
   "execution_count": null,
   "id": "c97eac14",
   "metadata": {},
   "outputs": [],
   "source": [
    "# Visualização da distribuição dos clusters para cada atributo\n",
    "for atributo in atributos:\n",
    "    plt.figure(figsize=(10, 6))\n",
    "    sns.boxplot(x='cluster', y=atributo, data=df_concatenado, palette='Set1')\n",
    "    plt.title(f'Distribuição de {atributo} por Cluster')\n",
    "    plt.xlabel('Cluster')\n",
    "    plt.ylabel(atributo)\n",
    "    plt.show()"
   ]
  },
  {
   "cell_type": "code",
   "execution_count": null,
   "id": "8d8bd483",
   "metadata": {},
   "outputs": [],
   "source": [
    "# Gráfico de barras para visualizar os clusters de acordo com o número do canal (\"nchan\")\n",
    "plt.figure(figsize=(10, 6))\n",
    "sns.countplot(data=df_concatenado, x='nchan', hue='cluster', palette='Set1')\n",
    "plt.title('Clusters por Número do Canal (\"nchan\")')\n",
    "plt.xlabel('Número do Canal')\n",
    "plt.ylabel('Contagem')\n",
    "plt.legend(title='Cluster')\n",
    "plt.show()"
   ]
  },
  {
   "cell_type": "code",
   "execution_count": null,
   "id": "e5efcf5a",
   "metadata": {},
   "outputs": [],
   "source": [
    "from mpl_toolkits.mplot3d import Axes3D\n",
    "\n",
    "# Plotar os dados em um gráfico de dispersão 3D\n",
    "fig = plt.figure(figsize=(10, 8))\n",
    "ax = fig.add_subplot(111, projection='3d')\n",
    "\n",
    "# Definir os eixos\n",
    "x = df_concatenado['oma']\n",
    "y = df_concatenado['imp']\n",
    "z = df_concatenado['dfs']\n",
    "\n",
    "# Plotar os dados coloridos por cluster\n",
    "scatter = ax.scatter(x, y, z, c=df_concatenado['cluster'], cmap='Set1')\n",
    "ax.set_title('Gráfico de Dispersão 3D dos Clusters')\n",
    "ax.set_xlabel('OMA')\n",
    "ax.set_ylabel('IMP')\n",
    "ax.set_zlabel('DFS')\n",
    "\n",
    "plt.legend(*scatter.legend_elements(), title='Cluster')\n",
    "plt.show()"
   ]
  },
  {
   "cell_type": "code",
   "execution_count": null,
   "id": "eb7ff8ed-0982-477b-bba8-89478d1323df",
   "metadata": {},
   "outputs": [],
   "source": [
    "import geopandas as gpd\n",
    "from mpl_toolkits.axes_grid1 import make_axes_locatable\n",
    "\n",
    "latitude = df_concatenado['lat']\n",
    "longitude = df_concatenado['lon']\n",
    "selecchan =  df_concatenado['cluster']\n",
    "\n",
    "latitude = latitude[df_concatenado['nchan'] == 12.0]\n",
    "longitude = longitude[df_concatenado['nchan'] == 12.0]\n",
    "selecchan = selecchan[df_concatenado['nchan'] == 12.0]\n",
    "\n",
    "# Ajustando a longitude para o intervalo -180 a 180\n",
    "longitude_adj = np.where(longitude > 180, longitude - 360, longitude)\n",
    "\n",
    "# Criando um GeoDataFrame com base nos dados ajustados\n",
    "gdf = gpd.GeoDataFrame(selecchan, geometry=gpd.points_from_xy(longitude_adj, latitude), crs='EPSG:4326')\n",
    "\n",
    "# Plotagem\n",
    "fig, ax = plt.subplots(figsize=(10, 6))\n",
    "divider = make_axes_locatable(ax)\n",
    "cax = divider.append_axes(\"right\", size=\"5%\", pad=0.1)  # Adicionando eixo de cor\n",
    "\n",
    "world = gpd.read_file(gpd.datasets.get_path('naturalearth_lowres'))\n",
    "world.plot(ax=ax, color='lightgrey', edgecolor='black')\n",
    "scatter = gdf.plot(ax=ax, column=selecchan, cmap='viridis', markersize=5, legend=True, cax=cax)\n",
    "scatter.set_xlabel('Longitude')\n",
    "scatter.set_ylabel('Latitude')\n",
    "cax.set_ylabel('Canal selecionado')\n",
    "\n",
    "plt.title('Mapa dos canais previstos com máximo DFS')\n",
    "plt.show()"
   ]
  },
  {
   "cell_type": "markdown",
   "id": "a9798992-94c5-4500-8ec5-e88e1f6d1d02",
   "metadata": {},
   "source": [
    "# Aplicação de modelo supervisionado"
   ]
  },
  {
   "cell_type": "raw",
   "id": "feb420a6-12b3-4ded-962a-76d8b4b60995",
   "metadata": {},
   "source": [
    "from sklearn.ensemble import RandomForestClassifier\n",
    "from sklearn.model_selection import train_test_split\n",
    "from sklearn.metrics import confusion_matrix, classification_report"
   ]
  },
  {
   "cell_type": "raw",
   "id": "04a08456-7842-4918-8ce5-8f76e1cdc8c0",
   "metadata": {},
   "source": [
    "# Divisão dos dados em conjuntos de treinamento e teste    \n",
    "X_train, X_test, y_train, y_test = train_test_split(df_concatenado[atributos], df_concatenado[\"cluster\"], test_size=0.2, random_state=42)\n",
    "print('Treino e Teste prontos')\n",
    "print(separator)\n",
    "\n",
    "# Inicialização e treinamento do modelo RandomForestClassifier\n",
    "model = RandomForestClassifier(n_estimators=100, random_state=42)\n",
    "model.fit(X_train, y_train)\n",
    "print('Modelo treinado!')\n",
    "print(separator)\n",
    "\n",
    "# Faz previsões usando o modelo treinado nos dados de teste\n",
    "y_pred = model.predict(X_test)\n",
    "print('Previsões feitas!')\n",
    "print(separator)\n"
   ]
  },
  {
   "cell_type": "raw",
   "id": "d43ee550-a529-4e97-8781-2c630a52c04d",
   "metadata": {},
   "source": [
    "# Gera e imprime o relatório de classificação para o canal atual\n",
    "relatorio_classificacao = classification_report(y_test, y_pred)\n",
    "print(f\"\\nRelatório de Classificação\")\n",
    "print(relatorio_classificacao)"
   ]
  },
  {
   "cell_type": "raw",
   "id": "15100f31-903b-49ba-8f4f-1783232c1689",
   "metadata": {},
   "source": [
    "# Computa a matriz de confusão\n",
    "matriz_confusao = confusion_matrix(y_test, y_pred)\n",
    "\n",
    "# Imprime a matriz de confusão\n",
    "print(f\"Matriz de Confusão\")\n",
    "print(matriz_confusao)\n",
    "\n",
    "# Calcula a soma de cada linha da matriz de confusão\n",
    "sum_by_class = np.sum(matriz_confusao, axis=1)\n",
    "\n",
    "# Normaliza a matriz de confusão\n",
    "matriz_confusao_normalized = matriz_confusao / sum_by_class[:, np.newaxis]\n",
    "\n",
    "# Plota a matriz de confusão normalizada\n",
    "plt.figure(figsize=(8, 6))\n",
    "sns.heatmap(matriz_confusao_normalized, annot=True, fmt=\".3f\", \n",
    "            cmap=\"Blues\")\n",
    "plt.title(f\"Matriz de Confusão\")\n",
    "plt.xlabel(\"Valor Previsto\")\n",
    "plt.ylabel(\"Valor Real\")\n",
    "#plt.savefig(f\"MatrizConfusao.png\", facecolor='white')\n",
    "plt.show()"
   ]
  },
  {
   "cell_type": "raw",
   "id": "0e8bb188-44ea-4fed-8873-1e3131398ce2",
   "metadata": {},
   "source": [
    "# Computa a importância dos atributos usando o método de diminuição da impureza (MDI)\n",
    "importances = model.feature_importances_\n",
    "std = np.std([tree.feature_importances_ for tree in model.estimators_], axis=0)\n",
    "forest_importances = pd.Series(importances, index=atributos)\n",
    "\n",
    "# Plota a importância dos atributos\n",
    "fig, ax = plt.subplots()\n",
    "forest_importances.plot.bar(yerr=std, ax=ax)\n",
    "ax.set_title(f\"Importâncias dos recursos\")\n",
    "ax.set_ylabel(\"Diminuição média na impureza\")\n",
    "fig.tight_layout()\n",
    "#plt.savefig(f\"FeatureImportance.png\", facecolor='white')\n",
    "plt.show()\n",
    "    \n",
    "print(\"Função FeatureImportance concluída!\")"
   ]
  },
  {
   "cell_type": "code",
   "execution_count": null,
   "id": "b9f4a22e-550e-41b9-b738-04ac0e67506d",
   "metadata": {},
   "outputs": [],
   "source": []
  },
  {
   "cell_type": "code",
   "execution_count": null,
   "id": "2f006da2-1501-4e07-91ce-045f7a9b373b",
   "metadata": {},
   "outputs": [],
   "source": []
  }
 ],
 "metadata": {
  "kernelspec": {
   "display_name": "readDiag",
   "language": "python",
   "name": "readdiag"
  },
  "language_info": {
   "codemirror_mode": {
    "name": "ipython",
    "version": 3
   },
   "file_extension": ".py",
   "mimetype": "text/x-python",
   "name": "python",
   "nbconvert_exporter": "python",
   "pygments_lexer": "ipython3",
   "version": "3.9.18"
  }
 },
 "nbformat": 4,
 "nbformat_minor": 5
}
