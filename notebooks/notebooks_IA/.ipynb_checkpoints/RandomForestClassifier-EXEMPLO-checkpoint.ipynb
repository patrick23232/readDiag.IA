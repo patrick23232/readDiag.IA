{
 "cells": [
  {
   "cell_type": "markdown",
   "id": "1569a849",
   "metadata": {},
   "source": [
    "# Classificação por Floresta Aleatória (Random Forest)"
   ]
  },
  {
   "cell_type": "markdown",
   "id": "3342d0cc",
   "metadata": {},
   "source": [
    "A classificação por floresta aleatória é uma técnica de aprendizado de máquina que combina o poder da aleatoriedade com o poder da média para construir um modelo robusto de classificação. Ela opera criando múltiplas árvores de decisão durante o treinamento e fazendo previsões com base na maioria das previsões das árvores individuais.\n",
    "\n",
    "## Principais Características:\n",
    "- **Árvores de Decisão:** Cada árvore na floresta é construída a partir de uma amostra aleatória do conjunto de dados de treinamento. Isso ajuda a reduzir a correlação entre as árvores individuais, tornando o modelo mais robusto.\n",
    "\n",
    "- **Amostragem Aleatória de Características:** Durante a construção de cada árvore, apenas um subconjunto aleatório das características é considerado para dividir em cada nó da árvore. Isso introduz mais diversidade nas árvores e reduz a probabilidade de overfitting.\n",
    "\n",
    "- **Votação por Maioria:** Ao fazer previsões, cada árvore na floresta contribui com uma votação para determinar a classe final de um exemplo. A classe mais frequente entre todas as árvores é escolhida como a previsão final.\n",
    "\n",
    "## Vantagens:\n",
    "- **Robustez:** Averiguando várias árvores de decisão, o modelo é menos propenso a overfitting e tem uma melhor capacidade de generalização em dados de teste.\n",
    "\n",
    "- **Manuseio de Dados Não Lineares e de Alta Dimensão:** Pode lidar eficazmente com conjuntos de dados com muitas características e interações complexas entre elas.\n",
    "\n",
    "- **Fácil de Usar:** Requer pouca ou nenhuma sintonia de parâmetros e lida bem com dados ausentes.\n",
    "\n",
    "## Limitações:\n",
    "- **Interpretabilidade:** Às vezes, a floresta aleatória pode ser difícil de interpretar em comparação com modelos lineares simples.\n",
    "\n",
    "- **Desempenho em Dados Escaláveis:** Para conjuntos de dados muito grandes, o treinamento de uma floresta aleatória pode se tornar computacionalmente caro.\n",
    "\n",
    "## Aplicações:\n",
    "- **Classificação:** Prever a classe de um exemplo com base em suas características.\n",
    "\n",
    "A implementação da classificação por floresta aleatória no scikit-learn, utilizando RandomForestClassifier, oferece uma interface simples e poderosa para treinar e fazer previsões com este modelo."
   ]
  },
  {
   "cell_type": "markdown",
   "id": "2e810b25",
   "metadata": {},
   "source": [
    "Importando bibliotecas"
   ]
  },
  {
   "cell_type": "code",
   "execution_count": 1,
   "id": "47f73480",
   "metadata": {},
   "outputs": [],
   "source": [
    "import gsidiag as gd\n",
    "from datetime import datetime, timedelta\n",
    "import pandas as pd\n",
    "import matplotlib.pyplot as plt\n",
    "import csv\n",
    "import numpy as np"
   ]
  },
  {
   "cell_type": "code",
   "execution_count": 2,
   "id": "afb30182",
   "metadata": {},
   "outputs": [],
   "source": [
    "from sklearn.preprocessing import LabelBinarizer\n",
    "from sklearn.preprocessing import LabelEncoder\n",
    "\n",
    "from sklearn.model_selection import train_test_split\n",
    "\n",
    "from sklearn.ensemble import RandomForestClassifier\n",
    "from sklearn.ensemble import RandomForestRegressor\n",
    "\n",
    "from sklearn.metrics import confusion_matrix, classification_report\n",
    "from sklearn.metrics import roc_curve, auc\n",
    "from sklearn.metrics import RocCurveDisplay\n",
    "from sklearn.metrics._plot.precision_recall_curve import PrecisionRecallDisplay\n",
    "from sklearn.metrics import average_precision_score, precision_recall_curve\n",
    "from sklearn.preprocessing import label_binarize\n",
    "from sklearn.metrics import accuracy_score\n",
    "\n",
    "\n",
    "from itertools import combinations\n",
    "from itertools import cycle\n",
    "import seaborn as sns\n",
    "\n"
   ]
  },
  {
   "cell_type": "markdown",
   "id": "1357b191",
   "metadata": {},
   "source": [
    "Definindo parâmetros para o uso do readDiag"
   ]
  },
  {
   "cell_type": "code",
   "execution_count": 3,
   "id": "0806f6b0",
   "metadata": {},
   "outputs": [
    {
     "name": "stdout",
     "output_type": "stream",
     "text": [
      "['2020010100', '2020010106']\n"
     ]
    }
   ],
   "source": [
    "DIRdiag = \"/home/patrick/readDiag/data\"\n",
    "\n",
    "varName = \"amsua\"\n",
    "varType = \"n15\"\n",
    "dateIni=\"2020010100\" \n",
    "dateFin=\"2020010106\" \n",
    "nHour = \"6\"          \n",
    "vminOMA = -2.0       \n",
    "vmaxOMA = 2.0        \n",
    "vminSTD = 0.0        \n",
    "vmaxSTD = 14.0       \n",
    "Level = 1000\n",
    "Lay = None           \n",
    "SingleL = \"All\" \n",
    "\n",
    "datei = datetime.strptime(str(dateIni), \"%Y%m%d%H\")\n",
    "datef = datetime.strptime(str(dateFin), \"%Y%m%d%H\")\n",
    "dates = [dates.strftime('%Y%m%d%H') for dates in pd.date_range(datei, datef,freq=\"6H\").tolist()]\n",
    "\n",
    "print(dates)\n"
   ]
  },
  {
   "cell_type": "markdown",
   "id": "f5d45849",
   "metadata": {},
   "source": [
    "Encontrando e listando arquivos para serem usados"
   ]
  },
  {
   "cell_type": "code",
   "execution_count": 4,
   "id": "c313c705",
   "metadata": {},
   "outputs": [
    {
     "name": "stdout",
     "output_type": "stream",
     "text": [
      "['/home/patrick/readDiag/data/2020010100/diag_amsua_n15_01.2020010100', '/home/patrick/readDiag/data/2020010106/diag_amsua_n15_01.2020010106']\n",
      "\n",
      "['/home/patrick/readDiag/data/2020010100/diag_amsua_n15_03.2020010100', '/home/patrick/readDiag/data/2020010106/diag_amsua_n15_03.2020010106']\n"
     ]
    }
   ],
   "source": [
    "paths, pathsc = [], []\n",
    "\n",
    "OuterL = \"01\"        \n",
    "[paths.append(DIRdiag+\"/\"+dt+\"/diag_amsua_n15_\"+OuterL+\".\"+dt) for dt in dates]\n",
    "\n",
    "OuterLc = \"03\"\n",
    "[pathsc.append(DIRdiag+\"/\"+dt+\"/diag_amsua_n15_\"+OuterLc+\".\"+dt) for dt in dates]\n",
    "\n",
    "print(paths)\n",
    "print(\"\")\n",
    "print(pathsc)"
   ]
  },
  {
   "cell_type": "markdown",
   "id": "83c4bebe",
   "metadata": {},
   "source": [
    "Definição da função para discretizar os dados de impacto:"
   ]
  },
  {
   "cell_type": "code",
   "execution_count": 5,
   "id": "ded2ee17",
   "metadata": {},
   "outputs": [],
   "source": [
    "# Função que retorna a categoria:\n",
    "def categoria_de(valorRF):\n",
    "    categoria = None\n",
    "    if valorRF <= -0.25:\n",
    "        categoria = \"Impacto negativo alto\"\n",
    "    elif valorRF > -0.25 and valorRF < 0:\n",
    "        categoria = \"Impacto negativo baixo\"\n",
    "    elif valorRF == 0:\n",
    "        categoria = \"Impacto neutro\"\n",
    "    elif valorRF > 0 and valorRF < 0.25:\n",
    "        categoria = \"Impacto positivo baixo\"\n",
    "    elif valorRF >= 0.25:\n",
    "        categoria = \"Impacto positivo alto\"\n",
    "    return categoria"
   ]
  },
  {
   "cell_type": "code",
   "execution_count": 6,
   "id": "b64cdf0c",
   "metadata": {},
   "outputs": [],
   "source": [
    "def MatrizConfusao(YTEST, YPRED, CLASSES, TIPO):\n",
    "    # Computa a matriz de confusão\n",
    "    matriz_confusao = confusion_matrix(YTEST, YPRED)\n",
    "\n",
    "    # Imprime a matriz de confusão\n",
    "    print(f\"Matriz de Confusão para {TIPO}:\")\n",
    "    print(matriz_confusao)\n",
    "\n",
    "    # Calcula a soma de cada linha da matriz de confusão\n",
    "    sum_by_class = np.sum(matriz_confusao, axis=1)\n",
    "\n",
    "    # Normaliza a matriz de confusão\n",
    "    matriz_confusao_normalized = matriz_confusao / sum_by_class[:, np.newaxis]\n",
    "\n",
    "    # Plota a matriz de confusão normalizada\n",
    "    plt.figure(figsize=(8, 6))\n",
    "    sns.heatmap(matriz_confusao_normalized, annot=True, fmt=\".3f\", \n",
    "                cmap=\"Blues\", xticklabels=CLASSES, yticklabels=CLASSES)\n",
    "    plt.title(f\"Matriz de Confusão - {TIPO}\")\n",
    "    plt.xlabel(\"Valor Previsto\")\n",
    "    plt.ylabel(\"Valor Real\")\n",
    "    plt.savefig(f\"MatrizConfusao_{TIPO}.png\", facecolor='white')\n",
    "    plt.show()\n",
    "    \n",
    "    print(\"Função MatrizConfusao concluída!\")"
   ]
  },
  {
   "cell_type": "code",
   "execution_count": 7,
   "id": "25152fb5",
   "metadata": {},
   "outputs": [],
   "source": [
    "def FeatureImportance(MODELO, ATRIBUTOS, TIPO):\n",
    "    # Computa a importância dos atributos usando o método de diminuição da impureza (MDI)\n",
    "    importances = MODELO.feature_importances_\n",
    "    std = np.std([tree.feature_importances_ for tree in MODELO.estimators_], axis=0)\n",
    "    forest_importances = pd.Series(importances, index=ATRIBUTOS)\n",
    "\n",
    "    # Plota a importância dos atributos\n",
    "    fig, ax = plt.subplots()\n",
    "    forest_importances.plot.bar(yerr=std, ax=ax)\n",
    "    ax.set_title(f\"Importâncias dos recursos usando MDI - {TIPO}\")\n",
    "    ax.set_ylabel(\"Diminuição média na impureza\")\n",
    "    fig.tight_layout()\n",
    "    plt.savefig(f\"FeatureImportance_{TIPO}.png\", facecolor='white')\n",
    "    plt.show()\n",
    "    \n",
    "    print(\"Função FeatureImportance concluída!\")"
   ]
  },
  {
   "cell_type": "code",
   "execution_count": 8,
   "id": "6e581f21",
   "metadata": {},
   "outputs": [],
   "source": [
    "def train_test_pred_score_RFC(XIS, YPSILOM):\n",
    "    # Divisão dos dados em conjuntos de treinamento e teste    \n",
    "    X_TRAIN, X_TEST, Y_TRAIN, Y_TEST = train_test_split(XIS, YPSILOM, test_size=0.2, random_state=42)\n",
    "    print('Treino e Teste prontos')\n",
    "    print(separator)\n",
    "\n",
    "    # Inicialização e treinamento do modelo RandomForestClassifier\n",
    "    MODELO = RandomForestClassifier(n_estimators=100, random_state=42)\n",
    "    MODELO.fit(X_TRAIN, Y_TRAIN)\n",
    "    print('Modelo treinado!')\n",
    "    print(separator)\n",
    "\n",
    "    # Faz previsões usando o modelo treinado nos dados de teste\n",
    "    Y_PRED = MODELO.predict(X_TEST)\n",
    "    print('Previsões feitas!')\n",
    "    print(separator)\n",
    "\n",
    "    # Faz previsões de probabilidade usando o modelo treinado nos dados de teste\n",
    "    Y_SCORE = MODELO.predict_proba(X_TEST)\n",
    "    print('Previsões de probabilidade feitas!')\n",
    "    print(separator)\n",
    "    \n",
    "    print(\"Função train_test_pred_score_RFC concluída!\")\n",
    "    \n",
    "    return X_TRAIN, X_TEST, Y_TRAIN, Y_TEST, MODELO, Y_PRED, Y_SCORE"
   ]
  },
  {
   "cell_type": "markdown",
   "id": "6771b1b8",
   "metadata": {},
   "source": [
    "Lendo arquivos listado usando o readDiag e concatenando os dados"
   ]
  },
  {
   "cell_type": "code",
   "execution_count": 9,
   "id": "5a2d6284",
   "metadata": {},
   "outputs": [
    {
     "name": "stdout",
     "output_type": "stream",
     "text": [
      "\n",
      "Aguarde, o tempo total estimado para a leitura dos arquivos é de 0 minutos e 40 segundos.\n",
      "\n",
      "Reading /home/patrick/readDiag/data/2020010100/diag_amsua_n15_01.2020010100\n",
      " \n",
      ">>> GSI DIAG <<<\n",
      " \n",
      "Reading /home/patrick/readDiag/data/2020010106/diag_amsua_n15_01.2020010106\n",
      " \n",
      ">>> GSI DIAG <<<\n",
      " \n",
      "[<gsidiag.__main__.read_diag object at 0x7f0342b47c10>, <gsidiag.__main__.read_diag object at 0x7f034f56b650>]\n"
     ]
    }
   ],
   "source": [
    "# Define uma variável booleana 'read' como True para indicar que a leitura dos arquivos será realizada\n",
    "read = True\n",
    "\n",
    "# Verifica se 'read' é True para prosseguir com a leitura dos arquivos\n",
    "if read:        \n",
    "    # Inicializa uma lista vazia para armazenar os objetos gdf\n",
    "    gdf_list = []\n",
    "    # Imprime uma mensagem informando o tempo estimado necessário para a leitura dos arquivos\n",
    "    print(\"\")\n",
    "    print(\"Aguarde, o tempo total estimado para a leitura dos arquivos é de \"+\n",
    "          str(int((float(len(paths))*20 )/60))+\" minutos e \"+\n",
    "          str(int((float(len(paths))*20 )%60))+\" segundos.\")\n",
    "    print(\"\")\n",
    "    # Itera sobre os caminhos dos arquivos e seus caminhos de configuração correspondentes\n",
    "    for path, pathc in zip(paths,pathsc):\n",
    "        # Imprime uma mensagem indicando o arquivo que está sendo lido\n",
    "        print(\"Reading \"+path)\n",
    "        # Lê o arquivo usando a função read_diag do módulo gsidiag e armazena o objeto retornado em gdf\n",
    "        gdf = gd.read_diag(path,pathc)\n",
    "        # Adiciona o objeto gdf à lista gdf_list\n",
    "        gdf_list.append(gdf)\n",
    "\n",
    "    # Imprime a lista de objetos gdf lidos\n",
    "    print(gdf_list)\n",
    "    \n",
    "    # Define uma string separadora para uso posterior\n",
    "    separator = \" =====================================================================================================\"\n"
   ]
  },
  {
   "cell_type": "code",
   "execution_count": 10,
   "id": "33337787",
   "metadata": {},
   "outputs": [
    {
     "name": "stdout",
     "output_type": "stream",
     "text": [
      " =====================================================================================================\n",
      "Separando dados do arquivo/home/patrick/readDiag/data/2020010100/diag_amsua_n15_01.2020010100\n",
      " =====================================================================================================\n",
      "Separando dados do arquivo/home/patrick/readDiag/data/2020010106/diag_amsua_n15_01.2020010106\n"
     ]
    }
   ],
   "source": [
    "# Inicialização de DataFrame vazio para armazenar dados concatenados\n",
    "df_concatenado2 = pd.DataFrame()\n",
    "\n",
    "# Iteração sobre objetos em gdf_list\n",
    "for objeto in gdf_list:\n",
    "        \n",
    "    print(separator)\n",
    "    print(\"Separando dados do arquivo\" + str(objeto._diagFile))\n",
    "    \n",
    "    # Criação de dicionário de dados a partir do objeto   \n",
    "    dados_dict = {\n",
    "            'lat': objeto.obsInfo[varName].loc[varType].lat,\n",
    "            'lon': objeto.obsInfo[varName].loc[varType].lon,\n",
    "            'elev': objeto.obsInfo[varName].loc[varType].elev,\n",
    "            'nchan': objeto.obsInfo[varName].loc[varType].nchan,\n",
    "            'time': objeto.obsInfo[varName].loc[varType].time,\n",
    "            'iuse': objeto.obsInfo[varName].loc[varType].iuse,\n",
    "            'idqc': objeto.obsInfo[varName].loc[varType].idqc,\n",
    "            'inverr': objeto.obsInfo[varName].loc[varType].inverr,\n",
    "            'oer': objeto.obsInfo[varName].loc[varType].oer,\n",
    "            'obs': objeto.obsInfo[varName].loc[varType].obs,\n",
    "            'omf': objeto.obsInfo[varName].loc[varType].omf,\n",
    "            'omf_nobc': objeto.obsInfo[varName].loc[varType].omf_nobc,\n",
    "            'emiss': objeto.obsInfo[varName].loc[varType].emiss,\n",
    "            'oma': objeto.obsInfo[varName].loc[varType].oma,\n",
    "            'oma_nobc': objeto.obsInfo[varName].loc[varType].oma_nobc,\n",
    "            'imp': objeto.obsInfo[varName].loc[varType].imp,\n",
    "            'dfs': objeto.obsInfo[varName].loc[varType].dfs\n",
    "            }\n",
    "        \n",
    "    # Conversão do dicionário em DataFrame\n",
    "    df_objeto = pd.DataFrame(dados_dict)\n",
    "    \n",
    "    # Aplicação da função 'categoria_de' para criar a coluna 'imp_categ'\n",
    "    df_objeto['imp_categ'] = df_objeto['imp'].apply(categoria_de)\n",
    "        \n",
    "    # Concatenação do DataFrame do objeto com o DataFrame concatenado\n",
    "    df_concatenado2 = pd.concat([df_concatenado2, df_objeto], ignore_index=True)\n",
    "    "
   ]
  },
  {
   "cell_type": "code",
   "execution_count": 11,
   "id": "a0fc5b92",
   "metadata": {},
   "outputs": [
    {
     "name": "stdout",
     "output_type": "stream",
     "text": [
      "              lat         lon         elev  nchan      time  iuse  idqc  \\\n",
      "5      -87.504501   19.704599  2735.045410    6.0  0.315833  -1.0  -0.0   \n",
      "6      -87.504501   19.704599  2735.045410    7.0  0.315833   1.0   0.0   \n",
      "7      -87.504501   19.704599  2735.045410    8.0  0.315833   1.0   0.0   \n",
      "8      -87.504501   19.704599  2735.045410    9.0  0.315833   1.0   0.0   \n",
      "9      -87.504501   19.704599  2735.045410   10.0  0.315833   1.0   0.0   \n",
      "...           ...         ...          ...    ...       ...   ...   ...   \n",
      "209947  77.502502  358.795105    -0.108379    8.0  1.952778   1.0   0.0   \n",
      "209948  77.502502  358.795105    -0.108379    9.0  1.952778   1.0   0.0   \n",
      "209949  77.502502  358.795105    -0.108379   10.0  1.952778   1.0   0.0   \n",
      "209951  77.502502  358.795105    -0.108379   12.0  1.952778   1.0   0.0   \n",
      "209952  77.502502  358.795105    -0.108379   13.0  1.952778   1.0   0.0   \n",
      "\n",
      "          inverr       oer         obs       omf  omf_nobc     emiss  \\\n",
      "5       3.557238  0.281441  232.509995  0.047819  1.396376  0.785835   \n",
      "6       3.996653  0.250215  231.679993 -0.077042  0.997890  0.785957   \n",
      "7       3.636355  0.275001  232.139999  0.023001  0.634220  0.786082   \n",
      "8       2.941170  0.340001  234.500000 -0.086228  0.141502  0.786483   \n",
      "9       2.499979  0.400003  237.699997  0.199955  0.774818  0.786483   \n",
      "...          ...       ...         ...       ...       ...       ...   \n",
      "209947  3.636359  0.275000  201.979996 -0.396553 -0.476590  0.872832   \n",
      "209948  2.941168  0.340001  194.210007 -0.313287 -0.364771  0.874212   \n",
      "209949  2.499973  0.400004  190.679993 -0.418757 -0.316275  0.874212   \n",
      "209951  0.999784  1.000214  199.119995 -0.166651  0.586314  0.874212   \n",
      "209952  0.665929  1.501647  217.080002 -0.561209  1.817874  0.874212   \n",
      "\n",
      "             oma  oma_nobc       imp       dfs               imp_categ  \n",
      "5       0.002342  1.313053 -0.008105 -0.007727  Impacto negativo baixo  \n",
      "6      -0.099744  0.969402  0.016040  0.006990  Impacto positivo baixo  \n",
      "7       0.004765  0.610703 -0.001841 -0.001525  Impacto negativo baixo  \n",
      "8      -0.097860  0.114162  0.006298  0.002950  Impacto positivo baixo  \n",
      "9       0.172721  0.729627 -0.025374 -0.013614  Impacto negativo baixo  \n",
      "...          ...       ...       ...       ...                     ...  \n",
      "209947 -0.210560 -0.297567 -0.410613 -0.268203   Impacto negativo alto  \n",
      "209948  0.040100  0.012307 -0.283942 -0.325621   Impacto negativo alto  \n",
      "209949  0.038911  0.142930 -0.434604 -0.479124   Impacto negativo alto  \n",
      "209951  0.321933  1.217219  0.075852 -0.081405  Impacto positivo baixo  \n",
      "209952  0.328142  2.455488 -0.138034 -0.332377  Impacto negativo baixo  \n",
      "\n",
      "[95474 rows x 18 columns]\n",
      " =====================================================================================================\n"
     ]
    }
   ],
   "source": [
    "# Remoção de linhas com valores NaN\n",
    "df_concatenado2.dropna(inplace=True)\n",
    "\n",
    "# Filtrando os canais sub-representados\n",
    "df_concatenado2 = df_concatenado2[~df_concatenado2['nchan'].isin([1, 2, 3, 4, 5, 15])]\n",
    "\n",
    "print(df_concatenado2)\n",
    "\n",
    "print(separator)\n",
    "    \n",
    "# Lista de atributos a serem usados para treinamento\n",
    "#atributos = ['omf', 'oma', 'dfs', 'imp']\n",
    "atributos = ['lat','lon','elev','time','iuse',\n",
    "             'idqc','inverr','oer','obs','omf','omf_nobc',\n",
    "             'emiss','oma','oma_nobc','imp','dfs']\n",
    "\n",
    "\n",
    "# Define as classes do target discretizado para uso posterior\n",
    "classes = ['6','7','8','9','10','12','13']\n",
    "\n",
    "X = df_concatenado2[atributos]\n",
    "y = df_concatenado2['nchan']"
   ]
  },
  {
   "cell_type": "code",
   "execution_count": 12,
   "id": "9a52dda5",
   "metadata": {},
   "outputs": [
    {
     "name": "stdout",
     "output_type": "stream",
     "text": [
      "Treino e Teste prontos\n",
      " =====================================================================================================\n",
      "Modelo treinado!\n",
      " =====================================================================================================\n",
      "Previsões feitas!\n",
      " =====================================================================================================\n",
      "Previsões de probabilidade feitas!\n",
      " =====================================================================================================\n",
      "Função train_test_pred_score_RFC concluída!\n"
     ]
    }
   ],
   "source": [
    "X_train, X_test, y_train, y_test, modelo, y_pred, y_score = train_test_pred_score_RFC(X, y)"
   ]
  },
  {
   "cell_type": "code",
   "execution_count": 13,
   "id": "c8f4760c",
   "metadata": {},
   "outputs": [
    {
     "name": "stdout",
     "output_type": "stream",
     "text": [
      "\n",
      "Relatório de Classificação:\n",
      "              precision    recall  f1-score   support\n",
      "\n",
      "         6.0       1.00      1.00      1.00      2256\n",
      "         7.0       1.00      1.00      1.00      2804\n",
      "         8.0       1.00      1.00      1.00      2847\n",
      "         9.0       1.00      1.00      1.00      2843\n",
      "        10.0       1.00      1.00      1.00      2828\n",
      "        12.0       1.00      1.00      1.00      2741\n",
      "        13.0       1.00      1.00      1.00      2776\n",
      "\n",
      "    accuracy                           1.00     19095\n",
      "   macro avg       1.00      1.00      1.00     19095\n",
      "weighted avg       1.00      1.00      1.00     19095\n",
      "\n"
     ]
    }
   ],
   "source": [
    "# Gera e imprime o relatório de classificação, que inclui métricas como precisão, recall e F1-score\n",
    "relatorio_classificacao = classification_report(y_test, y_pred)\n",
    "print(\"\\nRelatório de Classificação:\")\n",
    "print(relatorio_classificacao)\n"
   ]
  },
  {
   "cell_type": "code",
   "execution_count": 14,
   "id": "6eff8037",
   "metadata": {},
   "outputs": [
    {
     "name": "stdout",
     "output_type": "stream",
     "text": [
      "Matriz de Confusão para RFC - Todos canais:\n",
      "[[2256    0    0    0    0    0    0]\n",
      " [   0 2804    0    0    0    0    0]\n",
      " [   0    2 2845    0    0    0    0]\n",
      " [   0    0    0 2843    0    0    0]\n",
      " [   0    0    0    0 2828    0    0]\n",
      " [   0    0    0    0    0 2741    0]\n",
      " [   0    0    0    0    0    0 2776]]\n"
     ]
    },
    {
     "data": {
      "image/png": "[encoded data removed]",
      "text/plain": [
       "<Figure size 576x432 with 2 Axes>"
      ]
     },
     "metadata": {
      "needs_background": "light"
     },
     "output_type": "display_data"
    },
    {
     "name": "stdout",
     "output_type": "stream",
     "text": [
      "Função MatrizConfusao concluída!\n"
     ]
    },
    {
     "data": {
      "image/png": "[encoded data removed]",
      "text/plain": [
       "<Figure size 432x288 with 1 Axes>"
      ]
     },
     "metadata": {
      "needs_background": "light"
     },
     "output_type": "display_data"
    },
    {
     "name": "stdout",
     "output_type": "stream",
     "text": [
      "Função FeatureImportance concluída!\n"
     ]
    }
   ],
   "source": [
    "tipo = \"RFC - Todos canais\"\n",
    "\n",
    "MatrizConfusao(y_test, y_pred, classes, tipo)\n",
    "\n",
    "FeatureImportance(modelo, atributos, tipo)"
   ]
  },
  {
   "cell_type": "code",
   "execution_count": 15,
   "id": "03a5f539",
   "metadata": {},
   "outputs": [],
   "source": [
    "# Lista de atributos a serem usados para treinamento\n",
    "atributos = ['lat','lon','elev','time','iuse',\n",
    "             'idqc','inverr','oer','obs','omf','omf_nobc',\n",
    "             'emiss','oma','oma_nobc','imp','dfs']\n",
    "\n",
    "# Define as classes do target discretizado para uso posterior\n",
    "classes = ['6','7','8','9','10','12','13']\n",
    "\n",
    "X = df_concatenado2[atributos]\n",
    "y = df_concatenado2['nchan']"
   ]
  },
  {
   "cell_type": "code",
   "execution_count": 16,
   "id": "64e27601",
   "metadata": {},
   "outputs": [
    {
     "name": "stdout",
     "output_type": "stream",
     "text": [
      "Treino e Teste prontos\n",
      " =====================================================================================================\n",
      "Modelo treinado!\n",
      " =====================================================================================================\n",
      "Previsões feitas!\n",
      " =====================================================================================================\n",
      "Previsões de probabilidade feitas!\n",
      " =====================================================================================================\n",
      "Função train_test_pred_score_RFC concluída!\n"
     ]
    }
   ],
   "source": [
    "X_train, X_test, y_train, y_test, modelo, y_pred, y_score = train_test_pred_score_RFC(X, y)"
   ]
  },
  {
   "cell_type": "code",
   "execution_count": 17,
   "id": "877e0999",
   "metadata": {},
   "outputs": [
    {
     "name": "stdout",
     "output_type": "stream",
     "text": [
      "\n",
      "Relatório de Classificação:\n",
      "              precision    recall  f1-score   support\n",
      "\n",
      "         6.0       1.00      1.00      1.00      2256\n",
      "         7.0       1.00      1.00      1.00      2804\n",
      "         8.0       1.00      1.00      1.00      2847\n",
      "         9.0       1.00      1.00      1.00      2843\n",
      "        10.0       1.00      1.00      1.00      2828\n",
      "        12.0       1.00      1.00      1.00      2741\n",
      "        13.0       1.00      1.00      1.00      2776\n",
      "\n",
      "    accuracy                           1.00     19095\n",
      "   macro avg       1.00      1.00      1.00     19095\n",
      "weighted avg       1.00      1.00      1.00     19095\n",
      "\n"
     ]
    }
   ],
   "source": [
    "# Gera e imprime o relatório de classificação, que inclui métricas como precisão, recall e F1-score\n",
    "relatorio_classificacao = classification_report(y_test, y_pred)\n",
    "print(\"\\nRelatório de Classificação:\")\n",
    "print(relatorio_classificacao)\n"
   ]
  },
  {
   "cell_type": "code",
   "execution_count": 18,
   "id": "558dcb47",
   "metadata": {},
   "outputs": [
    {
     "name": "stdout",
     "output_type": "stream",
     "text": [
      "Matriz de Confusão para RFC - Todos canais:\n",
      "[[2256    0    0    0    0    0    0]\n",
      " [   0 2804    0    0    0    0    0]\n",
      " [   0    2 2845    0    0    0    0]\n",
      " [   0    0    0 2843    0    0    0]\n",
      " [   0    0    0    0 2828    0    0]\n",
      " [   0    0    0    0    0 2741    0]\n",
      " [   0    0    0    0    0    0 2776]]\n"
     ]
    },
    {
     "data": {
      "image/png": "[encoded data removed]",
      "text/plain": [
       "<Figure size 576x432 with 2 Axes>"
      ]
     },
     "metadata": {
      "needs_background": "light"
     },
     "output_type": "display_data"
    },
    {
     "name": "stdout",
     "output_type": "stream",
     "text": [
      "Função MatrizConfusao concluída!\n"
     ]
    },
    {
     "data": {
      "image/png": "[encoded data removed]",
      "text/plain": [
       "<Figure size 432x288 with 1 Axes>"
      ]
     },
     "metadata": {
      "needs_background": "light"
     },
     "output_type": "display_data"
    },
    {
     "name": "stdout",
     "output_type": "stream",
     "text": [
      "Função FeatureImportance concluída!\n"
     ]
    }
   ],
   "source": [
    "tipo = \"RFC - Todos canais\"\n",
    "\n",
    "MatrizConfusao(y_test, y_pred, classes, tipo)\n",
    "\n",
    "FeatureImportance(modelo, atributos, tipo)"
   ]
  },
  {
   "cell_type": "code",
   "execution_count": 19,
   "id": "9f236536",
   "metadata": {},
   "outputs": [
    {
     "name": "stdout",
     "output_type": "stream",
     "text": [
      "[ 8.  8. 13. ...  6.  7. 12.]\n"
     ]
    }
   ],
   "source": [
    "print(y_pred)"
   ]
  },
  {
   "cell_type": "code",
   "execution_count": 20,
   "id": "f603d1d6",
   "metadata": {},
   "outputs": [
    {
     "name": "stdout",
     "output_type": "stream",
     "text": [
      "Treino e Teste prontos\n",
      " =====================================================================================================\n",
      "Modelo treinado!\n",
      " =====================================================================================================\n",
      "Previsões feitas!\n",
      " =====================================================================================================\n",
      "Previsões de probabilidade feitas!\n",
      " =====================================================================================================\n",
      "Função train_test_pred_score_RFC concluída!\n",
      "Acurácia do modelo: 0.9998952605394082\n",
      "\n",
      "Importância das classes do atributo 'nchan' em relação a cada outro atributo:\n",
      "           lat         lon        elev      time  iuse      idqc    inverr  \\\n",
      "6.0  -8.556856  184.091034  205.977081 -0.400240  -1.0 -4.435284  3.902152   \n",
      "7.0  -0.060532  186.592789  265.091888 -0.428834   1.0  0.004280  3.989907   \n",
      "8.0  -0.907617  183.634399  263.427185 -0.414125   1.0  0.005269  3.629978   \n",
      "9.0  -1.502541  185.834930  267.319763 -0.429501   1.0  0.003166  2.938183   \n",
      "10.0 -1.128801  187.098831  257.319397 -0.458713   1.0  0.001061  2.499114   \n",
      "12.0 -1.827319  182.258713  286.147064 -0.415909   1.0  0.001094  0.999445   \n",
      "13.0 -2.664406  185.353165  279.030884 -0.478431   1.0  0.000000  0.666069   \n",
      "\n",
      "           oer         obs       omf  omf_nobc     emiss       oma  oma_nobc  \\\n",
      "6.0   0.234166  232.938889  0.042923 -1.831373  0.876596  0.034054 -1.843933   \n",
      "7.0   0.250320  224.554657  0.012506  0.160571  0.884946  0.002491  0.154697   \n",
      "8.0   0.275009  218.039169  0.011331  0.172924  0.884130  0.000052  0.165237   \n",
      "9.0   0.340011  213.442047  0.005440  0.136525  0.883060 -0.008613  0.118789   \n",
      "10.0  0.400013  216.721207 -0.004785  0.326576  0.882355 -0.004428  0.317031   \n",
      "12.0  1.000190  232.095428  0.091233  0.868514  0.884039  0.006925  0.795519   \n",
      "13.0  1.501346  242.984177  0.099457  1.345560  0.882171 -0.001459  1.229359   \n",
      "\n",
      "           imp       dfs  \n",
      "6.0  -0.103629 -0.094459  \n",
      "7.0  -0.092662 -0.090511  \n",
      "8.0  -0.120428 -0.116420  \n",
      "9.0  -0.140689 -0.138529  \n",
      "10.0 -0.124849 -0.123994  \n",
      "12.0 -0.284874 -0.274717  \n",
      "13.0 -0.317288 -0.327458  \n"
     ]
    }
   ],
   "source": [
    "# Lista de atributos a serem usados para treinamento\n",
    "atributos = ['lat','lon','elev','time','iuse',\n",
    "             'idqc','inverr','oer','obs','omf','omf_nobc',\n",
    "             'emiss','oma','oma_nobc','imp','dfs']\n",
    "\n",
    "# Define as classes do target discretizado para uso posterior\n",
    "classes = [6.0,7.0,8.0,9.0,10.0,12.0,13.0]\n",
    "\n",
    "X = df_concatenado2[atributos]\n",
    "y = df_concatenado2['nchan']\n",
    "\n",
    "X_train, X_test, y_train, y_test, modelo, y_pred, y_score = train_test_pred_score_RFC(X, y)\n",
    "\n",
    "# Avaliar a precisão do modelo\n",
    "accuracy = accuracy_score(y_test, y_pred)\n",
    "print(\"Acurácia do modelo:\", accuracy)\n",
    "\n",
    "# Calcular a importância das classes do atributo 'nchan' em relação a cada outro atributo\n",
    "class_importances = {}\n",
    "\n",
    "for channel_class in classes:\n",
    "    # Selecionar exemplos apenas para a classe atual\n",
    "    X_class = X_test[y_test == channel_class]\n",
    "    \n",
    "    # Calcular a importância média de cada atributo para a classe atual\n",
    "    class_importances[channel_class] = X_class.mean(axis=0)\n",
    "\n",
    "# Converter o dicionário em DataFrame para facilitar a visualização\n",
    "class_importances_df = pd.DataFrame(class_importances).T\n",
    "print(\"\\nImportância das classes do atributo 'nchan' em relação a cada outro atributo:\")\n",
    "print(class_importances_df)"
   ]
  },
  {
   "cell_type": "code",
   "execution_count": null,
   "id": "f761a266",
   "metadata": {},
   "outputs": [],
   "source": []
  }
 ],
 "metadata": {
  "kernelspec": {
   "display_name": "Python 3 (ipykernel)",
   "language": "python",
   "name": "python3"
  },
  "language_info": {
   "codemirror_mode": {
    "name": "ipython",
    "version": 3
   },
   "file_extension": ".py",
   "mimetype": "text/x-python",
   "name": "python",
   "nbconvert_exporter": "python",
   "pygments_lexer": "ipython3",
   "version": "3.7.6"
  }
 },
 "nbformat": 4,
 "nbformat_minor": 5
}
