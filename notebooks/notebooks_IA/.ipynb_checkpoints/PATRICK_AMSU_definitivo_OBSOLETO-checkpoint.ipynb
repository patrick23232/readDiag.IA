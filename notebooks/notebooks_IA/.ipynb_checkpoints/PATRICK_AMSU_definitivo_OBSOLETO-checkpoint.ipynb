{
 "cells": [
  {
   "cell_type": "code",
   "execution_count": 1,
   "id": "47f73480",
   "metadata": {},
   "outputs": [],
   "source": [
    "import gsidiag as gd\n",
    "from datetime import datetime, timedelta\n",
    "import pandas as pd\n",
    "import matplotlib.pyplot as plt\n",
    "import csv"
   ]
  },
  {
   "cell_type": "code",
   "execution_count": 2,
   "id": "0806f6b0",
   "metadata": {},
   "outputs": [
    {
     "name": "stdout",
     "output_type": "stream",
     "text": [
      "['2020010100', '2020010106']\n"
     ]
    }
   ],
   "source": [
    "DIRdiag = \"/home/patrick/readDiag/data\"\n",
    "\n",
    "varName = \"amsua\"\n",
    "varType = \"n15\"\n",
    "dateIni=\"2020010100\" \n",
    "dateFin=\"2020010106\" \n",
    "nHour = \"6\"          \n",
    "vminOMA = -2.0       \n",
    "vmaxOMA = 2.0        \n",
    "vminSTD = 0.0        \n",
    "vmaxSTD = 14.0       \n",
    "Level = 1000\n",
    "Lay = None           \n",
    "SingleL = \"All\" \n",
    "\n",
    "datei = datetime.strptime(str(dateIni), \"%Y%m%d%H\")\n",
    "datef = datetime.strptime(str(dateFin), \"%Y%m%d%H\")\n",
    "dates = [dates.strftime('%Y%m%d%H') for dates in pd.date_range(datei, datef,freq=\"6H\").tolist()]\n",
    "\n",
    "print(dates)\n"
   ]
  },
  {
   "cell_type": "code",
   "execution_count": 3,
   "id": "c313c705",
   "metadata": {},
   "outputs": [
    {
     "name": "stdout",
     "output_type": "stream",
     "text": [
      "['/home/patrick/readDiag/data/2020010100/diag_amsua_n15_01.2020010100', '/home/patrick/readDiag/data/2020010106/diag_amsua_n15_01.2020010106']\n",
      "\n",
      "['/home/patrick/readDiag/data/2020010100/diag_amsua_n15_03.2020010100', '/home/patrick/readDiag/data/2020010106/diag_amsua_n15_03.2020010106']\n"
     ]
    }
   ],
   "source": [
    "paths, pathsc = [], []\n",
    "\n",
    "OuterL = \"01\"        \n",
    "[paths.append(DIRdiag+\"/\"+dt+\"/diag_amsua_n15_\"+OuterL+\".\"+dt) for dt in dates]\n",
    "\n",
    "OuterLc = \"03\"\n",
    "[pathsc.append(DIRdiag+\"/\"+dt+\"/diag_amsua_n15_\"+OuterLc+\".\"+dt) for dt in dates]\n",
    "\n",
    "print(paths)\n",
    "print(\"\")\n",
    "print(pathsc)"
   ]
  },
  {
   "cell_type": "code",
   "execution_count": 14,
   "id": "f9981ab7",
   "metadata": {},
   "outputs": [
    {
     "name": "stdout",
     "output_type": "stream",
     "text": [
      "\n",
      "Aguarde, o tempo total estimado para a leitura dos arquivos é de 0 minutos e 40 segundos.\n",
      "\n",
      "Reading /home/patrick/readDiag/data/2020010100/diag_amsua_n15_01.2020010100\n",
      " \n",
      ">>> GSI DIAG <<<\n",
      " \n",
      "diag2python :: open() File already open: /home/patrick/readDiag/data/2020010100/diag_amsua_n15_01.2020010100\n",
      "Reading /home/patrick/readDiag/data/2020010106/diag_amsua_n15_01.2020010106\n",
      " \n",
      ">>> GSI DIAG <<<\n",
      " \n",
      "diag2python :: open() File already open: /home/patrick/readDiag/data/2020010106/diag_amsua_n15_01.2020010106\n",
      "[<gsidiag.__main__.read_diag object at 0x7f13f7f85b50>, <gsidiag.__main__.read_diag object at 0x7f14046dee10>]\n",
      "Dados salvos no arquivo /home/patrick/readDiag/data/2020010100/diag_amsua_n15_01.2020010100.csv\n",
      "Dados salvos no arquivo /home/patrick/readDiag/data/2020010106/diag_amsua_n15_01.2020010106.csv\n",
      "Done!\n"
     ]
    }
   ],
   "source": [
    "read = True\n",
    "\n",
    "if read:        \n",
    "    gdf_list = []\n",
    "    print(\"\")\n",
    "    print(\"Aguarde, o tempo total estimado para a leitura dos arquivos é de \"+\n",
    "          str(int((float(len(paths))*20 )/60))+\" minutos e \"+\n",
    "          str(int((float(len(paths))*20 )%60))+\" segundos.\")\n",
    "    print(\"\")\n",
    "    for path, pathc in zip(paths,pathsc):\n",
    "        print(\"Reading \"+path)\n",
    "        gdf = gd.read_diag(path,pathc)\n",
    "        gdf_list.append(gdf)\n",
    "\n",
    "    print(gdf_list)\n",
    "    \n",
    "    pd.set_option('display.max_columns', None)\n",
    "    pd.set_option('display.max_rows', None)\n",
    "    \n",
    "\n",
    "    organizar_campos = ['lat','lon','elev','nchan','time','iuse','idqc','inverr','oer','obs',\n",
    "                     'omf','omf_nobc','emiss','oma','oma_nobc','imp','dfs']\n",
    "    \n",
    "    \n",
    "    for objeto in gdf_list:\n",
    "        \n",
    "        nome_arquivo_csv = str(objeto._diagFile) + \".csv\"\n",
    "\n",
    "        with open(nome_arquivo_csv, mode='w', newline='') as arquivo_csv:\n",
    "\n",
    "            escritor_csv = csv.DictWriter(arquivo_csv, fieldnames=organizar_campos)\n",
    "        \n",
    "            dados = []\n",
    "\n",
    "            dados_dict = {\n",
    "                'lat': objeto.obsInfo[varName].loc[varType].lat,\n",
    "                'lon': objeto.obsInfo[varName].loc[varType].lon,\n",
    "                'elev': objeto.obsInfo[varName].loc[varType].elev,\n",
    "                'nchan': objeto.obsInfo[varName].loc[varType].nchan,\n",
    "                'time': objeto.obsInfo[varName].loc[varType].time,\n",
    "                'iuse': objeto.obsInfo[varName].loc[varType].iuse,\n",
    "                'idqc': objeto.obsInfo[varName].loc[varType].idqc,\n",
    "                'inverr': objeto.obsInfo[varName].loc[varType].inverr,\n",
    "                'oer': objeto.obsInfo[varName].loc[varType].oer,\n",
    "                'obs': objeto.obsInfo[varName].loc[varType].obs,\n",
    "                'omf': objeto.obsInfo[varName].loc[varType].omf,\n",
    "                'omf_nobc': objeto.obsInfo[varName].loc[varType].omf_nobc,\n",
    "                'emiss': objeto.obsInfo[varName].loc[varType].emiss,\n",
    "                'oma': objeto.obsInfo[varName].loc[varType].oma,\n",
    "                'oma_nobc': objeto.obsInfo[varName].loc[varType].oma_nobc,\n",
    "                'imp': objeto.obsInfo[varName].loc[varType].imp,\n",
    "                'dfs': objeto.obsInfo[varName].loc[varType].dfs\n",
    "                }\n",
    "\n",
    "            dados.append(dados_dict)\n",
    "            \n",
    "            df = pd.DataFrame(dados_dict)\n",
    "            \n",
    "            pd.set_option('display.width', None)\n",
    "            \n",
    "            df.to_csv(arquivo_csv, index=True)\n",
    "                \n",
    "            arquivo_csv.close()   \n",
    "        \n",
    "        print(f'Dados salvos no arquivo {nome_arquivo_csv}')\n",
    "        \n",
    "    print(\"Done!\")    "
   ]
  },
  {
   "cell_type": "code",
   "execution_count": null,
   "id": "adae150f",
   "metadata": {
    "scrolled": false
   },
   "outputs": [],
   "source": [
    "gd.read_diag.tocsv(gdf_list, varName=\"amsua\", varType=\"n15\", dateIni=dateIni, dateFin=dateFin, nHour=\"06\", Level=None, Lay = 0, SingleL=\"None\")"
   ]
  },
  {
   "cell_type": "markdown",
   "id": "b337a4a6",
   "metadata": {},
   "source": [
    "A variável gdf_list é uma lista de dataframes contendo os dados de cada arquivo diagnóstico. Para trabalhar com um único tempo basta informar a lista com o indice fixo, por exemplo: gdf_list[0]. "
   ]
  },
  {
   "cell_type": "code",
   "execution_count": null,
   "id": "207fd826",
   "metadata": {},
   "outputs": [],
   "source": [
    "gdf_list\n",
    "gdf_list1 = [ ]\n",
    "gdf_list1.append(gdf_list[0])"
   ]
  },
  {
   "cell_type": "code",
   "execution_count": null,
   "id": "e7aef3e7",
   "metadata": {},
   "outputs": [],
   "source": []
  },
  {
   "cell_type": "code",
   "execution_count": null,
   "id": "27d05dfe",
   "metadata": {},
   "outputs": [],
   "source": [
    "gdf_list1"
   ]
  },
  {
   "cell_type": "code",
   "execution_count": 6,
   "id": "0bd7c472",
   "metadata": {},
   "outputs": [],
   "source": [
    "tidx =1"
   ]
  },
  {
   "cell_type": "code",
   "execution_count": 7,
   "id": "f2e1dcb4",
   "metadata": {},
   "outputs": [
    {
     "name": "stdout",
     "output_type": "stream",
     "text": [
      "Variable Name : amsua\n",
      "              └── kx => n15  \n",
      "\n"
     ]
    }
   ],
   "source": [
    "gdf_list[tidx].pfileinfo()"
   ]
  },
  {
   "cell_type": "code",
   "execution_count": null,
   "id": "8eeba499",
   "metadata": {},
   "outputs": [],
   "source": [
    "gdf_list"
   ]
  },
  {
   "cell_type": "code",
   "execution_count": null,
   "id": "583b1859",
   "metadata": {},
   "outputs": [],
   "source": []
  },
  {
   "cell_type": "code",
   "execution_count": null,
   "id": "a144965b",
   "metadata": {},
   "outputs": [],
   "source": [
    "varName = \"amsua\"\n",
    "varType = \"n15\"\n",
    "print(\"Variável: \", varName)\n",
    "print(\"VarType: \", varType)\n",
    "print(\"DataIni\", dateIni)\n",
    "print(\"DataFin: \", dateFin)\n",
    "print(\"nHour: \", nHour)\n"
   ]
  },
  {
   "cell_type": "code",
   "execution_count": null,
   "id": "c6858ccb",
   "metadata": {
    "scrolled": false
   },
   "outputs": [],
   "source": [
    "i=0\n",
    "print(dates[i])\n",
    "gd.plot_diag.statcount(gdf_list,  varName=varName, varType=varType, noiqc=False, dateIni=dateIni, dateFin=dateFin, nHour=nHour, figTS=True, figMap=True)"
   ]
  },
  {
   "cell_type": "code",
   "execution_count": null,
   "id": "b687ba10",
   "metadata": {},
   "outputs": [],
   "source": [
    "i=1\n",
    "print(dates[i])\n",
    "gd.plot_diag.statcount(gdf_list1,  varName=varName, varType=varType, noiqc=True, dateIni=dates[i], dateFin=dates[i], nHour=nHour, figTS=False, figMap=True)"
   ]
  },
  {
   "cell_type": "markdown",
   "id": "4c00bebe",
   "metadata": {},
   "source": [
    "Para acessar uma variável específica."
   ]
  },
  {
   "cell_type": "code",
   "execution_count": null,
   "id": "ca19af7d",
   "metadata": {
    "scrolled": false
   },
   "outputs": [],
   "source": [
    "print()\n",
    "varName = \"amsua\"\n",
    "varType = \"n15\"\n",
    "tidx =1\n",
    "print(\"Variável: \", varName)\n",
    "gdf_list[tidx].obsInfo[varName]"
   ]
  },
  {
   "cell_type": "markdown",
   "id": "1ed0a290",
   "metadata": {},
   "source": [
    "Para acessar variável e tipo específicos."
   ]
  },
  {
   "cell_type": "code",
   "execution_count": null,
   "id": "279ebf80",
   "metadata": {},
   "outputs": [],
   "source": [
    "print()\n",
    "tidx =1\n",
    "print(\"Variável: \", varName, \" e Tipo: \", varType)\n",
    "gdf_list[tidx].obsInfo[varName].loc[varType]"
   ]
  },
  {
   "cell_type": "markdown",
   "id": "84b52845",
   "metadata": {},
   "source": [
    "varType pode ser uma lista, ex: varType=[220,221]."
   ]
  },
  {
   "cell_type": "code",
   "execution_count": null,
   "id": "bda884e9",
   "metadata": {},
   "outputs": [],
   "source": [
    "print()\n",
    "tidx =0\n",
    "print()\n",
    "varName = \"amsua\"\n",
    "varType = \"n15\"\n",
    "print(\"Variável: \", varName, \" e Tipo: \", varType)\n",
    "gdf_list[tidx].obsInfo[varName].loc[varType]"
   ]
  },
  {
   "cell_type": "markdown",
   "id": "9e60ca0f",
   "metadata": {},
   "source": [
    "Para acessar o valor da observação:"
   ]
  },
  {
   "cell_type": "code",
   "execution_count": null,
   "id": "d2e8eca6",
   "metadata": {},
   "outputs": [],
   "source": [
    "print()\n",
    "tidx =1\n",
    "print()\n",
    "varName = \"amsua\"\n",
    "varType = \"n15\"\n",
    "print(\"Variável: \", varName, \" e Tipo: \", varType)\n",
    "gdf_list[tidx].obsInfo[varName].loc[varType]"
   ]
  },
  {
   "cell_type": "code",
   "execution_count": null,
   "id": "b96566dc",
   "metadata": {},
   "outputs": [],
   "source": [
    "gd.plot_diag.statcount(gdf_list,  varName=varName, varType=varType, noiqc=False, dateIni=dateIni, dateFin=dateFin, nHour=nHour, figTS=True, figMap=False)"
   ]
  },
  {
   "cell_type": "markdown",
   "id": "eff4857f",
   "metadata": {},
   "source": [
    "Utilizando as funções da classe plot_diag são paresentados abaixo os comandos para gerar diversos tipos de figuras."
   ]
  },
  {
   "cell_type": "markdown",
   "id": "795a8fd3",
   "metadata": {},
   "source": [
    "Gerando a figura com os valores das observações (param = \"obs\") para a variável e tipo selecionados. "
   ]
  },
  {
   "cell_type": "code",
   "execution_count": null,
   "id": "6ff2504a",
   "metadata": {
    "scrolled": false
   },
   "outputs": [],
   "source": [
    "print(varName)\n",
    "param = \"imp\"\n",
    "gd.plot_diag.plot(gdf_list[tidx],varName=varName,varType=varType,param=param,legend='true')"
   ]
  },
  {
   "cell_type": "markdown",
   "id": "8994ccf3",
   "metadata": {},
   "source": [
    "Para salvar a figura, execute os comandos a seguir:"
   ]
  },
  {
   "cell_type": "code",
   "execution_count": null,
   "id": "fb7e18c0",
   "metadata": {},
   "outputs": [],
   "source": [
    "figname=varName+\"_\"+param+\"_\"+\"plot.png\"\n",
    "plt.tight_layout()\n",
    "plt.savefig(figname)\n",
    "plt.close()"
   ]
  },
  {
   "cell_type": "code",
   "execution_count": null,
   "id": "8e82598c",
   "metadata": {
    "scrolled": false
   },
   "outputs": [],
   "source": [
    "varTypes = ['n15']\n",
    "idschar=\"_\".join([str(item) for item in varTypes])\n",
    "gd.plot_diag.ptmap(gdf_list[tidx],varName=varName,varType=varTypes)\n",
    "figname=varName+\"_\"+idschar+\"_\"+\"ptmap.png\"\n",
    "plt.tight_layout()\n",
    "plt.savefig(figname)"
   ]
  },
  {
   "cell_type": "code",
   "execution_count": null,
   "id": "565d2c70",
   "metadata": {},
   "outputs": [],
   "source": [
    "varNames=['amsua']\n",
    "idschar=\"_\".join([str(item) for item in varNames])\n",
    "gd.plot_diag.pvmap(gdf_list[tidx],varName=varNames,mask='iuse==1')\n",
    "figname=idschar+\"_pvmap.png\"\n",
    "plt.tight_layout()\n",
    "plt.savefig(figname)"
   ]
  },
  {
   "cell_type": "code",
   "execution_count": null,
   "id": "0550ad59",
   "metadata": {},
   "outputs": [],
   "source": []
  },
  {
   "cell_type": "code",
   "execution_count": null,
   "id": "1c1e4d6f",
   "metadata": {},
   "outputs": [],
   "source": [
    "gd.plot_diag.pcount(gdf_list[tidx],varName)"
   ]
  },
  {
   "cell_type": "code",
   "execution_count": null,
   "id": "9fea336f",
   "metadata": {},
   "outputs": [],
   "source": [
    "gd.plot_diag.vcount(gdf_list[tidx])"
   ]
  },
  {
   "cell_type": "code",
   "execution_count": null,
   "id": "14da0394",
   "metadata": {
    "scrolled": false
   },
   "outputs": [],
   "source": [
    "gd.plot_diag.kxcount(gdf_list[tidx])"
   ]
  },
  {
   "cell_type": "markdown",
   "id": "b8a7a852",
   "metadata": {},
   "source": [
    "<a id='time_series'></a>\n",
    "A seguir são apresentadas as opções de figuras com a função time_series, incluída na classe plot_diag. Inicialmente é gerada uma figura com os parâmetros já fixados acima. Em seguida são apresentadas figuras alterando os parâmetros _Level_, _Lay_ e _SingleL_."
   ]
  },
  {
   "cell_type": "code",
   "execution_count": null,
   "id": "a01dd9ac",
   "metadata": {
    "scrolled": false
   },
   "outputs": [],
   "source": [
    "print(\"varName= \", varName)\n",
    "print(\"varType= \", varType)\n",
    "print(\"dateIni= \", dateIni)\n",
    "print(\"dateFin= \", dateFin)\n",
    "print(\"nHour= \", nHour)\n",
    "print(\"vminOMA= \", vminOMA)\n",
    "print(\"vmaxOMA= \", vmaxOMA)\n",
    "print(\"vminSTD= \", vminSTD)\n",
    "print(\"vmaxSTD= \", vmaxSTD)\n",
    "\n",
    "Lay=0\n",
    "\n",
    "print(Level)\n",
    "print(Lay)\n",
    "print(SingleL)\n",
    "gd.plot_diag.time_series(gdf_list,varName=varName, varType=varType, dateIni=dateIni, dateFin=dateFin, nHour=nHour, vminOMA=vminOMA, vmaxOMA=vmaxOMA, vminSTD=vminSTD, vmaxSTD=vmaxSTD, Level=Level, Lay=Lay, SingleL=SingleL,Clean=False)\n",
    "plt.show()"
   ]
  },
  {
   "cell_type": "markdown",
   "id": "0dcfdb8f",
   "metadata": {},
   "source": [
    "No caso anterior, Level estava fixo em 1000 hPa com SingleL igual a \"All\", ou seja, toda a atmosfera foi considerada como uma única camada e o valor 1000hPa funciona apenas como uma flag para indicar que não existe variação em altura. Ainda com Level = 1000, pode-se usar SingleL = \"OneL\" para uma única camada em torno do valor de Level, neste caso 1000 hPa, variando entre Level-Lay e Level+Lay (Na definição de variáveis Lay foi fixado com 15 hPa, no caso de ser None, o valor padrão de 50 hPa é utilizado.)"
   ]
  },
  {
   "cell_type": "code",
   "execution_count": null,
   "id": "286135f2",
   "metadata": {
    "scrolled": false
   },
   "outputs": [],
   "source": [
    "SingleL = SingleL\n",
    "Lay = Lay\n",
    "gd.plot_diag.time_series(gdf_list,varName=varName, varType=varType, dateIni=dateIni, dateFin=dateFin, nHour=nHour, vminOMA=vminOMA, vmaxOMA=vmaxOMA, vminSTD=vminSTD, vmaxSTD=vmaxSTD, Level=Level, Lay=Lay, SingleL=SingleL,Clean=False)\n",
    "plt.show()"
   ]
  },
  {
   "cell_type": "markdown",
   "id": "2356b082",
   "metadata": {},
   "source": [
    "Observe como no exemplo acima a quantidade de dados diminui, uma vez que agora está sendo utilizada uma camada entre 1015 e 985 hPa."
   ]
  },
  {
   "cell_type": "markdown",
   "id": "05435fc2",
   "metadata": {},
   "source": [
    "Agora vamos alterar para não fixar em um único nível ou camada, ou seja, altear a variável Level para None ou \"Zlevs\". A opção None busca os dados em cada nível existente nos arquivos e faz a figura para todos esses níveis, porém os valores no eixo Y são apenas dos níveis padrões. é importante esclarecer que os chamados níveis padrões estão definidos na função read_diag e podem ser acessados com:"
   ]
  },
  {
   "cell_type": "code",
   "execution_count": null,
   "id": "e3c9a7d8",
   "metadata": {},
   "outputs": [],
   "source": [
    "gdf_list[tidx].zlevs"
   ]
  },
  {
   "cell_type": "markdown",
   "id": "f5ae58d2",
   "metadata": {},
   "source": [
    "Estes são os níveis utilizados quando opta-se por Level = \"Zlevs\"."
   ]
  },
  {
   "cell_type": "code",
   "execution_count": null,
   "id": "3fc70349",
   "metadata": {},
   "outputs": [],
   "source": [
    "Level = \"Zlevs\"\n",
    "Lay = 15\n",
    "gd.plot_diag.time_series(gdf_list,varName=varName, varType=varType, dateIni=dateIni, dateFin=dateFin, nHour=nHour, vminOMA=vminOMA, vmaxOMA=vmaxOMA, vminSTD=vminSTD, vmaxSTD=vmaxSTD, Level=Level, Lay=Lay, SingleL=SingleL,Clean=False)\n",
    "plt.show()"
   ]
  },
  {
   "cell_type": "markdown",
   "id": "9e254bcc",
   "metadata": {},
   "source": [
    "Se Lay = None, então as camadas são preenchidas variando entre o valor médio considerando as camadas inferiores e superiores. Por exemplo, para o nível de 700 hPa é construída uma camada entre 750 e 650 hPa, uma vez que os níveis inferiores e superiores são 800 e 600 hPa, respectivamente. Para o nível de 1000 hPa a camada varia entre 1050 e 950 hPa."
   ]
  },
  {
   "cell_type": "code",
   "execution_count": null,
   "id": "ab13e07d",
   "metadata": {},
   "outputs": [],
   "source": [
    "Level = \"Zlevs\"\n",
    "Lay = None\n",
    "gd.plot_diag.time_series(gdf_list,varName=varName, varType=varType, dateIni=dateIni, dateFin=dateFin, nHour=nHour, vminOMA=vminOMA, vmaxOMA=vmaxOMA, vminSTD=vminSTD, vmaxSTD=vmaxSTD, Level=Level, Lay=Lay, SingleL=SingleL,Clean=False)\n",
    "plt.show()"
   ]
  },
  {
   "cell_type": "markdown",
   "id": "b401c3e3",
   "metadata": {},
   "source": [
    "Finalmente, existe a opção de considerar todos os níveis, ou seja, Level = None. Esta opção traz certa dificuldade na visualização da informação na figura por conta da grande quatidade de níveis e distribuição dos dados em todos os níveis."
   ]
  },
  {
   "cell_type": "code",
   "execution_count": null,
   "id": "23e09c86",
   "metadata": {
    "scrolled": false
   },
   "outputs": [],
   "source": [
    "Level = None\n",
    "gd.plot_diag.time_series(gdf_list,varName=varName, varType=varType, dateIni=dateIni, dateFin=dateFin, nHour=nHour, vminOMA=vminOMA, vmaxOMA=vmaxOMA, vminSTD=vminSTD, vmaxSTD=vmaxSTD, Level=Level, Lay=Lay, SingleL=SingleL,Clean=False)\n",
    "plt.show()"
   ]
  },
  {
   "cell_type": "markdown",
   "id": "1fe94529",
   "metadata": {},
   "source": [
    "O **_GSIDIAG_** é um pacote em desenvolvimento e com constante atualização. Desta forma, este documento pode ser alterado e adicionadas novas funcionalidades com o decorrer do desenvolvimento do pacote."
   ]
  },
  {
   "cell_type": "code",
   "execution_count": null,
   "id": "c72f9876",
   "metadata": {},
   "outputs": [],
   "source": []
  },
  {
   "cell_type": "code",
   "execution_count": null,
   "id": "be4b545f",
   "metadata": {},
   "outputs": [],
   "source": []
  }
 ],
 "metadata": {
  "kernelspec": {
   "display_name": "Python 3 (ipykernel)",
   "language": "python",
   "name": "python3"
  },
  "language_info": {
   "codemirror_mode": {
    "name": "ipython",
    "version": 3
   },
   "file_extension": ".py",
   "mimetype": "text/x-python",
   "name": "python",
   "nbconvert_exporter": "python",
   "pygments_lexer": "ipython3",
   "version": "3.7.6"
  }
 },
 "nbformat": 4,
 "nbformat_minor": 5
}
