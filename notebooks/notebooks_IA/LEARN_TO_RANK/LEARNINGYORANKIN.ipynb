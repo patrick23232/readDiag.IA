{
 "cells": [
  {
   "cell_type": "code",
   "execution_count": 1,
   "id": "9380ba60",
   "metadata": {},
   "outputs": [],
   "source": [
    "from sklearn.datasets import make_classification\n",
    "import numpy as np\n",
    "\n",
    "import xgboost as xgb\n",
    "\n",
    "# Make a synthetic ranking dataset for demonstration\n",
    "seed = 1994\n",
    "X, y = make_classification(random_state=seed)\n",
    "rng = np.random.default_rng(seed)\n",
    "n_query_groups = 3\n",
    "qid = rng.integers(0, n_query_groups, size=X.shape[0])\n",
    "\n",
    "# Sort the inputs based on query index\n",
    "sorted_idx = np.argsort(qid)\n",
    "X = X[sorted_idx, :]\n",
    "y = y[sorted_idx]\n",
    "qid = qid[sorted_idx]"
   ]
  },
  {
   "cell_type": "code",
   "execution_count": 2,
   "id": "79410c11",
   "metadata": {},
   "outputs": [
    {
     "name": "stdout",
     "output_type": "stream",
     "text": [
      "[[-0.43894112 -0.51836695 -0.41465193 ...  0.18095025  1.12992152\n",
      "  -1.04023331]\n",
      " [ 0.19813072 -3.0744766   0.93392721 ...  0.25081308 -0.22527108\n",
      "  -0.12086963]\n",
      " [-0.62152966  0.73251596  0.26901922 ... -0.33976766 -0.495313\n",
      "   0.18567782]\n",
      " ...\n",
      " [ 0.81527591 -0.66816723  1.70907199 ...  0.33829174 -0.4691835\n",
      "  -1.51036055]\n",
      " [ 0.21670866 -0.46333069 -0.56772849 ...  0.99016322 -0.39389604\n",
      "   0.34042155]\n",
      " [ 0.13390775  1.42493036 -0.0037121  ...  1.25748579 -0.22658676\n",
      "   0.14831688]]\n"
     ]
    }
   ],
   "source": [
    "print(X)"
   ]
  },
  {
   "cell_type": "code",
   "execution_count": 3,
   "id": "96e04f4e",
   "metadata": {},
   "outputs": [
    {
     "name": "stdout",
     "output_type": "stream",
     "text": [
      "[1 0 1 1 0 1 0 1 1 0 0 1 0 1 0 0 0 0 1 1 1 0 1 0 1 0 0 0 1 1 0 0 0 0 0 1 0\n",
      " 0 0 0 0 0 1 0 1 0 0 1 1 0 1 1 0 1 1 0 0 0 0 1 1 1 1 1 1 1 1 0 1 1 0 0 1 0\n",
      " 0 1 0 1 1 1 1 0 0 1 1 1 0 1 0 1 1 0 1 0 1 1 0 0 1 0]\n",
      "[0 0 0 0 0 0 0 0 0 0 0 0 0 0 0 0 0 0 0 0 0 0 0 0 0 1 1 1 1 1 1 1 1 1 1 1 1\n",
      " 1 1 1 1 1 1 1 1 1 1 1 1 1 1 1 1 1 1 1 1 1 1 1 1 1 2 2 2 2 2 2 2 2 2 2 2 2\n",
      " 2 2 2 2 2 2 2 2 2 2 2 2 2 2 2 2 2 2 2 2 2 2 2 2 2 2]\n"
     ]
    }
   ],
   "source": [
    "print(y)\n",
    "print(qid)"
   ]
  },
  {
   "cell_type": "code",
   "execution_count": 4,
   "id": "4a1597a7",
   "metadata": {},
   "outputs": [
    {
     "name": "stdout",
     "output_type": "stream",
     "text": [
      "[15:29:12] WARNING: ../src/learner.cc:627: \n",
      "Parameters: { \"lambdarank_num_pair_per_sample\", \"lambdarank_pair_method\" } might not be used.\n",
      "\n",
      "  This could be a false alarm, with some parameters getting used by language bindings but\n",
      "  then being mistakenly passed down to XGBoost core, or some parameter actually being used\n",
      "  but getting flagged wrongly here. Please open an issue if you find any such cases.\n",
      "\n",
      "\n"
     ]
    },
    {
     "data": {
      "text/plain": [
       "XGBRanker(base_score=0.5, booster='gbtree', callbacks=None, colsample_bylevel=1,\n",
       "          colsample_bynode=1, colsample_bytree=1, early_stopping_rounds=None,\n",
       "          enable_categorical=False, eval_metric=None, gamma=0, gpu_id=-1,\n",
       "          grow_policy='depthwise', importance_type=None,\n",
       "          interaction_constraints='', lambdarank_num_pair_per_sample=8,\n",
       "          lambdarank_pair_method='topk', learning_rate=0.300000012, max_bin=256,\n",
       "          max_cat_to_onehot=4, max_delta_step=0, max_depth=6, max_leaves=0,\n",
       "          min_child_weight=1, missing=nan, monotone_constraints='()',\n",
       "          n_estimators=100, n_jobs=0, num_parallel_tree=1,\n",
       "          objective='rank:ndcg', predictor='auto', ...)"
      ]
     },
     "execution_count": 4,
     "metadata": {},
     "output_type": "execute_result"
    }
   ],
   "source": [
    "ranker = xgb.XGBRanker(tree_method=\"hist\", lambdarank_num_pair_per_sample=8, objective=\"rank:ndcg\", lambdarank_pair_method=\"topk\")\n",
    "ranker.fit(X, y, qid=qid)"
   ]
  },
  {
   "cell_type": "code",
   "execution_count": 5,
   "id": "6b4fc459",
   "metadata": {},
   "outputs": [],
   "source": [
    "import numpy as np\n",
    "\n",
    "def ndcg_score(y_true, y_pred, k=None):\n",
    "    # Calcula o DCG para as previsões\n",
    "    def dcg_at_k(y_true, y_pred, k=None):\n",
    "        order = np.argsort(y_pred)[::-1]\n",
    "        y_true = np.take(y_true, order[:k])\n",
    "        gains = 2 ** y_true - 1\n",
    "        discounts = np.log2(np.arange(len(y_true)) + 2)\n",
    "        return np.sum(gains / discounts)\n",
    "\n",
    "    # Calcula o ideal DCG (IDCG)\n",
    "    def idcg_at_k(y_true, k=None):\n",
    "        ideal_order = np.argsort(y_true)[::-1]\n",
    "        y_true = np.take(y_true, ideal_order[:k])\n",
    "        gains = 2 ** y_true - 1\n",
    "        discounts = np.log2(np.arange(len(y_true)) + 2)\n",
    "        return np.sum(gains / discounts)\n",
    "\n",
    "    # Calcula o NDCG\n",
    "    dcg = dcg_at_k(y_true, y_pred, k)\n",
    "    idcg = idcg_at_k(y_true, k)\n",
    "    if idcg == 0:\n",
    "        return 0\n",
    "    return dcg / idcg"
   ]
  },
  {
   "cell_type": "code",
   "execution_count": 6,
   "id": "1b3adbf0",
   "metadata": {},
   "outputs": [
    {
     "name": "stdout",
     "output_type": "stream",
     "text": [
      "[15:29:12] WARNING: ../src/learner.cc:627: \n",
      "Parameters: { \"lambdarank_num_pair_per_sample\", \"lambdarank_pair_method\" } might not be used.\n",
      "\n",
      "  This could be a false alarm, with some parameters getting used by language bindings but\n",
      "  then being mistakenly passed down to XGBoost core, or some parameter actually being used\n",
      "  but getting flagged wrongly here. Please open an issue if you find any such cases.\n",
      "\n",
      "\n"
     ]
    }
   ],
   "source": [
    "import pandas as pd\n",
    "from sklearn.metrics import make_scorer\n",
    "df = pd.DataFrame(X, columns=[str(i) for i in range(X.shape[1])])\n",
    "df[\"qid\"] = qid[sorted_idx]\n",
    "ranker.fit(X, y, qid=qid)  # No need to pass qid as a separate argument\n",
    "\n",
    "ndcg_scorer = make_scorer(ndcg_score)\n"
   ]
  },
  {
   "cell_type": "code",
   "execution_count": 7,
   "id": "9ba8d03e",
   "metadata": {},
   "outputs": [
    {
     "name": "stdout",
     "output_type": "stream",
     "text": [
      "[ 1.3469949   1.3469949   1.3469949   1.3469949   1.3469949   1.3469949\n",
      "  1.3469949   1.3469949   1.3469949   1.3469949   1.3469949   1.3469949\n",
      "  1.3469949   1.3469949   1.3469949   1.3469949   1.3469949   1.3469949\n",
      "  1.3469949   1.3469949   1.3469949   1.3469949   1.3469949   1.3469949\n",
      "  1.3469949   1.3469949   1.3469949   1.3469949   1.3469949   1.3469949\n",
      "  1.3469949   1.3469949   1.3469949   1.3469949   1.3469949   1.3469949\n",
      "  1.3469949   1.3469949   1.1674438   1.0147219   0.585591    0.585591\n",
      "  0.585591    0.585591    0.585591    0.585591   -0.13086998 -0.13086998\n",
      " -0.13086998 -0.3511264  -0.3511264  -0.3511264  -0.3511264  -0.3511264\n",
      " -0.3511264  -0.3511264  -0.3511264  -0.3511264  -0.3511264  -0.3511264\n",
      " -0.3511264  -0.3511264  -0.3511264  -0.3511264  -0.3511264  -0.3511264\n",
      " -0.3511264  -0.3511264  -0.3511264  -0.3511264  -0.3511264  -0.3511264\n",
      " -0.3511264  -0.3511264  -0.3511264  -0.3511264  -0.3511264  -0.3511264\n",
      " -0.3511264  -0.3511264  -0.3511264  -0.3511264  -0.3511264  -0.3511264\n",
      " -0.3511264  -0.3511264  -0.3511264  -0.3511264  -0.3511264  -0.3511264\n",
      " -0.3511264  -0.3511264  -0.3511264  -0.3511264  -0.3511264  -0.3511264\n",
      " -0.3511264  -0.3511264  -0.3511264  -0.3511264 ]\n"
     ]
    }
   ],
   "source": [
    "scores = ranker.predict(X)\n",
    "sorted_idx = np.argsort(scores)[::-1]\n",
    "# Sort the relevance scores from most relevant to least relevant\n",
    "scores = scores[sorted_idx]\n",
    "\n",
    "print(scores)"
   ]
  },
  {
   "cell_type": "code",
   "execution_count": null,
   "id": "e91e9071",
   "metadata": {},
   "outputs": [],
   "source": []
  }
 ],
 "metadata": {
  "kernelspec": {
   "display_name": "Python 3 (ipykernel)",
   "language": "python",
   "name": "python3"
  },
  "language_info": {
   "codemirror_mode": {
    "name": "ipython",
    "version": 3
   },
   "file_extension": ".py",
   "mimetype": "text/x-python",
   "name": "python",
   "nbconvert_exporter": "python",
   "pygments_lexer": "ipython3",
   "version": "3.7.6"
  }
 },
 "nbformat": 4,
 "nbformat_minor": 5
}
